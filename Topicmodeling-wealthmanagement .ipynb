{
 "cells": [
  {
   "cell_type": "code",
   "execution_count": 1,
   "metadata": {},
   "outputs": [],
   "source": [
    "import numpy as np\n",
    "import pandas as pd\n",
    "import matplotlib.pyplot as plt"
   ]
  },
  {
   "cell_type": "code",
   "execution_count": 2,
   "metadata": {},
   "outputs": [
    {
     "data": {
      "text/html": [
       "<div>\n",
       "<style scoped>\n",
       "    .dataframe tbody tr th:only-of-type {\n",
       "        vertical-align: middle;\n",
       "    }\n",
       "\n",
       "    .dataframe tbody tr th {\n",
       "        vertical-align: top;\n",
       "    }\n",
       "\n",
       "    .dataframe thead th {\n",
       "        text-align: right;\n",
       "    }\n",
       "</style>\n",
       "<table border=\"1\" class=\"dataframe\">\n",
       "  <thead>\n",
       "    <tr style=\"text-align: right;\">\n",
       "      <th></th>\n",
       "      <th>date</th>\n",
       "      <th>username</th>\n",
       "      <th>to</th>\n",
       "      <th>replies</th>\n",
       "      <th>retweets</th>\n",
       "      <th>favorites</th>\n",
       "      <th>text</th>\n",
       "      <th>geo</th>\n",
       "      <th>mentions</th>\n",
       "      <th>hashtags</th>\n",
       "      <th>id</th>\n",
       "      <th>permalink</th>\n",
       "    </tr>\n",
       "  </thead>\n",
       "  <tbody>\n",
       "    <tr>\n",
       "      <th>0</th>\n",
       "      <td>2019-12-31 23:45:02</td>\n",
       "      <td>HT_Great_Lakes</td>\n",
       "      <td>NaN</td>\n",
       "      <td>0</td>\n",
       "      <td>1</td>\n",
       "      <td>1</td>\n",
       "      <td>Thinking about transitioning your business? Yo...</td>\n",
       "      <td>NaN</td>\n",
       "      <td>NaN</td>\n",
       "      <td>#wealthmanagement #hightowergreatlakes #busine...</td>\n",
       "      <td>1212157749250924544</td>\n",
       "      <td>https://twitter.com/HT_Great_Lakes/status/1212...</td>\n",
       "    </tr>\n",
       "    <tr>\n",
       "      <th>1</th>\n",
       "      <td>2019-12-31 23:31:32</td>\n",
       "      <td>ripsawwealth</td>\n",
       "      <td>NaN</td>\n",
       "      <td>0</td>\n",
       "      <td>2</td>\n",
       "      <td>3</td>\n",
       "      <td>http://RipsawWealth.com #2020WillBeTheYearFor ...</td>\n",
       "      <td>NaN</td>\n",
       "      <td>NaN</td>\n",
       "      <td>#2020WillBeTheYearFor #HappyNewYear #happynewy...</td>\n",
       "      <td>1212154351281508352</td>\n",
       "      <td>https://twitter.com/ripsawwealth/status/121215...</td>\n",
       "    </tr>\n",
       "    <tr>\n",
       "      <th>2</th>\n",
       "      <td>2019-12-31 23:00:40</td>\n",
       "      <td>TedHunter1</td>\n",
       "      <td>NaN</td>\n",
       "      <td>0</td>\n",
       "      <td>0</td>\n",
       "      <td>0</td>\n",
       "      <td>#wealthmanagement #maxous</td>\n",
       "      <td>NaN</td>\n",
       "      <td>NaN</td>\n",
       "      <td>#wealthmanagement #maxous</td>\n",
       "      <td>1212146581950128134</td>\n",
       "      <td>https://twitter.com/TedHunter1/status/12121465...</td>\n",
       "    </tr>\n",
       "    <tr>\n",
       "      <th>3</th>\n",
       "      <td>2019-12-31 22:45:05</td>\n",
       "      <td>RAlexJimenez</td>\n",
       "      <td>NaN</td>\n",
       "      <td>0</td>\n",
       "      <td>0</td>\n",
       "      <td>0</td>\n",
       "      <td>#WealthManagement and private banking trends: ...</td>\n",
       "      <td>NaN</td>\n",
       "      <td>@FinTechMagazine</td>\n",
       "      <td>#WealthManagement #wealthtech #fintech #finserv</td>\n",
       "      <td>1212142660053557249</td>\n",
       "      <td>https://twitter.com/RAlexJimenez/status/121214...</td>\n",
       "    </tr>\n",
       "    <tr>\n",
       "      <th>4</th>\n",
       "      <td>2019-12-31 22:43:01</td>\n",
       "      <td>findadvisor</td>\n",
       "      <td>NaN</td>\n",
       "      <td>0</td>\n",
       "      <td>0</td>\n",
       "      <td>0</td>\n",
       "      <td>Is Your Money Ready for Retirement? #Retiremen...</td>\n",
       "      <td>NaN</td>\n",
       "      <td>NaN</td>\n",
       "      <td>#RetirementPlan #FinancialPlan #WealthManageme...</td>\n",
       "      <td>1212142141780054016</td>\n",
       "      <td>https://twitter.com/findadvisor/status/1212142...</td>\n",
       "    </tr>\n",
       "  </tbody>\n",
       "</table>\n",
       "</div>"
      ],
      "text/plain": [
       "                  date        username   to  replies  retweets  favorites  \\\n",
       "0  2019-12-31 23:45:02  HT_Great_Lakes  NaN        0         1          1   \n",
       "1  2019-12-31 23:31:32    ripsawwealth  NaN        0         2          3   \n",
       "2  2019-12-31 23:00:40      TedHunter1  NaN        0         0          0   \n",
       "3  2019-12-31 22:45:05    RAlexJimenez  NaN        0         0          0   \n",
       "4  2019-12-31 22:43:01     findadvisor  NaN        0         0          0   \n",
       "\n",
       "                                                text  geo          mentions  \\\n",
       "0  Thinking about transitioning your business? Yo...  NaN               NaN   \n",
       "1  http://RipsawWealth.com #2020WillBeTheYearFor ...  NaN               NaN   \n",
       "2                          #wealthmanagement #maxous  NaN               NaN   \n",
       "3  #WealthManagement and private banking trends: ...  NaN  @FinTechMagazine   \n",
       "4  Is Your Money Ready for Retirement? #Retiremen...  NaN               NaN   \n",
       "\n",
       "                                            hashtags                   id  \\\n",
       "0  #wealthmanagement #hightowergreatlakes #busine...  1212157749250924544   \n",
       "1  #2020WillBeTheYearFor #HappyNewYear #happynewy...  1212154351281508352   \n",
       "2                          #wealthmanagement #maxous  1212146581950128134   \n",
       "3    #WealthManagement #wealthtech #fintech #finserv  1212142660053557249   \n",
       "4  #RetirementPlan #FinancialPlan #WealthManageme...  1212142141780054016   \n",
       "\n",
       "                                           permalink  \n",
       "0  https://twitter.com/HT_Great_Lakes/status/1212...  \n",
       "1  https://twitter.com/ripsawwealth/status/121215...  \n",
       "2  https://twitter.com/TedHunter1/status/12121465...  \n",
       "3  https://twitter.com/RAlexJimenez/status/121214...  \n",
       "4  https://twitter.com/findadvisor/status/1212142...  "
      ]
     },
     "execution_count": 2,
     "metadata": {},
     "output_type": "execute_result"
    }
   ],
   "source": [
    "import pandas as pd\n",
    "df = pd.read_csv('combined_csv_wealthmanagement.csv')\n",
    "df.head()"
   ]
  },
  {
   "cell_type": "code",
   "execution_count": 3,
   "metadata": {},
   "outputs": [
    {
     "data": {
      "text/html": [
       "<div>\n",
       "<style scoped>\n",
       "    .dataframe tbody tr th:only-of-type {\n",
       "        vertical-align: middle;\n",
       "    }\n",
       "\n",
       "    .dataframe tbody tr th {\n",
       "        vertical-align: top;\n",
       "    }\n",
       "\n",
       "    .dataframe thead th {\n",
       "        text-align: right;\n",
       "    }\n",
       "</style>\n",
       "<table border=\"1\" class=\"dataframe\">\n",
       "  <thead>\n",
       "    <tr style=\"text-align: right;\">\n",
       "      <th></th>\n",
       "      <th>date</th>\n",
       "      <th>text</th>\n",
       "    </tr>\n",
       "  </thead>\n",
       "  <tbody>\n",
       "    <tr>\n",
       "      <th>0</th>\n",
       "      <td>2019-12-31 23:45:02</td>\n",
       "      <td>Thinking about transitioning your business? Yo...</td>\n",
       "    </tr>\n",
       "    <tr>\n",
       "      <th>1</th>\n",
       "      <td>2019-12-31 23:31:32</td>\n",
       "      <td>http://RipsawWealth.com #2020WillBeTheYearFor ...</td>\n",
       "    </tr>\n",
       "    <tr>\n",
       "      <th>2</th>\n",
       "      <td>2019-12-31 23:00:40</td>\n",
       "      <td>#wealthmanagement #maxous</td>\n",
       "    </tr>\n",
       "    <tr>\n",
       "      <th>3</th>\n",
       "      <td>2019-12-31 22:45:05</td>\n",
       "      <td>#WealthManagement and private banking trends: ...</td>\n",
       "    </tr>\n",
       "    <tr>\n",
       "      <th>4</th>\n",
       "      <td>2019-12-31 22:43:01</td>\n",
       "      <td>Is Your Money Ready for Retirement? #Retiremen...</td>\n",
       "    </tr>\n",
       "    <tr>\n",
       "      <th>...</th>\n",
       "      <td>...</td>\n",
       "      <td>...</td>\n",
       "    </tr>\n",
       "    <tr>\n",
       "      <th>32861</th>\n",
       "      <td>2019-02-13 01:15:03</td>\n",
       "      <td>.@Praemium said its major technology upgrade w...</td>\n",
       "    </tr>\n",
       "    <tr>\n",
       "      <th>32862</th>\n",
       "      <td>2019-02-13 01:13:06</td>\n",
       "      <td>A Seismic Shift in the Estate-Planning Landsca...</td>\n",
       "    </tr>\n",
       "    <tr>\n",
       "      <th>32863</th>\n",
       "      <td>2019-02-13 01:11:01</td>\n",
       "      <td>Interview: Scott Cooper, @CybiWealth – investi...</td>\n",
       "    </tr>\n",
       "    <tr>\n",
       "      <th>32864</th>\n",
       "      <td>2019-02-13 01:06:01</td>\n",
       "      <td>How much are you worth? . . . . #wealth #Wealt...</td>\n",
       "    </tr>\n",
       "    <tr>\n",
       "      <th>32865</th>\n",
       "      <td>2019-02-13 01:01:01</td>\n",
       "      <td>RRSP Investors: 3 Undervalued Stocks to Buy To...</td>\n",
       "    </tr>\n",
       "  </tbody>\n",
       "</table>\n",
       "<p>32866 rows × 2 columns</p>\n",
       "</div>"
      ],
      "text/plain": [
       "                      date                                               text\n",
       "0      2019-12-31 23:45:02  Thinking about transitioning your business? Yo...\n",
       "1      2019-12-31 23:31:32  http://RipsawWealth.com #2020WillBeTheYearFor ...\n",
       "2      2019-12-31 23:00:40                          #wealthmanagement #maxous\n",
       "3      2019-12-31 22:45:05  #WealthManagement and private banking trends: ...\n",
       "4      2019-12-31 22:43:01  Is Your Money Ready for Retirement? #Retiremen...\n",
       "...                    ...                                                ...\n",
       "32861  2019-02-13 01:15:03  .@Praemium said its major technology upgrade w...\n",
       "32862  2019-02-13 01:13:06  A Seismic Shift in the Estate-Planning Landsca...\n",
       "32863  2019-02-13 01:11:01  Interview: Scott Cooper, @CybiWealth – investi...\n",
       "32864  2019-02-13 01:06:01  How much are you worth? . . . . #wealth #Wealt...\n",
       "32865  2019-02-13 01:01:01  RRSP Investors: 3 Undervalued Stocks to Buy To...\n",
       "\n",
       "[32866 rows x 2 columns]"
      ]
     },
     "execution_count": 3,
     "metadata": {},
     "output_type": "execute_result"
    }
   ],
   "source": [
    "df_tweets = df[[\"date\",\"text\"]]\n",
    "df_tweets"
   ]
  },
  {
   "cell_type": "code",
   "execution_count": 9,
   "metadata": {
    "scrolled": true
   },
   "outputs": [
    {
     "name": "stderr",
     "output_type": "stream",
     "text": [
      "[nltk_data] Downloading package stopwords to\n",
      "[nltk_data]     C:\\Users\\aditya.baser\\AppData\\Roaming\\nltk_data...\n",
      "[nltk_data]   Package stopwords is already up-to-date!\n"
     ]
    },
    {
     "data": {
      "text/html": [
       "<div>\n",
       "<style scoped>\n",
       "    .dataframe tbody tr th:only-of-type {\n",
       "        vertical-align: middle;\n",
       "    }\n",
       "\n",
       "    .dataframe tbody tr th {\n",
       "        vertical-align: top;\n",
       "    }\n",
       "\n",
       "    .dataframe thead th {\n",
       "        text-align: right;\n",
       "    }\n",
       "</style>\n",
       "<table border=\"1\" class=\"dataframe\">\n",
       "  <thead>\n",
       "    <tr style=\"text-align: right;\">\n",
       "      <th></th>\n",
       "      <th>date</th>\n",
       "      <th>text</th>\n",
       "      <th>preprocessed_text</th>\n",
       "      <th>tokenized_text</th>\n",
       "    </tr>\n",
       "  </thead>\n",
       "  <tbody>\n",
       "    <tr>\n",
       "      <th>0</th>\n",
       "      <td>2019-12-31 23:45:02</td>\n",
       "      <td>Thinking about transitioning your business? Yo...</td>\n",
       "      <td>thinking transitioning business? you’ll surpri...</td>\n",
       "      <td>[thinking, transitioning, business, you, ll, s...</td>\n",
       "    </tr>\n",
       "    <tr>\n",
       "      <th>1</th>\n",
       "      <td>2019-12-31 23:31:32</td>\n",
       "      <td>http://RipsawWealth.com #2020WillBeTheYearFor ...</td>\n",
       "      <td>#2020willbetheyearfor financial control! #happ...</td>\n",
       "      <td>[willbetheyearfor, financial, control, happyne...</td>\n",
       "    </tr>\n",
       "    <tr>\n",
       "      <th>2</th>\n",
       "      <td>2019-12-31 23:00:40</td>\n",
       "      <td>#wealthmanagement #maxous</td>\n",
       "      <td>#maxous</td>\n",
       "      <td>[maxous]</td>\n",
       "    </tr>\n",
       "    <tr>\n",
       "      <th>3</th>\n",
       "      <td>2019-12-31 22:45:05</td>\n",
       "      <td>#WealthManagement and private banking trends: ...</td>\n",
       "      <td>private banking trends: 2020 | @fintechmagazin...</td>\n",
       "      <td>[private, banking, trends, fintechmagazine, we...</td>\n",
       "    </tr>\n",
       "    <tr>\n",
       "      <th>4</th>\n",
       "      <td>2019-12-31 22:43:01</td>\n",
       "      <td>Is Your Money Ready for Retirement? #Retiremen...</td>\n",
       "      <td>money ready retirement? #retirementplan #finan...</td>\n",
       "      <td>[money, ready, retirement, retirementplan, fin...</td>\n",
       "    </tr>\n",
       "  </tbody>\n",
       "</table>\n",
       "</div>"
      ],
      "text/plain": [
       "                  date                                               text  \\\n",
       "0  2019-12-31 23:45:02  Thinking about transitioning your business? Yo...   \n",
       "1  2019-12-31 23:31:32  http://RipsawWealth.com #2020WillBeTheYearFor ...   \n",
       "2  2019-12-31 23:00:40                          #wealthmanagement #maxous   \n",
       "3  2019-12-31 22:45:05  #WealthManagement and private banking trends: ...   \n",
       "4  2019-12-31 22:43:01  Is Your Money Ready for Retirement? #Retiremen...   \n",
       "\n",
       "                                   preprocessed_text  \\\n",
       "0  thinking transitioning business? you’ll surpri...   \n",
       "1  #2020willbetheyearfor financial control! #happ...   \n",
       "2                                            #maxous   \n",
       "3  private banking trends: 2020 | @fintechmagazin...   \n",
       "4  money ready retirement? #retirementplan #finan...   \n",
       "\n",
       "                                      tokenized_text  \n",
       "0  [thinking, transitioning, business, you, ll, s...  \n",
       "1  [willbetheyearfor, financial, control, happyne...  \n",
       "2                                           [maxous]  \n",
       "3  [private, banking, trends, fintechmagazine, we...  \n",
       "4  [money, ready, retirement, retirementplan, fin...  "
      ]
     },
     "execution_count": 9,
     "metadata": {},
     "output_type": "execute_result"
    }
   ],
   "source": [
    "from sklearn.feature_extraction.text import CountVectorizer\n",
    "from gensim.corpora import Dictionary\n",
    "from gensim.models.ldamodel import LdaModel\n",
    "from gensim.models import CoherenceModel\n",
    "from nltk.corpus import stopwords\n",
    "from nltk.tokenize import RegexpTokenizer\n",
    "from datetime import datetime\n",
    "import nltk\n",
    "nltk.download('stopwords')\n",
    "import pandas as pd\n",
    "import re\n",
    "import math\n",
    "\n",
    "def clean_tweets(df=df_tweets, \n",
    "                 tweet_col='text', \n",
    "                 date_col='date'\n",
    "                ):\n",
    "    \n",
    "    df_copy = df.copy()\n",
    "    \n",
    "    # drop rows with empty values\n",
    "    df_copy.dropna(inplace=True)\n",
    "    \n",
    "    # lower the tweets\n",
    "    df_copy['preprocessed_' + tweet_col] = df_copy[tweet_col].str.lower()\n",
    "    \n",
    "    # filter out stop words and URLs\n",
    "    en_stop_words = stopwords.words('english')\n",
    "    extended_words = ['&amp;', 'rt','th','co', 're', 've', 'kim', 'daca', '#wealthmanagement', 'wealthmanagement', 'de', 'la', 'en', 'ria', 'di', 'el', 'ask', 'un', 'con', 'per', 'del', 'help', 'you', 'via', 'us', 'gt', 'ai', 'cx']\n",
    "    en_stop_words.extend(extended_words)\n",
    "    en_stop_words = set(en_stop_words)\n",
    "    url_re = '(https?:\\/\\/(?:www\\.|(?!www))[a-zA-Z0-9][a-zA-Z0-9-]+[a-zA-Z0-9]\\.[^\\s]{2,}|www\\.[a-zA-Z0-9][a-zA-Z0-9-]+[a-zA-Z0-9]\\.[^\\s]{2,}|https?:\\/\\/(?:www\\.|(?!www))[a-zA-Z0-9]+\\.[^\\s]{2,}|www\\.[a-zA-Z0-9]+\\.[^\\s]{2,})'        \n",
    "    df_copy['preprocessed_' + tweet_col] = df_copy['preprocessed_' + tweet_col].apply(lambda row: ' '.join([word for word in row.split() if (not word in en_stop_words) and (not re.match(url_re, word))]))\n",
    "    \n",
    "    # tokenize the tweets\n",
    "    tokenizer = RegexpTokenizer('[a-zA-Z]\\w+\\'?\\w*')\n",
    "    df_copy['tokenized_' + tweet_col] = df_copy['preprocessed_' + tweet_col].apply(lambda row: tokenizer.tokenize(row))\n",
    "    \n",
    "    return df_copy\n",
    "  \n",
    "df_tweets_clean = clean_tweets(df_tweets)\n",
    "df_tweets_clean.head()"
   ]
  },
  {
   "cell_type": "code",
   "execution_count": 10,
   "metadata": {},
   "outputs": [
    {
     "data": {
      "text/plain": [
       "[('wealth', 7252),\n",
       " ('investing', 4369),\n",
       " ('financialplanning', 4013),\n",
       " ('investment', 3616),\n",
       " ('fintech', 3313),\n",
       " ('financial', 3233),\n",
       " ('money', 2969),\n",
       " ('retirement', 2796),\n",
       " ('management', 2551),\n",
       " ('finance', 2484)]"
      ]
     },
     "execution_count": 10,
     "metadata": {},
     "output_type": "execute_result"
    }
   ],
   "source": [
    "def get_most_freq_words(str, n=None):\n",
    "    vect = CountVectorizer().fit(str)\n",
    "    bag_of_words = vect.transform(str)\n",
    "    sum_words = bag_of_words.sum(axis=0) \n",
    "    freq = [(word, sum_words[0, idx]) for word, idx in vect.vocabulary_.items()]\n",
    "    freq =sorted(freq, key = lambda x: x[1], reverse=True)\n",
    "    return freq[:n]\n",
    "  \n",
    "get_most_freq_words([ word for tweet in df_tweets_clean.tokenized_text for word in tweet],10)"
   ]
  },
  {
   "cell_type": "code",
   "execution_count": 11,
   "metadata": {},
   "outputs": [],
   "source": [
    "# build a dictionary where for each tweet, each word has its own id.\n",
    "# We have 6882 tweets and 10893 words in the dictionary.\n",
    "tweets_dictionary = Dictionary(df_tweets_clean.tokenized_text)\n",
    "\n",
    "# build the corpus i.e. vectors with the number of occurence of each word per tweet\n",
    "tweets_corpus = [tweets_dictionary.doc2bow(tweet) for tweet in df_tweets_clean.tokenized_text]"
   ]
  },
  {
   "cell_type": "markdown",
   "metadata": {},
   "source": [
    "## Do not Run the below Cell - Takes 45 mins to run"
   ]
  },
  {
   "cell_type": "code",
   "execution_count": 6,
   "metadata": {},
   "outputs": [
    {
     "ename": "ValueError",
     "evalue": "x and y must have same first dimension, but have shapes (35,) and (24,)",
     "output_type": "error",
     "traceback": [
      "\u001b[1;31m---------------------------------------------------------------------------\u001b[0m",
      "\u001b[1;31mValueError\u001b[0m                                Traceback (most recent call last)",
      "\u001b[1;32m<ipython-input-6-e5540caa1147>\u001b[0m in \u001b[0;36m<module>\u001b[1;34m\u001b[0m\n\u001b[0;32m     16\u001b[0m \u001b[1;31m# visualize coherence\u001b[0m\u001b[1;33m\u001b[0m\u001b[1;33m\u001b[0m\u001b[1;33m\u001b[0m\u001b[0m\n\u001b[0;32m     17\u001b[0m \u001b[0mplt\u001b[0m\u001b[1;33m.\u001b[0m\u001b[0mfigure\u001b[0m\u001b[1;33m(\u001b[0m\u001b[0mfigsize\u001b[0m\u001b[1;33m=\u001b[0m\u001b[1;33m(\u001b[0m\u001b[1;36m10\u001b[0m\u001b[1;33m,\u001b[0m\u001b[1;36m5\u001b[0m\u001b[1;33m)\u001b[0m\u001b[1;33m)\u001b[0m\u001b[1;33m\u001b[0m\u001b[1;33m\u001b[0m\u001b[0m\n\u001b[1;32m---> 18\u001b[1;33m \u001b[0mplt\u001b[0m\u001b[1;33m.\u001b[0m\u001b[0mplot\u001b[0m\u001b[1;33m(\u001b[0m\u001b[0mrange\u001b[0m\u001b[1;33m(\u001b[0m\u001b[1;36m1\u001b[0m\u001b[1;33m,\u001b[0m\u001b[1;36m36\u001b[0m\u001b[1;33m)\u001b[0m\u001b[1;33m,\u001b[0m\u001b[0mtweets_coherence\u001b[0m\u001b[1;33m)\u001b[0m\u001b[1;33m\u001b[0m\u001b[1;33m\u001b[0m\u001b[0m\n\u001b[0m\u001b[0;32m     19\u001b[0m \u001b[0mplt\u001b[0m\u001b[1;33m.\u001b[0m\u001b[0mxlabel\u001b[0m\u001b[1;33m(\u001b[0m\u001b[1;34m\"Number of Topics\"\u001b[0m\u001b[1;33m)\u001b[0m\u001b[1;33m\u001b[0m\u001b[1;33m\u001b[0m\u001b[0m\n\u001b[0;32m     20\u001b[0m \u001b[0mplt\u001b[0m\u001b[1;33m.\u001b[0m\u001b[0mylabel\u001b[0m\u001b[1;33m(\u001b[0m\u001b[1;34m\"Coherence Score\"\u001b[0m\u001b[1;33m)\u001b[0m\u001b[1;33m;\u001b[0m\u001b[1;33m\u001b[0m\u001b[1;33m\u001b[0m\u001b[0m\n",
      "\u001b[1;32m~\\Anaconda3\\lib\\site-packages\\matplotlib\\pyplot.py\u001b[0m in \u001b[0;36mplot\u001b[1;34m(scalex, scaley, data, *args, **kwargs)\u001b[0m\n\u001b[0;32m   2794\u001b[0m     return gca().plot(\n\u001b[0;32m   2795\u001b[0m         *args, scalex=scalex, scaley=scaley, **({\"data\": data} if data\n\u001b[1;32m-> 2796\u001b[1;33m         is not None else {}), **kwargs)\n\u001b[0m\u001b[0;32m   2797\u001b[0m \u001b[1;33m\u001b[0m\u001b[0m\n\u001b[0;32m   2798\u001b[0m \u001b[1;33m\u001b[0m\u001b[0m\n",
      "\u001b[1;32m~\\Anaconda3\\lib\\site-packages\\matplotlib\\axes\\_axes.py\u001b[0m in \u001b[0;36mplot\u001b[1;34m(self, scalex, scaley, data, *args, **kwargs)\u001b[0m\n\u001b[0;32m   1663\u001b[0m         \"\"\"\n\u001b[0;32m   1664\u001b[0m         \u001b[0mkwargs\u001b[0m \u001b[1;33m=\u001b[0m \u001b[0mcbook\u001b[0m\u001b[1;33m.\u001b[0m\u001b[0mnormalize_kwargs\u001b[0m\u001b[1;33m(\u001b[0m\u001b[0mkwargs\u001b[0m\u001b[1;33m,\u001b[0m \u001b[0mmlines\u001b[0m\u001b[1;33m.\u001b[0m\u001b[0mLine2D\u001b[0m\u001b[1;33m.\u001b[0m\u001b[0m_alias_map\u001b[0m\u001b[1;33m)\u001b[0m\u001b[1;33m\u001b[0m\u001b[1;33m\u001b[0m\u001b[0m\n\u001b[1;32m-> 1665\u001b[1;33m         \u001b[0mlines\u001b[0m \u001b[1;33m=\u001b[0m \u001b[1;33m[\u001b[0m\u001b[1;33m*\u001b[0m\u001b[0mself\u001b[0m\u001b[1;33m.\u001b[0m\u001b[0m_get_lines\u001b[0m\u001b[1;33m(\u001b[0m\u001b[1;33m*\u001b[0m\u001b[0margs\u001b[0m\u001b[1;33m,\u001b[0m \u001b[0mdata\u001b[0m\u001b[1;33m=\u001b[0m\u001b[0mdata\u001b[0m\u001b[1;33m,\u001b[0m \u001b[1;33m**\u001b[0m\u001b[0mkwargs\u001b[0m\u001b[1;33m)\u001b[0m\u001b[1;33m]\u001b[0m\u001b[1;33m\u001b[0m\u001b[1;33m\u001b[0m\u001b[0m\n\u001b[0m\u001b[0;32m   1666\u001b[0m         \u001b[1;32mfor\u001b[0m \u001b[0mline\u001b[0m \u001b[1;32min\u001b[0m \u001b[0mlines\u001b[0m\u001b[1;33m:\u001b[0m\u001b[1;33m\u001b[0m\u001b[1;33m\u001b[0m\u001b[0m\n\u001b[0;32m   1667\u001b[0m             \u001b[0mself\u001b[0m\u001b[1;33m.\u001b[0m\u001b[0madd_line\u001b[0m\u001b[1;33m(\u001b[0m\u001b[0mline\u001b[0m\u001b[1;33m)\u001b[0m\u001b[1;33m\u001b[0m\u001b[1;33m\u001b[0m\u001b[0m\n",
      "\u001b[1;32m~\\Anaconda3\\lib\\site-packages\\matplotlib\\axes\\_base.py\u001b[0m in \u001b[0;36m__call__\u001b[1;34m(self, *args, **kwargs)\u001b[0m\n\u001b[0;32m    223\u001b[0m                 \u001b[0mthis\u001b[0m \u001b[1;33m+=\u001b[0m \u001b[0margs\u001b[0m\u001b[1;33m[\u001b[0m\u001b[1;36m0\u001b[0m\u001b[1;33m]\u001b[0m\u001b[1;33m,\u001b[0m\u001b[1;33m\u001b[0m\u001b[1;33m\u001b[0m\u001b[0m\n\u001b[0;32m    224\u001b[0m                 \u001b[0margs\u001b[0m \u001b[1;33m=\u001b[0m \u001b[0margs\u001b[0m\u001b[1;33m[\u001b[0m\u001b[1;36m1\u001b[0m\u001b[1;33m:\u001b[0m\u001b[1;33m]\u001b[0m\u001b[1;33m\u001b[0m\u001b[1;33m\u001b[0m\u001b[0m\n\u001b[1;32m--> 225\u001b[1;33m             \u001b[1;32myield\u001b[0m \u001b[1;32mfrom\u001b[0m \u001b[0mself\u001b[0m\u001b[1;33m.\u001b[0m\u001b[0m_plot_args\u001b[0m\u001b[1;33m(\u001b[0m\u001b[0mthis\u001b[0m\u001b[1;33m,\u001b[0m \u001b[0mkwargs\u001b[0m\u001b[1;33m)\u001b[0m\u001b[1;33m\u001b[0m\u001b[1;33m\u001b[0m\u001b[0m\n\u001b[0m\u001b[0;32m    226\u001b[0m \u001b[1;33m\u001b[0m\u001b[0m\n\u001b[0;32m    227\u001b[0m     \u001b[1;32mdef\u001b[0m \u001b[0mget_next_color\u001b[0m\u001b[1;33m(\u001b[0m\u001b[0mself\u001b[0m\u001b[1;33m)\u001b[0m\u001b[1;33m:\u001b[0m\u001b[1;33m\u001b[0m\u001b[1;33m\u001b[0m\u001b[0m\n",
      "\u001b[1;32m~\\Anaconda3\\lib\\site-packages\\matplotlib\\axes\\_base.py\u001b[0m in \u001b[0;36m_plot_args\u001b[1;34m(self, tup, kwargs)\u001b[0m\n\u001b[0;32m    389\u001b[0m             \u001b[0mx\u001b[0m\u001b[1;33m,\u001b[0m \u001b[0my\u001b[0m \u001b[1;33m=\u001b[0m \u001b[0mindex_of\u001b[0m\u001b[1;33m(\u001b[0m\u001b[0mtup\u001b[0m\u001b[1;33m[\u001b[0m\u001b[1;33m-\u001b[0m\u001b[1;36m1\u001b[0m\u001b[1;33m]\u001b[0m\u001b[1;33m)\u001b[0m\u001b[1;33m\u001b[0m\u001b[1;33m\u001b[0m\u001b[0m\n\u001b[0;32m    390\u001b[0m \u001b[1;33m\u001b[0m\u001b[0m\n\u001b[1;32m--> 391\u001b[1;33m         \u001b[0mx\u001b[0m\u001b[1;33m,\u001b[0m \u001b[0my\u001b[0m \u001b[1;33m=\u001b[0m \u001b[0mself\u001b[0m\u001b[1;33m.\u001b[0m\u001b[0m_xy_from_xy\u001b[0m\u001b[1;33m(\u001b[0m\u001b[0mx\u001b[0m\u001b[1;33m,\u001b[0m \u001b[0my\u001b[0m\u001b[1;33m)\u001b[0m\u001b[1;33m\u001b[0m\u001b[1;33m\u001b[0m\u001b[0m\n\u001b[0m\u001b[0;32m    392\u001b[0m \u001b[1;33m\u001b[0m\u001b[0m\n\u001b[0;32m    393\u001b[0m         \u001b[1;32mif\u001b[0m \u001b[0mself\u001b[0m\u001b[1;33m.\u001b[0m\u001b[0mcommand\u001b[0m \u001b[1;33m==\u001b[0m \u001b[1;34m'plot'\u001b[0m\u001b[1;33m:\u001b[0m\u001b[1;33m\u001b[0m\u001b[1;33m\u001b[0m\u001b[0m\n",
      "\u001b[1;32m~\\Anaconda3\\lib\\site-packages\\matplotlib\\axes\\_base.py\u001b[0m in \u001b[0;36m_xy_from_xy\u001b[1;34m(self, x, y)\u001b[0m\n\u001b[0;32m    268\u001b[0m         \u001b[1;32mif\u001b[0m \u001b[0mx\u001b[0m\u001b[1;33m.\u001b[0m\u001b[0mshape\u001b[0m\u001b[1;33m[\u001b[0m\u001b[1;36m0\u001b[0m\u001b[1;33m]\u001b[0m \u001b[1;33m!=\u001b[0m \u001b[0my\u001b[0m\u001b[1;33m.\u001b[0m\u001b[0mshape\u001b[0m\u001b[1;33m[\u001b[0m\u001b[1;36m0\u001b[0m\u001b[1;33m]\u001b[0m\u001b[1;33m:\u001b[0m\u001b[1;33m\u001b[0m\u001b[1;33m\u001b[0m\u001b[0m\n\u001b[0;32m    269\u001b[0m             raise ValueError(\"x and y must have same first dimension, but \"\n\u001b[1;32m--> 270\u001b[1;33m                              \"have shapes {} and {}\".format(x.shape, y.shape))\n\u001b[0m\u001b[0;32m    271\u001b[0m         \u001b[1;32mif\u001b[0m \u001b[0mx\u001b[0m\u001b[1;33m.\u001b[0m\u001b[0mndim\u001b[0m \u001b[1;33m>\u001b[0m \u001b[1;36m2\u001b[0m \u001b[1;32mor\u001b[0m \u001b[0my\u001b[0m\u001b[1;33m.\u001b[0m\u001b[0mndim\u001b[0m \u001b[1;33m>\u001b[0m \u001b[1;36m2\u001b[0m\u001b[1;33m:\u001b[0m\u001b[1;33m\u001b[0m\u001b[1;33m\u001b[0m\u001b[0m\n\u001b[0;32m    272\u001b[0m             raise ValueError(\"x and y can be no greater than 2-D, but have \"\n",
      "\u001b[1;31mValueError\u001b[0m: x and y must have same first dimension, but have shapes (35,) and (24,)"
     ]
    },
    {
     "data": {
      "image/png": "[encoded data removed]",
      "text/plain": [
       "<Figure size 720x360 with 1 Axes>"
      ]
     },
     "metadata": {
      "needs_background": "light"
     },
     "output_type": "display_data"
    }
   ],
   "source": [
    "# compute coherence\n",
    "tweets_coherence = []\n",
    "for nb_topics in range(1,25):\n",
    "    lda = LdaModel(tweets_corpus, num_topics = nb_topics, id2word = tweets_dictionary, passes=10)\n",
    "    cohm = CoherenceModel(model=lda, corpus=tweets_corpus, dictionary=tweets_dictionary, coherence='u_mass')\n",
    "    coh = cohm.get_coherence()\n",
    "    tweets_coherence.append(coh)"
   ]
  },
  {
   "cell_type": "code",
   "execution_count": 8,
   "metadata": {},
   "outputs": [
    {
     "data": {
      "image/png": "[encoded data removed]",
      "text/plain": [
       "<Figure size 720x360 with 1 Axes>"
      ]
     },
     "metadata": {
      "needs_background": "light"
     },
     "output_type": "display_data"
    }
   ],
   "source": [
    "# visualize coherence\n",
    "plt.figure(figsize=(10,5))\n",
    "plt.plot(range(1,25),tweets_coherence)\n",
    "plt.xlabel(\"Number of Topics\")\n",
    "plt.ylabel(\"Coherence Score\");"
   ]
  },
  {
   "cell_type": "code",
   "execution_count": 16,
   "metadata": {},
   "outputs": [],
   "source": [
    "k = 13\n",
    "tweets_lda = LdaModel(tweets_corpus, num_topics = k, id2word = tweets_dictionary, passes=10)\n",
    "\n",
    "def plot_top_words(lda=tweets_lda, nb_topics=k, nb_words=10):\n",
    "    top_words = [[word for word,_ in lda.show_topic(topic_id, topn=50)] for topic_id in range(lda.num_topics)]\n",
    "    top_betas = [[beta for _,beta in lda.show_topic(topic_id, topn=50)] for topic_id in range(lda.num_topics)]\n",
    "\n",
    "    gs  = gridspec.GridSpec(round(math.sqrt(k))+1,round(math.sqrt(k))+1)\n",
    "    gs.update(wspace=0.5, hspace=0.5)\n",
    "    plt.figure(figsize=(20,15))\n",
    "    for i in range(nb_topics):\n",
    "        ax = plt.subplot(gs[i])\n",
    "        plt.barh(range(nb_words), top_betas[i][:nb_words], align='center',color='blue', ecolor='black')\n",
    "        ax.invert_yaxis()\n",
    "        ax.set_yticks(range(nb_words))\n",
    "        ax.set_yticklabels(top_words[i][:nb_words])\n",
    "        plt.title(\"Topic \"+str(i))"
   ]
  },
  {
   "cell_type": "code",
   "execution_count": 17,
   "metadata": {},
   "outputs": [
    {
     "data": {
      "image/png": "[encoded data removed]",
      "text/plain": [
       "<Figure size 1440x1080 with 13 Axes>"
      ]
     },
     "metadata": {
      "needs_background": "light"
     },
     "output_type": "display_data"
    }
   ],
   "source": [
    "import matplotlib.gridspec as gridspec\n",
    "plot_top_words()"
   ]
  },
  {
   "cell_type": "code",
   "execution_count": 833,
   "metadata": {},
   "outputs": [
    {
     "name": "stdout",
     "output_type": "stream",
     "text": [
      "32866\n"
     ]
    }
   ],
   "source": [
    "list_ = []\n",
    "for i in range(len(df_tweets_clean)):\n",
    "    x = tweets_lda[tweets_corpus[i]]\n",
    "    for j in range(len(x)):\n",
    "        if x[j][1] == max(dict(x).values()):\n",
    "            list_.append('Topic'+str(x[j][0] + 1))\n",
    "            break\n",
    "print(len(list_))"
   ]
  },
  {
   "cell_type": "code",
   "execution_count": 847,
   "metadata": {},
   "outputs": [
    {
     "data": {
      "text/plain": [
       "{5: 0.82239646, 9: 0.100669175}"
      ]
     },
     "execution_count": 847,
     "metadata": {},
     "output_type": "execute_result"
    }
   ],
   "source": [
    "dict(tweets_lda[tweets_corpus[32865]])"
   ]
  },
  {
   "cell_type": "code",
   "execution_count": 834,
   "metadata": {},
   "outputs": [
    {
     "data": {
      "text/html": [
       "<div>\n",
       "<style scoped>\n",
       "    .dataframe tbody tr th:only-of-type {\n",
       "        vertical-align: middle;\n",
       "    }\n",
       "\n",
       "    .dataframe tbody tr th {\n",
       "        vertical-align: top;\n",
       "    }\n",
       "\n",
       "    .dataframe thead th {\n",
       "        text-align: right;\n",
       "    }\n",
       "</style>\n",
       "<table border=\"1\" class=\"dataframe\">\n",
       "  <thead>\n",
       "    <tr style=\"text-align: right;\">\n",
       "      <th></th>\n",
       "      <th>date</th>\n",
       "      <th>text</th>\n",
       "      <th>preprocessed_text</th>\n",
       "      <th>tokenized_text</th>\n",
       "      <th>Label</th>\n",
       "    </tr>\n",
       "  </thead>\n",
       "  <tbody>\n",
       "    <tr>\n",
       "      <th>0</th>\n",
       "      <td>2019-12-31 23:45:02</td>\n",
       "      <td>Thinking about transitioning your business? Yo...</td>\n",
       "      <td>thinking transitioning business? you’ll surpri...</td>\n",
       "      <td>[thinking, transitioning, business, you, ll, s...</td>\n",
       "      <td>Topic2</td>\n",
       "    </tr>\n",
       "    <tr>\n",
       "      <th>1</th>\n",
       "      <td>2019-12-31 23:31:32</td>\n",
       "      <td>http://RipsawWealth.com #2020WillBeTheYearFor ...</td>\n",
       "      <td>#2020willbetheyearfor financial control! #happ...</td>\n",
       "      <td>[willbetheyearfor, financial, control, happyne...</td>\n",
       "      <td>Topic2</td>\n",
       "    </tr>\n",
       "    <tr>\n",
       "      <th>2</th>\n",
       "      <td>2019-12-31 23:00:40</td>\n",
       "      <td>#wealthmanagement #maxous</td>\n",
       "      <td>#maxous</td>\n",
       "      <td>[maxous]</td>\n",
       "      <td>Topic11</td>\n",
       "    </tr>\n",
       "    <tr>\n",
       "      <th>3</th>\n",
       "      <td>2019-12-31 22:45:05</td>\n",
       "      <td>#WealthManagement and private banking trends: ...</td>\n",
       "      <td>private banking trends: 2020 | @fintechmagazin...</td>\n",
       "      <td>[private, banking, trends, fintechmagazine, we...</td>\n",
       "      <td>Topic8</td>\n",
       "    </tr>\n",
       "    <tr>\n",
       "      <th>4</th>\n",
       "      <td>2019-12-31 22:43:01</td>\n",
       "      <td>Is Your Money Ready for Retirement? #Retiremen...</td>\n",
       "      <td>money ready retirement? #retirementplan #finan...</td>\n",
       "      <td>[money, ready, retirement, retirementplan, fin...</td>\n",
       "      <td>Topic6</td>\n",
       "    </tr>\n",
       "  </tbody>\n",
       "</table>\n",
       "</div>"
      ],
      "text/plain": [
       "                  date                                               text  \\\n",
       "0  2019-12-31 23:45:02  Thinking about transitioning your business? Yo...   \n",
       "1  2019-12-31 23:31:32  http://RipsawWealth.com #2020WillBeTheYearFor ...   \n",
       "2  2019-12-31 23:00:40                          #wealthmanagement #maxous   \n",
       "3  2019-12-31 22:45:05  #WealthManagement and private banking trends: ...   \n",
       "4  2019-12-31 22:43:01  Is Your Money Ready for Retirement? #Retiremen...   \n",
       "\n",
       "                                   preprocessed_text  \\\n",
       "0  thinking transitioning business? you’ll surpri...   \n",
       "1  #2020willbetheyearfor financial control! #happ...   \n",
       "2                                            #maxous   \n",
       "3  private banking trends: 2020 | @fintechmagazin...   \n",
       "4  money ready retirement? #retirementplan #finan...   \n",
       "\n",
       "                                      tokenized_text    Label  \n",
       "0  [thinking, transitioning, business, you, ll, s...   Topic2  \n",
       "1  [willbetheyearfor, financial, control, happyne...   Topic2  \n",
       "2                                           [maxous]  Topic11  \n",
       "3  [private, banking, trends, fintechmagazine, we...   Topic8  \n",
       "4  [money, ready, retirement, retirementplan, fin...   Topic6  "
      ]
     },
     "execution_count": 834,
     "metadata": {},
     "output_type": "execute_result"
    }
   ],
   "source": [
    "df_tweets_clean[\"Label\"] = list_\n",
    "df_tweets_clean.head()"
   ]
  },
  {
   "cell_type": "code",
   "execution_count": 529,
   "metadata": {},
   "outputs": [],
   "source": [
    "list_ = []\n",
    "for i in range(5):\n",
    "    ie = []\n",
    "    for j in range(len(tweets_lda[tweets_corpus[i]])):\n",
    "        ie.append(round(tweets_lda[tweets_corpus[1]][j][1], 2))\n",
    "    for j in range(len(tweets_lda[tweets_corpus[i]])):\n",
    "        if tweets_lda[tweets_corpus[i]][j][1] == max(ie):\n",
    "            print(tweets_lda[tweets_corpus[i]][j][1])\n",
    "            list_.append('Topic'+str(tweets_lda[corpus[i]][j][0] + 1))"
   ]
  },
  {
   "cell_type": "code",
   "execution_count": 18,
   "metadata": {},
   "outputs": [
    {
     "name": "stdout",
     "output_type": "stream",
     "text": [
      "Collecting wikiapi\n",
      "  Downloading wikiapi-1.2.5-py2.py3-none-any.whl (5.1 kB)\n",
      "Collecting pyquery\n",
      "  Downloading pyquery-1.4.1-py2.py3-none-any.whl (22 kB)\n",
      "Requirement already satisfied: requests in c:\\users\\aditya.baser\\anaconda3\\lib\\site-packages (from wikiapi) (2.22.0)\n",
      "Requirement already satisfied: beautifulsoup4 in c:\\users\\aditya.baser\\anaconda3\\lib\\site-packages (from wikiapi) (4.8.2)\n",
      "Requirement already satisfied: six in c:\\users\\aditya.baser\\anaconda3\\lib\\site-packages (from wikiapi) (1.14.0)\n",
      "Requirement already satisfied: wheel in c:\\users\\aditya.baser\\anaconda3\\lib\\site-packages (from wikiapi) (0.34.2)\n",
      "Requirement already satisfied: lxml>=2.1 in c:\\users\\aditya.baser\\anaconda3\\lib\\site-packages (from pyquery->wikiapi) (4.5.0)\n",
      "Collecting cssselect>0.7.9\n",
      "  Downloading cssselect-1.1.0-py2.py3-none-any.whl (16 kB)\n",
      "Requirement already satisfied: urllib3!=1.25.0,!=1.25.1,<1.26,>=1.21.1 in c:\\users\\aditya.baser\\anaconda3\\lib\\site-packages (from requests->wikiapi) (1.25.8)\n",
      "Requirement already satisfied: certifi>=2017.4.17 in c:\\users\\aditya.baser\\anaconda3\\lib\\site-packages (from requests->wikiapi) (2019.11.28)\n",
      "Requirement already satisfied: idna<2.9,>=2.5 in c:\\users\\aditya.baser\\anaconda3\\lib\\site-packages (from requests->wikiapi) (2.8)\n",
      "Requirement already satisfied: chardet<3.1.0,>=3.0.2 in c:\\users\\aditya.baser\\anaconda3\\lib\\site-packages (from requests->wikiapi) (3.0.4)\n",
      "Requirement already satisfied: soupsieve>=1.2 in c:\\users\\aditya.baser\\anaconda3\\lib\\site-packages (from beautifulsoup4->wikiapi) (1.9.5)\n",
      "Installing collected packages: cssselect, pyquery, wikiapi\n",
      "Successfully installed cssselect-1.1.0 pyquery-1.4.1 wikiapi-1.2.5\n",
      "Note: you may need to restart the kernel to use updated packages.\n"
     ]
    }
   ],
   "source": [
    "pip install wikiapi"
   ]
  },
  {
   "cell_type": "code",
   "execution_count": 23,
   "metadata": {},
   "outputs": [
    {
     "name": "stdout",
     "output_type": "stream",
     "text": [
      "Collecting pattern\n",
      "  Downloading Pattern-3.6.0.tar.gz (22.2 MB)\n",
      "Requirement already satisfied: future in c:\\users\\aditya.baser\\anaconda3\\lib\\site-packages (from pattern) (0.18.2)\n",
      "Collecting backports.csv\n",
      "  Downloading backports.csv-1.0.7-py2.py3-none-any.whl (12 kB)\n",
      "Collecting mysqlclient\n",
      "  Downloading mysqlclient-2.0.1-cp37-cp37m-win_amd64.whl (268 kB)\n",
      "Requirement already satisfied: beautifulsoup4 in c:\\users\\aditya.baser\\anaconda3\\lib\\site-packages (from pattern) (4.8.2)\n",
      "Requirement already satisfied: lxml in c:\\users\\aditya.baser\\anaconda3\\lib\\site-packages (from pattern) (4.5.0)\n",
      "Collecting feedparser\n",
      "  Downloading feedparser-5.2.1.tar.bz2 (192 kB)\n",
      "Collecting pdfminer.six\n",
      "  Downloading pdfminer.six-20200517-py3-none-any.whl (5.6 MB)\n",
      "Requirement already satisfied: numpy in c:\\users\\aditya.baser\\anaconda3\\lib\\site-packages (from pattern) (1.18.5)\n",
      "Requirement already satisfied: scipy in c:\\users\\aditya.baser\\anaconda3\\lib\\site-packages (from pattern) (1.4.1)\n",
      "Requirement already satisfied: nltk in c:\\users\\aditya.baser\\anaconda3\\lib\\site-packages (from pattern) (3.4.5)\n",
      "Collecting python-docx\n",
      "  Downloading python-docx-0.8.10.tar.gz (5.5 MB)\n",
      "Collecting cherrypy\n",
      "  Downloading CherryPy-18.6.0-py2.py3-none-any.whl (419 kB)\n",
      "Requirement already satisfied: requests in c:\\users\\aditya.baser\\anaconda3\\lib\\site-packages (from pattern) (2.22.0)\n",
      "Requirement already satisfied: soupsieve>=1.2 in c:\\users\\aditya.baser\\anaconda3\\lib\\site-packages (from beautifulsoup4->pattern) (1.9.5)\n",
      "Requirement already satisfied: chardet; python_version > \"3.0\" in c:\\users\\aditya.baser\\anaconda3\\lib\\site-packages (from pdfminer.six->pattern) (3.0.4)\n",
      "Collecting pycryptodome\n",
      "  Downloading pycryptodome-3.9.8-cp37-cp37m-win_amd64.whl (14.1 MB)\n",
      "Requirement already satisfied: sortedcontainers in c:\\users\\aditya.baser\\anaconda3\\lib\\site-packages (from pdfminer.six->pattern) (2.1.0)\n",
      "Requirement already satisfied: six in c:\\users\\aditya.baser\\anaconda3\\lib\\site-packages (from nltk->pattern) (1.14.0)\n",
      "Collecting cheroot>=8.2.1\n",
      "  Downloading cheroot-8.3.1-py2.py3-none-any.whl (88 kB)\n",
      "Requirement already satisfied: more-itertools in c:\\users\\aditya.baser\\anaconda3\\lib\\site-packages (from cherrypy->pattern) (8.2.0)\n",
      "Collecting jaraco.collections\n",
      "  Downloading jaraco.collections-3.0.0-py2.py3-none-any.whl (9.4 kB)\n",
      "Collecting zc.lockfile\n",
      "  Downloading zc.lockfile-2.0-py2.py3-none-any.whl (9.7 kB)\n",
      "Collecting portend>=2.1.1\n",
      "  Downloading portend-2.6-py2.py3-none-any.whl (5.1 kB)\n",
      "Requirement already satisfied: pywin32; sys_platform == \"win32\" in c:\\users\\aditya.baser\\anaconda3\\lib\\site-packages (from cherrypy->pattern) (227)\n",
      "Requirement already satisfied: idna<2.9,>=2.5 in c:\\users\\aditya.baser\\anaconda3\\lib\\site-packages (from requests->pattern) (2.8)\n",
      "Requirement already satisfied: certifi>=2017.4.17 in c:\\users\\aditya.baser\\anaconda3\\lib\\site-packages (from requests->pattern) (2019.11.28)\n",
      "Requirement already satisfied: urllib3!=1.25.0,!=1.25.1,<1.26,>=1.21.1 in c:\\users\\aditya.baser\\anaconda3\\lib\\site-packages (from requests->pattern) (1.25.8)\n",
      "Collecting jaraco.functools\n",
      "  Downloading jaraco.functools-3.0.1-py3-none-any.whl (6.7 kB)\n",
      "Collecting jaraco.text\n",
      "  Downloading jaraco.text-3.2.0-py2.py3-none-any.whl (8.1 kB)\n",
      "Collecting jaraco.classes\n",
      "  Downloading jaraco.classes-3.1.0-py2.py3-none-any.whl (5.7 kB)\n",
      "Requirement already satisfied: setuptools in c:\\users\\aditya.baser\\anaconda3\\lib\\site-packages (from zc.lockfile->cherrypy->pattern) (47.1.1)\n",
      "Collecting tempora>=1.8\n",
      "  Downloading tempora-3.0.0-py2.py3-none-any.whl (14 kB)\n",
      "Requirement already satisfied: pytz in c:\\users\\aditya.baser\\anaconda3\\lib\\site-packages (from tempora>=1.8->portend>=2.1.1->cherrypy->pattern) (2019.3)\n",
      "Building wheels for collected packages: pattern, feedparser, python-docx\n",
      "  Building wheel for pattern (setup.py): started\n",
      "  Building wheel for pattern (setup.py): finished with status 'done'\n",
      "  Created wheel for pattern: filename=Pattern-3.6-py3-none-any.whl size=22332728 sha256=bc8dc014155302d876279251ab9880187812cee110061ed3a83b2abd11be430b\n",
      "  Stored in directory: c:\\users\\aditya.baser\\appdata\\local\\pip\\cache\\wheels\\8d\\1f\\4e\\9b67afd2430d55dee90bd57618dd7d899f1323e5852c465682\n",
      "  Building wheel for feedparser (setup.py): started\n",
      "  Building wheel for feedparser (setup.py): finished with status 'done'\n",
      "  Created wheel for feedparser: filename=feedparser-5.2.1-py3-none-any.whl size=44944 sha256=53a2a3a9039b8b063e7262abb6e359fa30b5d2ddf05b79d252444d7ca6174b13\n",
      "  Stored in directory: c:\\users\\aditya.baser\\appdata\\local\\pip\\cache\\wheels\\4a\\87\\a9\\ef99b7b68f9816d5ef1262dc11ce31a93a844eb69e68c1a031\n",
      "  Building wheel for python-docx (setup.py): started\n",
      "  Building wheel for python-docx (setup.py): finished with status 'done'\n",
      "  Created wheel for python-docx: filename=python_docx-0.8.10-py3-none-any.whl size=184495 sha256=9771e8ea71385313dd6bec65f1efd06763296e83e6338ddf1409f5cb218827c6\n",
      "  Stored in directory: c:\\users\\aditya.baser\\appdata\\local\\pip\\cache\\wheels\\75\\c6\\69\\05491f32dc052cd70476b65f5bf7082a9b274045f6b001b821\n",
      "Successfully built pattern feedparser python-docx\n",
      "Installing collected packages: backports.csv, mysqlclient, feedparser, pycryptodome, pdfminer.six, python-docx, jaraco.functools, cheroot, jaraco.text, jaraco.classes, jaraco.collections, zc.lockfile, tempora, portend, cherrypy, pattern\n",
      "Successfully installed backports.csv-1.0.7 cheroot-8.3.1 cherrypy-18.6.0 feedparser-5.2.1 jaraco.classes-3.1.0 jaraco.collections-3.0.0 jaraco.functools-3.0.1 jaraco.text-3.2.0 mysqlclient-2.0.1 pattern-3.6 pdfminer.six-20200517 portend-2.6 pycryptodome-3.9.8 python-docx-0.8.10 tempora-3.0.0 zc.lockfile-2.0\n",
      "Note: you may need to restart the kernel to use updated packages.\n"
     ]
    }
   ],
   "source": [
    "pip install pattern"
   ]
  },
  {
   "cell_type": "code",
   "execution_count": 24,
   "metadata": {},
   "outputs": [],
   "source": [
    "from wikiapi import WikiApi\n",
    "import gensim\n",
    "from gensim.utils import simple_preprocess, lemmatize\n",
    "import pattern \n",
    "def get_relevant_articles(keywords, search_depth=5, keyword_summary=5):\n",
    "    \"\"\"\n",
    "    Searches through a list of keywords and returns keywords based on article headers\n",
    "    in Wikipedia.    \n",
    "\n",
    "    args:\n",
    "    *  keywords: A list of keywords\n",
    "    *  search_depth: how many wikipedia search results are checked, assumes to be between 1-10\n",
    "    *  keyword_summary: gensim word argument to how many words should be used in summarization\n",
    "    \"\"\"\n",
    "    if len(keywords) == 0:\n",
    "        return []\n",
    "    wiki = WikiApi()\n",
    "\n",
    "    keywords = [x.lower() for x in keywords]\n",
    "    info = []\n",
    "    for keyword in keywords:\n",
    "        results = wiki.find(keyword)\n",
    "        other_words = [x for x in keywords if x != keyword]\n",
    "        \n",
    "        if search_depth is not None:\n",
    "            results = results[:search_depth]\n",
    "\n",
    "        for result in results:\n",
    "            article = wiki.get_article(result)\n",
    "            summary_words = article.summary.lower().split(' ')\n",
    "            has_words = any(word in summary_words for word in other_words)\n",
    "\n",
    "            if has_words:\n",
    "                info.append(article.heading)\n",
    "\n",
    "    try:\n",
    "        info_keyword = gensim.summarization.keywords(' '.join(info),\n",
    "                    words=keyword_summary).split('\\n')\n",
    "    except:\n",
    "        print(\"keyword extraction failed, defaulting to article heading output\")\n",
    "        info_keyword = info[:]\n",
    "    return info_keyword"
   ]
  },
  {
   "cell_type": "code",
   "execution_count": 27,
   "metadata": {},
   "outputs": [
    {
     "name": "stdout",
     "output_type": "stream",
     "text": [
      "['financial', 'planning', 'plans', 'money', 'wealth', 'retirement']\n"
     ]
    }
   ],
   "source": [
    "all_results = get_relevant_articles(\"financial financialplanning advisors wealth planning advice retirement clients money goals\".split())\n",
    "print(all_results)"
   ]
  },
  {
   "cell_type": "code",
   "execution_count": 28,
   "metadata": {},
   "outputs": [],
   "source": [
    "texts = list(df_tweets_clean[\"tokenized_text\"])"
   ]
  },
  {
   "cell_type": "code",
   "execution_count": 29,
   "metadata": {},
   "outputs": [
    {
     "data": {
      "text/html": [
       "<div>\n",
       "<style scoped>\n",
       "    .dataframe tbody tr th:only-of-type {\n",
       "        vertical-align: middle;\n",
       "    }\n",
       "\n",
       "    .dataframe tbody tr th {\n",
       "        vertical-align: top;\n",
       "    }\n",
       "\n",
       "    .dataframe thead th {\n",
       "        text-align: right;\n",
       "    }\n",
       "</style>\n",
       "<table border=\"1\" class=\"dataframe\">\n",
       "  <thead>\n",
       "    <tr style=\"text-align: right;\">\n",
       "      <th></th>\n",
       "      <th>tweets</th>\n",
       "    </tr>\n",
       "  </thead>\n",
       "  <tbody>\n",
       "    <tr>\n",
       "      <th>0</th>\n",
       "      <td>thinking transitioning business you ll surpris...</td>\n",
       "    </tr>\n",
       "    <tr>\n",
       "      <th>1</th>\n",
       "      <td>willbetheyearfor financial control happynewyea...</td>\n",
       "    </tr>\n",
       "    <tr>\n",
       "      <th>2</th>\n",
       "      <td>maxous</td>\n",
       "    </tr>\n",
       "    <tr>\n",
       "      <th>3</th>\n",
       "      <td>private banking trends fintechmagazine wealtht...</td>\n",
       "    </tr>\n",
       "    <tr>\n",
       "      <th>4</th>\n",
       "      <td>money ready retirement retirementplan financia...</td>\n",
       "    </tr>\n",
       "  </tbody>\n",
       "</table>\n",
       "</div>"
      ],
      "text/plain": [
       "                                              tweets\n",
       "0  thinking transitioning business you ll surpris...\n",
       "1  willbetheyearfor financial control happynewyea...\n",
       "2                                             maxous\n",
       "3  private banking trends fintechmagazine wealtht...\n",
       "4  money ready retirement retirementplan financia..."
      ]
     },
     "execution_count": 29,
     "metadata": {},
     "output_type": "execute_result"
    }
   ],
   "source": [
    "def convert_list_to_string(list_, separator = ' '):\n",
    "    tweetss = []\n",
    "    for i in list_:\n",
    "        tweetss.append(separator.join(i))\n",
    "    return tweetss\n",
    "\n",
    "tweetss = convert_list_to_string(texts, separator = ' ')\n",
    "df_clean = pd.DataFrame(tweetss, columns = ['tweets'])\n",
    "df_clean.head()"
   ]
  },
  {
   "cell_type": "code",
   "execution_count": 30,
   "metadata": {},
   "outputs": [],
   "source": [
    "from gensim import corpora\n",
    "from gensim.models.ldamodel import LdaModel\n",
    "from gensim.parsing.preprocessing import STOPWORDS"
   ]
  },
  {
   "cell_type": "code",
   "execution_count": 31,
   "metadata": {},
   "outputs": [],
   "source": [
    "#Set parameters\n",
    "num_topics = 5 #The number of topics that should be generated\n",
    "passes = 10\n",
    "dictionary = corpora.Dictionary(texts) #(word_id,word) pairs\n",
    "corpus = [dictionary.doc2bow(text) for text in texts] #(word_id,freq) pairs by sentence"
   ]
  },
  {
   "cell_type": "code",
   "execution_count": 34,
   "metadata": {},
   "outputs": [],
   "source": [
    "lda = LdaModel(corpus,\n",
    "              id2word=dictionary,\n",
    "              num_topics=num_topics,\n",
    "              passes=passes)"
   ]
  },
  {
   "cell_type": "code",
   "execution_count": 74,
   "metadata": {},
   "outputs": [
    {
     "data": {
      "text/plain": [
       "[(0, 0.0183024),\n",
       " (1, 0.15820244),\n",
       " (2, 0.018299848),\n",
       " (3, 0.018232325),\n",
       " (4, 0.786963)]"
      ]
     },
     "execution_count": 74,
     "metadata": {},
     "output_type": "execute_result"
    }
   ],
   "source": [
    "lda[corpus[len(texts)-1]]"
   ]
  },
  {
   "cell_type": "code",
   "execution_count": null,
   "metadata": {},
   "outputs": [],
   "source": [
    "ie = []\n",
    "for j in range(num_topics):\n",
    "    ie.append(lda[corpus[0]][j][1])\n",
    "    if lda[corpus[0]][j][1] == max(ie):\n",
    "        list_.append('Topic'+str(lda[corpus[0]][j][0] + 1))"
   ]
  },
  {
   "cell_type": "code",
   "execution_count": 146,
   "metadata": {},
   "outputs": [
    {
     "name": "stdout",
     "output_type": "stream",
     "text": [
      "['Topic3', 'Topic1', '0']\n"
     ]
    }
   ],
   "source": [
    "list_ = []\n",
    "\n",
    "for i in range(20):\n",
    "    if len(lda[corpus[i]]) == 5:\n",
    "        ie = []\n",
    "        for j in range(num_topics):\n",
    "            ie.append(lda[corpus[i]][j][1])\n",
    "        for j in range(num_topics):\n",
    "            if lda[corpus[i]][j][1] == max(ie):\n",
    "                list_.append('Topic'+str(lda[corpus[i]][j][0] + 1))\n",
    "    else:\n",
    "        list_.append('0')\n",
    "print(list_)"
   ]
  },
  {
   "cell_type": "code",
   "execution_count": 124,
   "metadata": {},
   "outputs": [
    {
     "data": {
      "text/plain": [
       "25861"
      ]
     },
     "execution_count": 124,
     "metadata": {},
     "output_type": "execute_result"
    }
   ],
   "source": [
    "len(list_)"
   ]
  },
  {
   "cell_type": "code",
   "execution_count": 18,
   "metadata": {},
   "outputs": [],
   "source": [
    "def draw_wordcloud(lda,topicnum,min_size=0,STOPWORDS=[]):\n",
    "    word_list=[]\n",
    "    prob_total = 0\n",
    "    for word,prob in lda.show_topic(topicnum,topn=50):\n",
    "        prob_total +=prob\n",
    "    for word,prob in lda.show_topic(topicnum,topn=50):\n",
    "        if word in STOPWORDS or  len(word) < min_size:\n",
    "            continue\n",
    "#         freq = int(prob/prob_total*1000)\n",
    "        freq = int(prob/prob_total*100)\n",
    "        alist=[word]\n",
    "        word_list.extend(alist*freq)\n",
    "        \n",
    "#     print(word_list)\n",
    "    from wordcloud import WordCloud, STOPWORDS\n",
    "    import matplotlib.pyplot as plt\n",
    "    %matplotlib inline\n",
    "    from random import shuffle\n",
    "    shuffle(word_list)\n",
    "    text = ' '.join(word_list)\n",
    "    wordcloud = WordCloud(stopwords=STOPWORDS,background_color='white',max_words=20).generate(text)\n",
    "\n",
    "    plt.axis('off')\n",
    "    plt.imshow(wordcloud)\n",
    "\n",
    "    return None"
   ]
  },
  {
   "cell_type": "code",
   "execution_count": null,
   "metadata": {},
   "outputs": [],
   "source": []
  },
  {
   "cell_type": "code",
   "execution_count": null,
   "metadata": {},
   "outputs": [],
   "source": [
    "draw_wordcloud(lda,0)"
   ]
  },
  {
   "cell_type": "code",
   "execution_count": 51,
   "metadata": {},
   "outputs": [
    {
     "data": {
      "text/html": [
       "\n",
       "<link rel=\"stylesheet\" type=\"text/css\" href=\"https://cdn.rawgit.com/bmabey/pyLDAvis/files/ldavis.v1.0.0.css\">\n",
       "\n",
       "\n",
       "<div id=\"ldavis_el914016236922751443341457851\"></div>\n",
       "<script type=\"text/javascript\">\n",
       "\n",
       "var ldavis_el914016236922751443341457851_data = {\"mdsDat\": {\"x\": [0.09770408395278798, 0.05382333868812602, 0.20242862226472738, -0.32266920994541476, -0.03128683496022672], \"y\": [-0.17602164391633368, 0.26845953080717855, -0.07660985195391642, -0.06095585874417264, 0.04512782380724429], \"topics\": [1, 2, 3, 4, 5], \"cluster\": [1, 1, 1, 1, 1], \"Freq\": [25.23515510559082, 16.78780746459961, 28.147972106933594, 12.258501052856445, 17.570560455322266]}, \"tinfo\": {\"Term\": [\"financialplanning\", \"retirement\", \"gt\", \"healthinsurance\", \"insurancenews\", \"lifeinsuranceupdater\", \"insurancequotes\", \"tsx\", \"investing\", \"personalfinance\", \"ftse\", \"money\", \"ria\", \"fintech\", \"rias\", \"advisors\", \"wealthtech\", \"wealth\", \"retirementplanning\", \"financial\", \"financialadvisers\", \"buy\", \"clients\", \"market\", \"wealthmanagement\", \"stocks\", \"investments\", \"financialadvisor\", \"planning\", \"invest\", \"ria\", \"rias\", \"click\", \"ianwenik\", \"regtech\", \"outlook\", \"marketing\", \"reports\", \"compliance\", \"april\", \"trends\", \"venturecapital\", \"conference\", \"discusses\", \"thanks\", \"event\", \"practice\", \"challenges\", \"purnartha\", \"regulation\", \"tangiblealpha\", \"social\", \"leader\", \"march\", \"endowments\", \"wealth_mgmt\", \"onboarding\", \"trade\", \"institutionalinvestors\", \"webinar\", \"wealthtech\", \"in\", \"banking\", \"privateequity\", \"fintech\", \"finserv\", \"th\", \"innovation\", \"assetmanagement\", \"advisors\", \"industry\", \"familyoffice\", \"new\", \"join\", \"here\", \"wealth\", \"management\", \"more\", \"technology\", \"digital\", \"team\", \"learn\", \"investment\", \"investing\", \"top\", \"investments\", \"tech\", \"finance\", \"business\", \"financial\", \"gt\", \"retirementplanning\", \"financialfreedom\", \"cfp\", \"roboadvisors\", \"mikequindazzi\", \"investmemtadvisor\", \"capitaladvisors\", \"retire\", \"tfsa\", \"moneymanagement\", \"children\", \"financialplanner\", \"machinelearning\", \"ursbolt\", \"rrsp\", \"iot\", \"influencers\", \"acquisitions\", \"inc\", \"lifeinsurance\", \"already\", \"wealthbuilding\", \"investconfex\", \"stockstowatch\", \"infographics\", \"statistacharts\", \"cc\", \"wednesdaywisdom\", \"featured\", \"artificialintelligence\", \"financialplanning\", \"retirement\", \"financialadvisor\", \"wealthmanagement\", \"money\", \"million\", \"personalfinance\", \"success\", \"investments\", \"ai\", \"investing\", \"day\", \"insurance\", \"finance\", \"wealth\", \"savings\", \"investment\", \"financialservices\", \"planning\", \"fintech\", \"people\", \"estateplanning\", \"invest\", \"financial\", \"education\", \"let\", \"guide\", \"needs\", \"advisers\", \"personal\", \"giving\", \"create\", \"always\", \"manage\", \"luxury\", \"cx\", \"even\", \"achieve\", \"brand\", \"rising\", \"comes\", \"tools\", \"swissglobal\", \"account\", \"net\", \"thinking\", \"ever\", \"cybersecurity\", \"understand\", \"according\", \"care\", \"different\", \"them\", \"decisions\", \"generation\", \"you\", \"need\", \"finances\", \"advice\", \"goals\", \"don\", \"better\", \"clients\", \"right\", \"value\", \"financial\", \"find\", \"client\", \"provide\", \"future\", \"one\", \"work\", \"experience\", \"take\", \"wealth\", \"it\", \"want\", \"time\", \"planning\", \"advisors\", \"management\", \"get\", \"make\", \"financialplanning\", \"money\", \"best\", \"plan\", \"read\", \"learn\", \"finance\", \"new\", \"investment\", \"business\", \"know\", \"healthinsurance\", \"insurancenews\", \"lifeinsuranceupdater\", \"insurancequotes\", \"ftse\", \"forex\", \"purpose\", \"protection\", \"technicalanalysis\", \"update\", \"greg\", \"valueinvesting\", \"para\", \"il\", \"die\", \"commentary\", \"que\", \"sp500\", \"north\", \"los\", \"por\", \"fed\", \"evening\", \"le\", \"parents\", \"assetprotection\", \"bse\", \"der\", \"trader\", \"reporting\", \"quotes\", \"habits\", \"cannabis\", \"price\", \"nasdaq\", \"wallstreet\", \"trading\", \"wealthplanning\", \"market\", \"share\", \"uhnwi\", \"markets\", \"stock\", \"stockmarket\", \"week\", \"investing\", \"stocks\", \"life\", \"finance\", \"insurance\", \"news\", \"assetmanagement\", \"tsx\", \"financialadvisers\", \"buy\", \"fund\", \"uk\", \"dividend\", \"cryptocurrency\", \"returns\", \"pensions\", \"amp\", \"logical\", \"asia\", \"alts\", \"eth\", \"ethereum\", \"altseason\", \"dig\", \"lifestyle\", \"acquisition\", \"mxn\", \"deal\", \"mutualfundssahihai\", \"worldwide\", \"moneymatters\", \"energy\", \"index\", \"chief\", \"schemes\", \"low\", \"bond\", \"bank\", \"btc\", \"stocks\", \"stock\", \"personalfinance\", \"growth\", \"retirement\", \"investing\", \"invest\", \"investors\", \"year\", \"crypto\", \"gold\", \"portfolio\", \"strategy\", \"investment\", \"awards\", \"investments\", \"market\", \"pension\", \"tax\", \"equity\", \"financialadvice\", \"financialservices\"], \"Freq\": [3596.0, 3339.0, 1577.0, 1337.0, 1318.0, 1316.0, 1316.0, 1364.0, 4785.0, 2583.0, 1028.0, 2928.0, 1389.0, 3622.0, 1196.0, 2571.0, 1489.0, 6743.0, 705.0, 3046.0, 691.0, 666.0, 1472.0, 1176.0, 1210.0, 1172.0, 2170.0, 777.0, 1122.0, 1363.0, 1388.404541015625, 1195.83740234375, 457.5005798339844, 435.45904541015625, 350.97064208984375, 319.83648681640625, 309.7313232421875, 300.71636962890625, 293.2024230957031, 286.6123046875, 395.672607421875, 261.78204345703125, 242.34417724609375, 240.5384979248047, 230.20480346679688, 217.5654754638672, 212.01931762695312, 206.0050811767578, 187.86190795898438, 183.46360778808594, 193.8953094482422, 176.39532470703125, 175.4579620361328, 185.61228942871094, 166.87278747558594, 165.89190673828125, 162.87086486816406, 165.32763671875, 159.01695251464844, 158.67935180664062, 1352.3349609375, 430.84698486328125, 896.0330200195312, 298.9608154296875, 2623.23828125, 817.3531494140625, 254.79684448242188, 401.93218994140625, 734.8452758789062, 1323.9644775390625, 550.5711059570312, 355.8018493652344, 787.5264282226562, 311.2694396972656, 487.7969055175781, 1785.2259521484375, 959.1384887695312, 521.388671875, 450.0725402832031, 497.6206359863281, 422.2748718261719, 541.6969604492188, 892.73388671875, 925.8626098632812, 443.5186462402344, 607.0689086914062, 404.9761657714844, 525.55029296875, 430.64251708984375, 439.217041015625, 1576.4373779296875, 704.6327514648438, 472.2056579589844, 446.1245422363281, 343.40081787109375, 315.9382019042969, 307.36810302734375, 307.36810302734375, 216.982666015625, 212.84375, 207.5865020751953, 210.5585479736328, 195.53768920898438, 182.0141143798828, 165.621337890625, 163.19798278808594, 155.9351806640625, 145.98980712890625, 144.29483032226562, 146.9093780517578, 134.97909545898438, 134.58558654785156, 132.94772338867188, 128.62564086914062, 143.11175537109375, 123.47418212890625, 122.37496948242188, 121.21401977539062, 115.55553436279297, 114.55167388916016, 159.7642822265625, 2365.68505859375, 1887.326904296875, 563.872314453125, 783.5177612304688, 1532.3419189453125, 328.8231506347656, 1154.4091796875, 366.0087585449219, 951.0967407226562, 496.3541564941406, 1573.9891357421875, 393.7197570800781, 481.9766845703125, 871.6697998046875, 1552.1575927734375, 325.7799072265625, 905.6273193359375, 455.64508056640625, 418.2345275878906, 554.6768798828125, 294.262939453125, 245.0939178466797, 335.75830078125, 378.5393371582031, 422.6854248046875, 391.0915832519531, 372.39044189453125, 343.4222412109375, 324.1134033203125, 320.57806396484375, 274.3551940917969, 260.0921325683594, 240.3019256591797, 227.75733947753906, 228.1341094970703, 225.71104431152344, 204.47360229492188, 188.77450561523438, 182.5233917236328, 185.20448303222656, 178.15650939941406, 171.87135314941406, 167.9608917236328, 169.79075622558594, 163.04843139648438, 162.19924926757812, 161.0845489501953, 161.66049194335938, 155.0535430908203, 153.72576904296875, 149.49618530273438, 148.67022705078125, 147.42860412597656, 145.42050170898438, 147.4950408935547, 617.5396728515625, 672.57666015625, 509.2940979003906, 845.6114501953125, 569.0880737304688, 323.2261047363281, 348.3612060546875, 1158.6407470703125, 433.4046325683594, 330.6821594238281, 2166.396240234375, 559.9812622070312, 828.589111328125, 218.50962829589844, 798.8937377929688, 669.7443237304688, 380.26776123046875, 329.4378967285156, 528.1807861328125, 3184.602783203125, 477.61279296875, 556.0779418945312, 610.8218994140625, 703.4803466796875, 1244.3134765625, 1206.8782958984375, 573.6246948242188, 539.465087890625, 1228.444580078125, 1074.6407470703125, 530.23876953125, 460.7247314453125, 593.9451293945312, 558.341064453125, 751.6197509765625, 592.6480712890625, 751.1940307617188, 597.9009399414062, 479.32757568359375, 1336.9415283203125, 1318.0355224609375, 1315.588623046875, 1315.588623046875, 1027.78955078125, 233.979248046875, 178.16351318359375, 141.31329345703125, 138.17684936523438, 136.92164611816406, 127.78118133544922, 124.98429870605469, 119.93834686279297, 116.48094940185547, 116.04867553710938, 108.17797088623047, 105.3741455078125, 101.9029312133789, 92.83943176269531, 91.61656951904297, 90.88204956054688, 86.28866577148438, 85.0528564453125, 83.78363037109375, 86.06962585449219, 80.10691833496094, 80.63250732421875, 77.46147918701172, 77.3171157836914, 81.239013671875, 79.00485229492188, 78.46109008789062, 118.46595001220703, 236.34727478027344, 175.7298126220703, 128.718505859375, 310.04534912109375, 163.2433319091797, 482.0706481933594, 233.65753173828125, 125.39557647705078, 207.406494140625, 247.59130859375, 209.37977600097656, 191.7130889892578, 406.2229919433594, 245.89779663085938, 218.61065673828125, 246.21566772460938, 190.6853790283203, 153.04669189453125, 139.6764678955078, 1363.9957275390625, 691.1567993164062, 665.4841918945312, 434.0552673339844, 417.0219421386719, 395.8124694824219, 340.8578186035156, 328.6544189453125, 250.09007263183594, 220.576904296875, 208.12948608398438, 203.68978881835938, 200.2501220703125, 188.84144592285156, 184.4961700439453, 183.08523559570312, 179.72079467773438, 182.30992126464844, 167.8961944580078, 163.71337890625, 164.05813598632812, 159.63076782226562, 185.97764587402344, 138.3372802734375, 124.63543701171875, 123.70145416259766, 122.1561508178711, 121.22052001953125, 119.77767944335938, 118.76419830322266, 465.6933898925781, 210.79220581054688, 739.5726928710938, 554.324951171875, 1310.781494140625, 397.6980285644531, 1451.1702880859375, 1879.5679931640625, 748.645263671875, 683.5198364257812, 392.249267578125, 294.36297607421875, 260.898681640625, 379.81201171875, 279.49615478515625, 759.2656860351562, 212.97598266601562, 482.1326904296875, 362.652587890625, 268.0580139160156, 314.1057434082031, 272.1951599121094, 255.98460388183594, 290.5223693847656], \"Total\": [3596.0, 3339.0, 1577.0, 1337.0, 1318.0, 1316.0, 1316.0, 1364.0, 4785.0, 2583.0, 1028.0, 2928.0, 1389.0, 3622.0, 1196.0, 2571.0, 1489.0, 6743.0, 705.0, 3046.0, 691.0, 666.0, 1472.0, 1176.0, 1210.0, 1172.0, 2170.0, 777.0, 1122.0, 1363.0, 1389.1796875, 1196.6109619140625, 458.2795715332031, 436.2337646484375, 351.7403564453125, 320.61663818359375, 310.5076599121094, 301.49884033203125, 293.9756774902344, 287.3890075683594, 396.81195068359375, 262.55029296875, 243.11807250976562, 241.31468200683594, 230.98292541503906, 218.3370819091797, 212.7984619140625, 206.7869110107422, 188.64178466796875, 184.24087524414062, 194.73016357421875, 177.17703247070312, 176.2362823486328, 186.44219970703125, 167.6400604248047, 166.66896057128906, 163.64292907714844, 166.11578369140625, 159.78399658203125, 159.45484924316406, 1489.07958984375, 456.13250732421875, 987.6600341796875, 318.53350830078125, 3622.23876953125, 981.9230346679688, 268.58929443359375, 457.763671875, 1028.2412109375, 2571.014404296875, 807.7109985351562, 457.38079833984375, 1454.1436767578125, 381.4004211425781, 769.8281860351562, 6743.7021484375, 2470.139892578125, 910.2185668945312, 715.6431884765625, 880.7256469726562, 667.150146484375, 1100.623046875, 3394.919921875, 4785.83935546875, 818.39013671875, 2170.449951171875, 731.6087036132812, 2477.2626953125, 1504.2408447265625, 3046.87890625, 1577.2098388671875, 705.4078979492188, 472.9814147949219, 446.89703369140625, 344.1883239746094, 316.7073974609375, 308.1367492675781, 308.1367492675781, 217.75962829589844, 213.63546752929688, 208.36314392089844, 211.36178588867188, 196.31118774414062, 182.79232788085938, 166.40032958984375, 163.98358154296875, 156.7059783935547, 146.76658630371094, 145.1107940673828, 147.7484893798828, 135.76109313964844, 135.3660430908203, 133.72007751464844, 129.39564514160156, 143.9815216064453, 124.24381256103516, 123.14483642578125, 121.9918441772461, 116.33737182617188, 115.3382797241211, 163.72189331054688, 3596.405029296875, 3339.103271484375, 777.9229736328125, 1210.001953125, 2928.40283203125, 445.2126159667969, 2583.524658203125, 536.3172607421875, 2170.449951171875, 858.9873657226562, 4785.83935546875, 669.8580932617188, 919.8927612304688, 2477.2626953125, 6743.7021484375, 518.601806640625, 3394.919921875, 1115.772705078125, 1122.300537109375, 3622.23876953125, 582.4115600585938, 329.3512268066406, 1363.475830078125, 3046.87890625, 423.4732666015625, 391.88177490234375, 373.1777038574219, 344.1997375488281, 324.8938903808594, 321.3638916015625, 275.1430969238281, 260.8724060058594, 241.08131408691406, 228.53326416015625, 228.92752075195312, 226.5431671142578, 205.25723266601562, 189.550048828125, 183.29867553710938, 186.0119171142578, 178.93577575683594, 172.65603637695312, 168.7315216064453, 170.57846069335938, 163.82675170898438, 162.9783172607422, 161.8680419921875, 162.46084594726562, 155.82919311523438, 154.50482177734375, 150.27516174316406, 149.44911193847656, 148.2150421142578, 146.1980743408203, 148.28494262695312, 635.5689086914062, 712.373779296875, 547.0436401367188, 941.5009155273438, 624.3388671875, 342.2865905761719, 381.38140869140625, 1472.7861328125, 489.8946533203125, 362.5242004394531, 3046.87890625, 655.3648071289062, 1026.7906494140625, 227.8306121826172, 1074.7979736328125, 869.1607055664062, 441.7816467285156, 376.3756408691406, 676.0140380859375, 6743.7021484375, 618.8099365234375, 765.2720336914062, 894.8861083984375, 1122.300537109375, 2571.014404296875, 2470.139892578125, 847.8840942382812, 791.9469604492188, 3596.405029296875, 2928.40283203125, 828.0144653320312, 638.1043090820312, 1063.5582275390625, 1100.623046875, 2477.2626953125, 1454.1436767578125, 3394.919921875, 1504.2408447265625, 764.6752319335938, 1337.7039794921875, 1318.798095703125, 1316.3511962890625, 1316.3511962890625, 1028.608154296875, 234.7414093017578, 178.97312927246094, 142.0924072265625, 138.94630432128906, 137.68870544433594, 128.54612731933594, 125.75959777832031, 120.69580841064453, 117.23924255371094, 116.81278991699219, 108.94389343261719, 106.13159942626953, 102.66353607177734, 93.60970306396484, 92.3768310546875, 91.63948059082031, 87.0557632446289, 85.81683349609375, 84.54153442382812, 86.87815856933594, 80.86924743652344, 81.40020751953125, 78.21978759765625, 78.08146667480469, 82.0468978881836, 79.83015441894531, 79.2684555053711, 125.90975952148438, 294.8092041015625, 213.396484375, 148.7348175048828, 478.4538269042969, 223.59542846679688, 1176.6864013671875, 442.1646423339844, 173.11903381347656, 542.9609985351562, 850.51513671875, 618.282958984375, 533.650146484375, 4785.83935546875, 1172.47021484375, 853.36669921875, 2477.2626953125, 919.8927612304688, 370.8019714355469, 1028.2412109375, 1364.7861328125, 691.9390869140625, 666.2725830078125, 434.8414001464844, 417.80731201171875, 396.607421875, 341.6484680175781, 329.4384765625, 250.87527465820312, 221.36309814453125, 208.9053955078125, 204.47952270507812, 201.03018188476562, 189.62033081054688, 185.27392578125, 183.8627166748047, 180.50347900390625, 183.13035583496094, 168.6835174560547, 164.4889678955078, 164.84616088867188, 160.41441345214844, 186.9249267578125, 139.15330505371094, 125.42181396484375, 124.48554229736328, 122.94393920898438, 122.00250244140625, 120.5694808959961, 119.55377197265625, 586.2505493164062, 244.1690673828125, 1172.47021484375, 850.51513671875, 2583.524658203125, 578.631103515625, 3339.103271484375, 4785.83935546875, 1363.475830078125, 1295.912841796875, 626.8688354492188, 419.836181640625, 345.1129150390625, 694.7267456054688, 427.88427734375, 3394.919921875, 256.9202880859375, 2170.449951171875, 1176.6864013671875, 504.5948486328125, 880.08740234375, 587.04638671875, 492.2869873046875, 1115.772705078125], \"Category\": [\"Default\", \"Default\", \"Default\", \"Default\", \"Default\", \"Default\", \"Default\", \"Default\", \"Default\", \"Default\", \"Default\", \"Default\", \"Default\", \"Default\", \"Default\", \"Default\", \"Default\", \"Default\", \"Default\", \"Default\", \"Default\", \"Default\", \"Default\", \"Default\", \"Default\", \"Default\", \"Default\", \"Default\", \"Default\", \"Default\", \"Topic1\", \"Topic1\", \"Topic1\", \"Topic1\", \"Topic1\", \"Topic1\", \"Topic1\", \"Topic1\", \"Topic1\", \"Topic1\", \"Topic1\", \"Topic1\", \"Topic1\", \"Topic1\", \"Topic1\", \"Topic1\", \"Topic1\", \"Topic1\", \"Topic1\", \"Topic1\", \"Topic1\", \"Topic1\", \"Topic1\", \"Topic1\", \"Topic1\", \"Topic1\", \"Topic1\", \"Topic1\", \"Topic1\", \"Topic1\", \"Topic1\", \"Topic1\", \"Topic1\", \"Topic1\", \"Topic1\", \"Topic1\", \"Topic1\", \"Topic1\", \"Topic1\", \"Topic1\", \"Topic1\", \"Topic1\", \"Topic1\", \"Topic1\", \"Topic1\", \"Topic1\", \"Topic1\", \"Topic1\", \"Topic1\", \"Topic1\", \"Topic1\", \"Topic1\", \"Topic1\", \"Topic1\", \"Topic1\", \"Topic1\", \"Topic1\", \"Topic1\", \"Topic1\", \"Topic1\", \"Topic2\", \"Topic2\", \"Topic2\", \"Topic2\", \"Topic2\", \"Topic2\", \"Topic2\", \"Topic2\", \"Topic2\", \"Topic2\", \"Topic2\", \"Topic2\", \"Topic2\", \"Topic2\", \"Topic2\", \"Topic2\", \"Topic2\", \"Topic2\", \"Topic2\", \"Topic2\", \"Topic2\", \"Topic2\", \"Topic2\", \"Topic2\", \"Topic2\", \"Topic2\", \"Topic2\", \"Topic2\", \"Topic2\", \"Topic2\", \"Topic2\", \"Topic2\", \"Topic2\", \"Topic2\", \"Topic2\", \"Topic2\", \"Topic2\", \"Topic2\", \"Topic2\", \"Topic2\", \"Topic2\", \"Topic2\", \"Topic2\", \"Topic2\", \"Topic2\", \"Topic2\", \"Topic2\", \"Topic2\", \"Topic2\", \"Topic2\", \"Topic2\", \"Topic2\", \"Topic2\", \"Topic2\", \"Topic2\", \"Topic3\", \"Topic3\", \"Topic3\", \"Topic3\", \"Topic3\", \"Topic3\", \"Topic3\", \"Topic3\", \"Topic3\", \"Topic3\", \"Topic3\", \"Topic3\", \"Topic3\", \"Topic3\", \"Topic3\", \"Topic3\", \"Topic3\", \"Topic3\", \"Topic3\", \"Topic3\", \"Topic3\", \"Topic3\", \"Topic3\", \"Topic3\", \"Topic3\", \"Topic3\", \"Topic3\", \"Topic3\", \"Topic3\", \"Topic3\", \"Topic3\", \"Topic3\", \"Topic3\", \"Topic3\", \"Topic3\", \"Topic3\", \"Topic3\", \"Topic3\", \"Topic3\", \"Topic3\", \"Topic3\", \"Topic3\", \"Topic3\", \"Topic3\", \"Topic3\", \"Topic3\", \"Topic3\", \"Topic3\", \"Topic3\", \"Topic3\", \"Topic3\", \"Topic3\", \"Topic3\", \"Topic3\", \"Topic3\", \"Topic3\", \"Topic3\", \"Topic3\", \"Topic3\", \"Topic3\", \"Topic3\", \"Topic3\", \"Topic3\", \"Topic3\", \"Topic3\", \"Topic3\", \"Topic3\", \"Topic3\", \"Topic3\", \"Topic3\", \"Topic4\", \"Topic4\", \"Topic4\", \"Topic4\", \"Topic4\", \"Topic4\", \"Topic4\", \"Topic4\", \"Topic4\", \"Topic4\", \"Topic4\", \"Topic4\", \"Topic4\", \"Topic4\", \"Topic4\", \"Topic4\", \"Topic4\", \"Topic4\", \"Topic4\", \"Topic4\", \"Topic4\", \"Topic4\", \"Topic4\", \"Topic4\", \"Topic4\", \"Topic4\", \"Topic4\", \"Topic4\", \"Topic4\", \"Topic4\", \"Topic4\", \"Topic4\", \"Topic4\", \"Topic4\", \"Topic4\", \"Topic4\", \"Topic4\", \"Topic4\", \"Topic4\", \"Topic4\", \"Topic4\", \"Topic4\", \"Topic4\", \"Topic4\", \"Topic4\", \"Topic4\", \"Topic4\", \"Topic4\", \"Topic4\", \"Topic4\", \"Topic4\", \"Topic4\", \"Topic5\", \"Topic5\", \"Topic5\", \"Topic5\", \"Topic5\", \"Topic5\", \"Topic5\", \"Topic5\", \"Topic5\", \"Topic5\", \"Topic5\", \"Topic5\", \"Topic5\", \"Topic5\", \"Topic5\", \"Topic5\", \"Topic5\", \"Topic5\", \"Topic5\", \"Topic5\", \"Topic5\", \"Topic5\", \"Topic5\", \"Topic5\", \"Topic5\", \"Topic5\", \"Topic5\", \"Topic5\", \"Topic5\", \"Topic5\", \"Topic5\", \"Topic5\", \"Topic5\", \"Topic5\", \"Topic5\", \"Topic5\", \"Topic5\", \"Topic5\", \"Topic5\", \"Topic5\", \"Topic5\", \"Topic5\", \"Topic5\", \"Topic5\", \"Topic5\", \"Topic5\", \"Topic5\", \"Topic5\", \"Topic5\", \"Topic5\", \"Topic5\", \"Topic5\", \"Topic5\", \"Topic5\"], \"logprob\": [30.0, 29.0, 28.0, 27.0, 26.0, 25.0, 24.0, 23.0, 22.0, 21.0, 20.0, 19.0, 18.0, 17.0, 16.0, 15.0, 14.0, 13.0, 12.0, 11.0, 10.0, 9.0, 8.0, 7.0, 6.0, 5.0, 4.0, 3.0, 2.0, 1.0, -4.468100070953369, -4.617400169372559, -5.5782999992370605, -5.627600193023682, -5.843299865722656, -5.936200141906738, -5.968299865722656, -5.997900009155273, -6.023200035095215, -6.045899868011475, -5.723400115966797, -6.136499881744385, -6.213699817657471, -6.221199989318848, -6.265100002288818, -6.321499824523926, -6.347400188446045, -6.376100063323975, -6.468299865722656, -6.492000102996826, -6.436699867248535, -6.531300067901611, -6.536600112915039, -6.480400085449219, -6.5868000984191895, -6.592700004577637, -6.611100196838379, -6.596099853515625, -6.635000228881836, -6.6371002197265625, -4.4944000244140625, -5.638299942016602, -4.906099796295166, -6.003699779510498, -3.831899881362915, -4.998000144958496, -6.163599967956543, -5.707699775695801, -5.104400157928467, -4.515600204467773, -5.393099784851074, -5.829699993133545, -5.035099983215332, -5.963399887084961, -5.514100074768066, -4.216700077056885, -4.8379998207092285, -5.447500228881836, -5.594600200653076, -5.494200229644775, -5.658400058746338, -5.409299850463867, -4.9096999168396, -4.873300075531006, -5.609300136566162, -5.295400142669678, -5.700200080871582, -5.439599990844727, -5.638800144195557, -5.61899995803833, -3.933500051498413, -4.738800048828125, -5.138999938964844, -5.195799827575684, -5.457499980926514, -5.540900230407715, -5.568399906158447, -5.568399906158447, -5.916600227355957, -5.9359002113342285, -5.960899829864502, -5.946700096130371, -6.020699977874756, -6.092400074005127, -6.186699867248535, -6.201499938964844, -6.247000217437744, -6.312900066375732, -6.3246002197265625, -6.306600093841553, -6.391300201416016, -6.394199848175049, -6.406499862670898, -6.439499855041504, -6.332799911499023, -6.480400085449219, -6.4893999099731445, -6.498899936676025, -6.5467000007629395, -6.5553998947143555, -6.222700119018555, -3.527600049972534, -3.753499984741211, -4.961599826812744, -4.632699966430664, -3.961899995803833, -5.500899791717529, -4.245100021362305, -5.393799781799316, -4.438799858093262, -5.089200019836426, -3.9351000785827637, -5.320799827575684, -5.118599891662598, -4.526000022888184, -3.9489998817443848, -5.510200023651123, -4.487800121307373, -5.174699783325195, -5.26039981842041, -4.978099822998047, -5.611999988555908, -5.7947998046875, -5.480100154876709, -5.360099792480469, -5.766600131988525, -5.844299793243408, -5.8933000564575195, -5.974299907684326, -6.032199859619141, -6.043099880218506, -6.198800086975098, -6.252200126647949, -6.331399917602539, -6.385000228881836, -6.383299827575684, -6.394000053405762, -6.492800235748291, -6.572700023651123, -6.606400012969971, -6.591800212860107, -6.6305999755859375, -6.666500091552734, -6.689499855041504, -6.678699970245361, -6.719200134277344, -6.724400043487549, -6.731299877166748, -6.727799892425537, -6.769499778747559, -6.77810001373291, -6.806000232696533, -6.811500072479248, -6.819900035858154, -6.833600044250488, -6.819499969482422, -5.387499809265137, -5.302199840545654, -5.5802001953125, -5.073200225830078, -5.469200134277344, -6.034900188446045, -5.960000038146973, -4.758299827575684, -5.741600036621094, -6.0121002197265625, -4.132400035858154, -5.485400199890137, -5.093500137329102, -6.426400184631348, -5.130000114440918, -5.306399822235107, -5.872399806976318, -6.015900135040283, -5.543799877166748, -3.7472000122070312, -5.644499778747559, -5.492400169372559, -5.398499965667725, -5.257199764251709, -4.6869001388549805, -4.71750020980835, -5.461299896240234, -5.52269983291626, -4.69980001449585, -4.833499908447266, -5.539899826049805, -5.680500030517578, -5.426499843597412, -5.48829984664917, -5.190999984741211, -5.428699970245361, -5.1915998458862305, -5.4197998046875, -5.640900135040283, -3.783900022506714, -3.798099994659424, -3.799999952316284, -3.799999952316284, -4.046800136566162, -5.526800155639648, -5.799300193786621, -6.031000137329102, -6.053500175476074, -6.062600135803223, -6.131700038909912, -6.153800010681152, -6.195000171661377, -6.224299907684326, -6.228000164031982, -6.2982001304626465, -6.32450008392334, -6.357999801635742, -6.451099872589111, -6.464399814605713, -6.472499847412109, -6.5243000984191895, -6.538700103759766, -6.553800106048584, -6.526899814605713, -6.598700046539307, -6.592100143432617, -6.632199764251709, -6.634099960327148, -6.58459997177124, -6.612500190734863, -6.6194000244140625, -6.207399845123291, -5.51669979095459, -5.8130998611450195, -6.1244001388549805, -5.245299816131592, -5.8867998123168945, -4.803899765014648, -5.528200149536133, -6.1504998207092285, -5.647299766540527, -5.470200061798096, -5.637899875640869, -5.72599983215332, -4.975100040435791, -5.477099895477295, -5.594699859619141, -5.475800037384033, -5.731400012969971, -5.951300144195557, -6.042699813842773, -4.123799800872803, -4.803699970245361, -4.8414998054504395, -5.268799781799316, -5.308899879455566, -5.361100196838379, -5.5106000900268555, -5.546999931335449, -5.820199966430664, -5.945799827575684, -6.003900051116943, -6.025400161743164, -6.042500019073486, -6.101099967956543, -6.1244001388549805, -6.1321001052856445, -6.150599956512451, -6.136300086975098, -6.218699932098389, -6.243899822235107, -6.241799831390381, -6.269199848175049, -6.116399765014648, -6.412300109863281, -6.516600131988525, -6.524099826812744, -6.5366997718811035, -6.544400215148926, -6.556399822235107, -6.564899921417236, -5.198500156402588, -5.991099834442139, -4.735899925231934, -5.0243000984191895, -4.163599967956543, -5.356299877166748, -4.0619001388549805, -3.8032000064849854, -4.723800182342529, -4.814799785614014, -5.370100021362305, -5.657199859619141, -5.777900218963623, -5.402299880981445, -5.709000110626221, -4.709700107574463, -5.980800151824951, -5.16379976272583, -5.448599815368652, -5.750800132751465, -5.592299938201904, -5.735499858856201, -5.796899795532227, -5.670300006866455], \"loglift\": [30.0, 29.0, 28.0, 27.0, 26.0, 25.0, 24.0, 23.0, 22.0, 21.0, 20.0, 19.0, 18.0, 17.0, 16.0, 15.0, 14.0, 13.0, 12.0, 11.0, 10.0, 9.0, 8.0, 7.0, 6.0, 5.0, 4.0, 3.0, 2.0, 1.0, 1.3763999938964844, 1.3762999773025513, 1.3752000331878662, 1.3752000331878662, 1.3746999502182007, 1.374500036239624, 1.374400019645691, 1.3743000030517578, 1.3743000030517578, 1.3741999864578247, 1.3740999698638916, 1.3739999532699585, 1.3737000226974487, 1.3737000226974487, 1.3736000061035156, 1.3733999729156494, 1.3732999563217163, 1.3731000423431396, 1.3727999925613403, 1.3726999759674072, 1.3725999593734741, 1.372499942779541, 1.372499942779541, 1.372499942779541, 1.3723000288009644, 1.3723000288009644, 1.3722000122070312, 1.3722000122070312, 1.3720999956130981, 1.3720999956130981, 1.2805999517440796, 1.3199000358581543, 1.2796000242233276, 1.3135000467300415, 1.0542000532150269, 1.19350004196167, 1.3242000341415405, 1.246899962425232, 1.0410000085830688, 0.7132999897003174, 0.9937000274658203, 1.1258000135421753, 0.763700008392334, 1.173699975013733, 0.9207000136375427, 0.0478999987244606, 0.4309000074863434, 0.8197000026702881, 0.9132000207901001, 0.8059999942779541, 0.9196000099182129, 0.6679999828338623, 0.041200000792741776, -0.26579999923706055, 0.7642999887466431, 0.10289999842643738, 0.7854999899864197, -0.17350000143051147, 0.12620000541210175, -0.5598999857902527, 1.784000039100647, 1.783400058746338, 1.7828999757766724, 1.7827999591827393, 1.7821999788284302, 1.782099962234497, 1.781999945640564, 1.781999945640564, 1.780900001525879, 1.7807999849319458, 1.7807999849319458, 1.7806999683380127, 1.7805999517440796, 1.7803000211715698, 1.7798000574111938, 1.7797000408172607, 1.7796000242233276, 1.7791999578475952, 1.7789000272750854, 1.7788000106811523, 1.7786999940872192, 1.7786999940872192, 1.7786999940872192, 1.778499960899353, 1.778499960899353, 1.7783000469207764, 1.7782000303268433, 1.7781000137329102, 1.7777999639511108, 1.7776999473571777, 1.7599999904632568, 1.3657000064849854, 1.2139999866485596, 1.4627000093460083, 1.3499000072479248, 1.1368999481201172, 1.4815000295639038, 0.9789999723434448, 1.402400016784668, 0.9593999981880188, 1.2360999584197998, 0.6725000143051147, 1.253100037574768, 1.138200044631958, 0.7400000095367432, 0.3156000077724457, 1.319599986076355, 0.46309998631477356, 0.8888999819755554, 0.7973999977111816, -0.09189999848604202, 1.1017999649047852, 1.4889999628067017, 0.3831000030040741, -0.3009999990463257, 1.2657999992370605, 1.2656999826431274, 1.2655999660491943, 1.2654000520706177, 1.2653000354766846, 1.2652000188827515, 1.264799952507019, 1.2647000551223755, 1.2645000219345093, 1.264299988746643, 1.26419997215271, 1.2640000581741333, 1.2639000415802002, 1.2635999917984009, 1.2634999752044678, 1.2632999420166016, 1.2632999420166016, 1.263100028038025, 1.263100028038025, 1.263100028038025, 1.2628999948501587, 1.2628999948501587, 1.2627999782562256, 1.2627999782562256, 1.2626999616622925, 1.2625999450683594, 1.2625000476837158, 1.2625000476837158, 1.2624000310897827, 1.2624000310897827, 1.2624000310897827, 1.2388999462127686, 1.2101999521255493, 1.1962000131607056, 1.1603000164031982, 1.1749999523162842, 1.2103999853134155, 1.1770999431610107, 1.0277999639511108, 1.1452000141143799, 1.1757999658584595, 0.9265999794006348, 1.1103999614715576, 1.0532000064849854, 1.2259000539779663, 0.9710000157356262, 1.007099986076355, 1.117799997329712, 1.1345000267028809, 1.020900011062622, 0.5174000263214111, 1.0087000131607056, 0.9484000205993652, 0.8858000040054321, 0.800599992275238, 0.5419999957084656, 0.5515000224113464, 0.8769000172615051, 0.8838000297546387, 0.19349999725818634, 0.2651999890804291, 0.8220000267028809, 0.9419999718666077, 0.6851000189781189, 0.5889999866485596, 0.07500000298023224, 0.3700999915599823, -0.24070000648498535, 0.3450999855995178, 0.800599992275238, 2.098400115966797, 2.098400115966797, 2.098400115966797, 2.098400115966797, 2.0982000827789307, 2.0957000255584717, 2.094399929046631, 2.0934998989105225, 2.093400001525879, 2.093400001525879, 2.0929999351501465, 2.0927999019622803, 2.0927000045776367, 2.0924999713897705, 2.092400074005127, 2.091900110244751, 2.0917999744415283, 2.0915000438690186, 2.0906999111175537, 2.0906999111175537, 2.0906999111175537, 2.090100049972534, 2.0899999141693115, 2.089900016784668, 2.089600086212158, 2.0894999504089355, 2.0894999504089355, 2.089200019836426, 2.089099884033203, 2.089099884033203, 2.088599920272827, 2.08870005607605, 2.0380001068115234, 1.8779000043869019, 1.9047000408172607, 1.9543999433517456, 1.6650999784469604, 1.7843999862670898, 1.2065999507904053, 1.4610999822616577, 1.7763999700546265, 1.1366000175476074, 0.8648999929428101, 1.0161999464035034, 1.0751999616622925, -0.3675999939441681, 0.5370000004768372, 0.7371000051498413, -0.20980000495910645, 0.5253000259399414, 1.2139999866485596, 0.10270000249147415, 1.7383999824523926, 1.7378000020980835, 1.7378000020980835, 1.7371000051498413, 1.7371000051498413, 1.736899971961975, 1.7366000413894653, 1.7366000413894653, 1.73580002784729, 1.7353999614715576, 1.735200047492981, 1.7351000308990479, 1.7351000308990479, 1.7347999811172485, 1.7346999645233154, 1.7346999645233154, 1.7345999479293823, 1.7345000505447388, 1.7343000173568726, 1.7342000007629395, 1.7342000007629395, 1.7339999675750732, 1.7338999509811401, 1.7331000566482544, 1.732699990272522, 1.7325999736785889, 1.7324999570846558, 1.7324999570846558, 1.7323999404907227, 1.732300043106079, 1.5087000131607056, 1.5920000076293945, 1.2781000137329102, 1.3108999729156494, 1.0604000091552734, 1.3639999628067017, 0.9056000113487244, 0.8043000102043152, 1.1394000053405762, 1.0992000102996826, 1.2700999975204468, 1.3839000463485718, 1.4592000246047974, 1.13510000705719, 1.313099980354309, 0.24130000174045563, 1.5513999462127686, 0.2345000058412552, 0.5619000196456909, 1.1064000129699707, 0.7087000012397766, 0.9703999757766724, 1.0850000381469727, 0.39329999685287476]}, \"token.table\": {\"Topic\": [3, 3, 3, 5, 2, 2, 3, 5, 3, 1, 2, 3, 1, 2, 3, 2, 5, 5, 3, 5, 1, 2, 3, 5, 1, 4, 5, 4, 1, 5, 1, 4, 5, 1, 4, 5, 1, 2, 3, 5, 2, 3, 5, 5, 3, 4, 1, 5, 1, 2, 3, 4, 5, 5, 1, 4, 2, 3, 2, 2, 1, 5, 2, 1, 1, 3, 5, 1, 3, 3, 4, 1, 1, 3, 1, 3, 5, 5, 3, 3, 1, 2, 3, 5, 3, 4, 4, 3, 5, 1, 3, 1, 5, 2, 3, 3, 1, 5, 1, 2, 4, 5, 2, 3, 5, 5, 3, 4, 1, 3, 1, 3, 1, 4, 2, 4, 1, 2, 3, 4, 5, 2, 3, 1, 2, 3, 5, 3, 5, 5, 2, 3, 2, 2, 1, 2, 3, 1, 2, 3, 5, 1, 3, 1, 2, 3, 1, 2, 3, 4, 5, 4, 4, 5, 1, 2, 3, 3, 1, 2, 3, 5, 3, 2, 3, 1, 5, 4, 1, 3, 5, 2, 3, 4, 4, 1, 3, 5, 1, 4, 1, 4, 2, 5, 1, 3, 2, 2, 1, 4, 5, 1, 2, 3, 4, 5, 4, 4, 1, 2, 3, 5, 2, 1, 2, 4, 5, 2, 1, 2, 3, 4, 5, 1, 2, 3, 4, 5, 1, 3, 5, 2, 1, 2, 3, 5, 1, 5, 1, 2, 3, 4, 4, 1, 1, 3, 3, 2, 3, 4, 2, 4, 5, 5, 4, 5, 3, 2, 1, 2, 3, 3, 1, 2, 3, 4, 5, 1, 1, 4, 5, 1, 1, 4, 5, 2, 2, 5, 1, 2, 3, 4, 5, 2, 5, 1, 3, 5, 5, 5, 4, 5, 2, 3, 3, 3, 1, 3, 5, 1, 4, 4, 1, 1, 3, 5, 1, 4, 4, 2, 5, 5, 2, 3, 4, 5, 3, 2, 4, 5, 2, 3, 4, 2, 3, 4, 1, 3, 5, 1, 3, 4, 1, 4, 4, 2, 3, 1, 4, 4, 4, 1, 3, 4, 5, 1, 1, 4, 1, 2, 2, 5, 2, 5, 1, 1, 2, 3, 3, 2, 2, 2, 3, 4, 5, 5, 1, 3, 4, 1, 4, 2, 2, 4, 5, 1, 2, 4, 5, 1, 2, 4, 5, 2, 2, 3, 5, 2, 3, 3, 1, 2, 3, 1, 2, 3, 5, 1, 3, 4, 1, 2, 3, 4, 1, 2, 3, 2, 1, 5, 1, 3, 3, 1, 2, 3, 5, 3, 1, 2, 3, 4, 5, 1, 4, 1, 4, 5, 1, 3, 5, 3, 4, 5, 3, 4, 2, 3, 5, 4, 1, 1, 4, 1, 2, 3, 1, 2, 3, 4, 5, 1, 2, 1, 2, 3, 4, 2, 3, 4, 1, 3, 1, 2, 1, 4, 5, 1, 2, 3, 5, 5, 1, 3, 5, 2, 3], \"Freq\": [0.9967326521873474, 0.9966088533401489, 0.9970981478691101, 0.9959479570388794, 0.9923452138900757, 0.06797656416893005, 0.8985652327537537, 0.03292614966630936, 0.997248649597168, 0.5149718523025513, 0.0007779030711390078, 0.4838557243347168, 0.3876657783985138, 0.5774241089820862, 0.0337606817483902, 0.9972959160804749, 0.9948754906654358, 0.9953078031539917, 0.9955147504806519, 0.998359739780426, 0.9986463785171509, 0.9772669672966003, 0.018323756754398346, 0.997654914855957, 0.7148128151893616, 0.13615481555461884, 0.14879776537418365, 0.9892511963844299, 0.167367085814476, 0.8290508985519409, 0.18251581490039825, 0.022174818441271782, 0.7948819994926453, 0.9071947336196899, 0.046574730426073074, 0.04556223750114441, 0.15820980072021484, 0.062800832092762, 0.6400854587554932, 0.13767875730991364, 0.039330706000328064, 0.9124723672866821, 0.04719684645533562, 0.9953680038452148, 0.9983705282211304, 0.9950834512710571, 0.13515225052833557, 0.8641553521156311, 0.2865232527256012, 0.14625316858291626, 0.39754271507263184, 0.050523824989795685, 0.11899690330028534, 0.9980899691581726, 0.05559537187218666, 0.9371791481971741, 0.9963108897209167, 0.9915145039558411, 0.9918695688247681, 0.997992753982544, 0.99619460105896, 0.9923222064971924, 0.9982883334159851, 0.9993899464607239, 0.17822523415088654, 0.8073700070381165, 0.014608625322580338, 0.2132013589143753, 0.7869438529014587, 0.994770348072052, 0.9913359880447388, 0.9966810941696167, 0.9954010844230652, 0.9966558218002319, 0.17625921964645386, 0.121475949883461, 0.7002731561660767, 0.9981019496917725, 0.9976023435592651, 0.9971633553504944, 0.2687136232852936, 0.5881842970848083, 0.143313929438591, 0.9948669672012329, 0.9918051362037659, 0.9844056367874146, 0.9930419325828552, 0.9969949126243591, 0.997210681438446, 0.5654428005218506, 0.4348686933517456, 0.998695969581604, 0.9984684586524963, 0.052587512880563736, 0.9436537027359009, 0.9988824129104614, 0.9961819648742676, 0.9966368079185486, 0.3509092330932617, 0.08687558770179749, 0.0987996906042099, 0.4633364677429199, 0.7438867092132568, 0.25504687428474426, 0.9967285394668579, 0.9931240677833557, 0.9938748478889465, 0.9904816746711731, 0.9984561204910278, 0.9946373701095581, 0.12221832573413849, 0.8741267323493958, 0.7783448696136475, 0.2208225578069687, 0.9970670938491821, 0.9878725409507751, 0.2123311311006546, 0.352001428604126, 0.30356085300445557, 0.09930315613746643, 0.033101052045822144, 0.06763628870248795, 0.9304559230804443, 0.14408186078071594, 0.12438958138227463, 0.7108914256095886, 0.02067689597606659, 0.47939515113830566, 0.5200218558311462, 0.9986428022384644, 0.7250075340270996, 0.27380603551864624, 0.9979250431060791, 0.9984148144721985, 0.0005561108700931072, 0.6578791737556458, 0.34145209193229675, 0.2392960488796234, 0.4086853861808777, 0.09231270849704742, 0.26080581545829773, 0.14495743811130524, 0.8544859290122986, 0.8320407867431641, 0.11609870940446854, 0.05092048645019531, 0.7241377830505371, 0.15322016179561615, 0.04941695183515549, 0.021809715777635574, 0.0513494573533535, 0.9968416094779968, 0.9994087815284729, 0.9980650544166565, 0.1814294457435608, 0.07536300271749496, 0.7433955073356628, 0.9913346171379089, 0.19578146934509277, 0.009435252286493778, 0.6769793033599854, 0.11794064939022064, 0.9958454370498657, 0.08809318393468857, 0.9113640785217285, 0.24339859187602997, 0.7562742233276367, 0.9957515001296997, 0.17627811431884766, 0.1365291327238083, 0.6878302693367004, 0.9992329478263855, 0.9968441128730774, 0.9839980006217957, 0.9994737505912781, 0.633907675743103, 0.2559012472629547, 0.11041424423456192, 0.9971717596054077, 0.989429771900177, 0.9449008703231812, 0.054808635264635086, 0.9949340224266052, 0.996099591255188, 0.6821746826171875, 0.31818312406539917, 0.9947768449783325, 0.9899889230728149, 0.8781824111938477, 0.07427413016557693, 0.04805973172187805, 0.9950934052467346, 0.5239741206169128, 0.15653999149799347, 0.2076328992843628, 0.11196957528591156, 0.9993948340415955, 0.9997332096099854, 0.17015336453914642, 0.24642901122570038, 0.03447072580456734, 0.5493313074111938, 0.9969423413276672, 0.1934874802827835, 0.3288869261741638, 0.08483360707759857, 0.39282554388046265, 0.9963108897209167, 0.26304006576538086, 0.26686933636665344, 0.22121287882328033, 0.02533196657896042, 0.2235693335533142, 0.2796654999256134, 0.4381580054759979, 0.027644038200378418, 0.032251376658678055, 0.2220737636089325, 0.22995373606681824, 0.24230024218559265, 0.5278132557868958, 0.9954949021339417, 0.11958437412977219, 0.058176182210445404, 0.7724504470825195, 0.04848015308380127, 0.8154159784317017, 0.1835341453552246, 0.2406250238418579, 0.13077446818351746, 0.6264097094535828, 0.0013077447656542063, 0.9935944676399231, 0.9929850697517395, 0.4924483597278595, 0.5069855451583862, 0.997749924659729, 0.27420803904533386, 0.46873167157173157, 0.2566305994987488, 0.9943938851356506, 0.9997332096099854, 0.9938275814056396, 0.9956660270690918, 0.995920717716217, 0.9952767491340637, 0.9959484338760376, 0.995665431022644, 0.18561848998069763, 0.13258463144302368, 0.6806011199951172, 0.997666597366333, 0.3882371187210083, 0.10768620669841766, 0.4886362850666046, 0.0064773657359182835, 0.009311213158071041, 0.9976282119750977, 0.28214824199676514, 0.409624844789505, 0.30849340558052063, 0.998365044593811, 0.2707376778125763, 0.3812428414821625, 0.3462495505809784, 0.997766375541687, 0.7389727830886841, 0.2605496644973755, 0.0464416965842247, 0.5231520533561707, 0.3670943081378937, 0.004439279902726412, 0.058735087513923645, 0.9982571601867676, 0.9917119741439819, 0.5723900198936462, 0.3482680022716522, 0.07910188287496567, 0.997416615486145, 0.9970273375511169, 0.824755847454071, 0.17338617146015167, 0.05474654212594032, 0.9447287917137146, 0.9965144395828247, 0.9949535131454468, 0.5418996810913086, 0.4078001379966736, 0.05088905617594719, 0.5852180123329163, 0.4126191735267639, 0.993486762046814, 0.9960711598396301, 0.028763379901647568, 0.7708585858345032, 0.2001931220293045, 0.9980767369270325, 0.9942350387573242, 0.9898920655250549, 0.4677019715309143, 0.531119167804718, 0.9965111017227173, 0.5047976970672607, 0.38632476329803467, 0.0377739742398262, 0.07039695233106613, 0.9988676905632019, 0.4466765820980072, 0.04567403718829155, 0.5074462890625, 0.2617127001285553, 0.7224524021148682, 0.015671418979763985, 0.37244924902915955, 0.6263919472694397, 0.9930217862129211, 0.11659260094165802, 0.33538365364074707, 0.5469776391983032, 0.9962478280067444, 0.1967374086380005, 0.800517737865448, 0.9386767745018005, 0.05964835733175278, 0.9923120141029358, 0.039503030478954315, 0.9612404704093933, 0.9965978860855103, 0.9945626854896545, 0.9893377423286438, 0.9896010160446167, 0.2905341684818268, 0.5585025548934937, 0.03949008136987686, 0.11188855767250061, 0.9978951811790466, 0.99326491355896, 0.9872402548789978, 0.9983454942703247, 0.9965116381645203, 0.5651217699050903, 0.4345478117465973, 0.9994217753410339, 0.9986690282821655, 0.999150812625885, 0.999489426612854, 0.11431028693914413, 0.8838635087013245, 0.9945599436759949, 0.9965474605560303, 0.9940019249916077, 0.628613293170929, 0.0559195876121521, 0.1176239624619484, 0.19861096143722534, 0.9917829632759094, 0.339240163564682, 0.13117286562919617, 0.52921462059021, 0.9933567643165588, 0.9935367703437805, 0.9907033443450928, 0.056436385959386826, 0.2915879786014557, 0.6513699293136597, 0.3121547996997833, 0.1827642172574997, 0.33803293108940125, 0.1665903925895691, 0.011940602213144302, 0.14755171537399292, 0.2098134309053421, 0.6311460733413696, 0.9931830167770386, 0.0023370804265141487, 0.34355083107948303, 0.652045488357544, 0.6824318766593933, 0.31697654724121094, 0.9956645965576172, 0.15236370265483856, 0.06656666845083237, 0.7810488939285278, 0.9962503910064697, 0.16248385608196259, 0.48063409328460693, 0.3567827343940735, 0.6325412392616272, 0.3357565104961395, 0.029978258535265923, 0.5535746216773987, 0.27747073769569397, 0.16812266409397125, 0.9931894540786743, 0.6288049817085266, 0.008384066633880138, 0.36191219091415405, 0.9970254302024841, 0.9494049549102783, 0.048401035368442535, 0.9957445859909058, 0.9918021559715271, 0.9939972758293152, 0.07040002197027206, 0.06593018025159836, 0.6827684640884399, 0.18102861940860748, 0.9962003231048584, 0.542528510093689, 0.2810395658016205, 0.06842701882123947, 0.023216310888528824, 0.08675568550825119, 0.9932830929756165, 0.9861494898796082, 0.14421454071998596, 0.6479204297065735, 0.20691651105880737, 0.9979538321495056, 0.0025200853124260902, 0.9994239807128906, 0.2714895009994507, 0.7220465540885925, 0.9980677366256714, 0.9946788549423218, 0.9949980974197388, 0.9975941777229309, 0.9130424857139587, 0.08551153540611267, 0.993959903717041, 0.9979040622711182, 0.1277441382408142, 0.867315411567688, 0.246970996260643, 0.026134496554732323, 0.7265390157699585, 0.26469141244888306, 0.23014065623283386, 0.4722925126552582, 0.010083481669425964, 0.02268783561885357, 0.99598628282547, 0.9946150183677673, 0.23553681373596191, 0.6479328274726868, 0.05619825795292854, 0.061156924813985825, 0.13417090475559235, 0.13417090475559235, 0.7289952039718628, 0.9079434275627136, 0.0913315862417221, 0.9971475005149841, 0.9971000552177429, 0.5040755867958069, 0.3597862720489502, 0.13679374754428864, 0.06111616641283035, 0.06564328819513321, 0.8601534366607666, 0.01131780818104744, 0.9950518608093262, 0.1483563929796219, 0.22492744028568268, 0.6253301501274109, 0.02674769051373005, 0.9723572134971619], \"Term\": [\"according\", \"account\", \"achieve\", \"acquisition\", \"acquisitions\", \"advice\", \"advice\", \"advice\", \"advisers\", \"advisors\", \"advisors\", \"advisors\", \"ai\", \"ai\", \"ai\", \"already\", \"alts\", \"altseason\", \"always\", \"amp\", \"april\", \"artificialintelligence\", \"artificialintelligence\", \"asia\", \"assetmanagement\", \"assetmanagement\", \"assetmanagement\", \"assetprotection\", \"awards\", \"awards\", \"bank\", \"bank\", \"bank\", \"banking\", \"banking\", \"banking\", \"best\", \"best\", \"best\", \"best\", \"better\", \"better\", \"better\", \"bond\", \"brand\", \"bse\", \"btc\", \"btc\", \"business\", \"business\", \"business\", \"business\", \"business\", \"buy\", \"cannabis\", \"cannabis\", \"capitaladvisors\", \"care\", \"cc\", \"cfp\", \"challenges\", \"chief\", \"children\", \"click\", \"client\", \"client\", \"client\", \"clients\", \"clients\", \"comes\", \"commentary\", \"compliance\", \"conference\", \"create\", \"crypto\", \"crypto\", \"crypto\", \"cryptocurrency\", \"cx\", \"cybersecurity\", \"day\", \"day\", \"day\", \"deal\", \"decisions\", \"der\", \"die\", \"different\", \"dig\", \"digital\", \"digital\", \"discusses\", \"dividend\", \"don\", \"don\", \"education\", \"endowments\", \"energy\", \"equity\", \"equity\", \"equity\", \"equity\", \"estateplanning\", \"estateplanning\", \"eth\", \"ethereum\", \"even\", \"evening\", \"event\", \"ever\", \"experience\", \"experience\", \"familyoffice\", \"familyoffice\", \"featured\", \"fed\", \"finance\", \"finance\", \"finance\", \"finance\", \"finance\", \"finances\", \"finances\", \"financial\", \"financial\", \"financial\", \"financial\", \"financialadvice\", \"financialadvice\", \"financialadvisers\", \"financialadvisor\", \"financialadvisor\", \"financialfreedom\", \"financialplanner\", \"financialplanning\", \"financialplanning\", \"financialplanning\", \"financialservices\", \"financialservices\", \"financialservices\", \"financialservices\", \"find\", \"find\", \"finserv\", \"finserv\", \"finserv\", \"fintech\", \"fintech\", \"fintech\", \"fintech\", \"fintech\", \"forex\", \"ftse\", \"fund\", \"future\", \"future\", \"future\", \"generation\", \"get\", \"get\", \"get\", \"get\", \"giving\", \"goals\", \"goals\", \"gold\", \"gold\", \"greg\", \"growth\", \"growth\", \"growth\", \"gt\", \"guide\", \"habits\", \"healthinsurance\", \"here\", \"here\", \"here\", \"ianwenik\", \"il\", \"in\", \"in\", \"inc\", \"index\", \"industry\", \"industry\", \"influencers\", \"infographics\", \"innovation\", \"innovation\", \"innovation\", \"institutionalinvestors\", \"insurance\", \"insurance\", \"insurance\", \"insurance\", \"insurancenews\", \"insurancequotes\", \"invest\", \"invest\", \"invest\", \"invest\", \"investconfex\", \"investing\", \"investing\", \"investing\", \"investing\", \"investmemtadvisor\", \"investment\", \"investment\", \"investment\", \"investment\", \"investment\", \"investments\", \"investments\", \"investments\", \"investments\", \"investments\", \"investors\", \"investors\", \"investors\", \"iot\", \"it\", \"it\", \"it\", \"it\", \"join\", \"join\", \"know\", \"know\", \"know\", \"know\", \"le\", \"leader\", \"learn\", \"learn\", \"let\", \"life\", \"life\", \"life\", \"lifeinsurance\", \"lifeinsuranceupdater\", \"lifestyle\", \"logical\", \"los\", \"low\", \"luxury\", \"machinelearning\", \"make\", \"make\", \"make\", \"manage\", \"management\", \"management\", \"management\", \"management\", \"management\", \"march\", \"market\", \"market\", \"market\", \"marketing\", \"markets\", \"markets\", \"markets\", \"mikequindazzi\", \"million\", \"million\", \"money\", \"money\", \"money\", \"money\", \"money\", \"moneymanagement\", \"moneymatters\", \"more\", \"more\", \"more\", \"mutualfundssahihai\", \"mxn\", \"nasdaq\", \"nasdaq\", \"need\", \"need\", \"needs\", \"net\", \"new\", \"new\", \"new\", \"news\", \"news\", \"north\", \"onboarding\", \"one\", \"one\", \"one\", \"outlook\", \"para\", \"parents\", \"pension\", \"pension\", \"pensions\", \"people\", \"people\", \"people\", \"people\", \"personal\", \"personalfinance\", \"personalfinance\", \"personalfinance\", \"plan\", \"plan\", \"plan\", \"planning\", \"planning\", \"por\", \"portfolio\", \"portfolio\", \"portfolio\", \"practice\", \"price\", \"price\", \"privateequity\", \"privateequity\", \"protection\", \"provide\", \"provide\", \"purnartha\", \"purpose\", \"que\", \"quotes\", \"read\", \"read\", \"read\", \"read\", \"regtech\", \"regulation\", \"reporting\", \"reports\", \"retire\", \"retirement\", \"retirement\", \"retirementplanning\", \"returns\", \"ria\", \"rias\", \"right\", \"right\", \"rising\", \"roboadvisors\", \"rrsp\", \"savings\", \"savings\", \"savings\", \"savings\", \"schemes\", \"share\", \"share\", \"share\", \"social\", \"sp500\", \"statistacharts\", \"stock\", \"stock\", \"stock\", \"stockmarket\", \"stockmarket\", \"stockmarket\", \"stockmarket\", \"stocks\", \"stocks\", \"stocks\", \"stocks\", \"stockstowatch\", \"strategy\", \"strategy\", \"strategy\", \"success\", \"success\", \"swissglobal\", \"take\", \"take\", \"take\", \"tangiblealpha\", \"tax\", \"tax\", \"tax\", \"team\", \"team\", \"team\", \"tech\", \"tech\", \"tech\", \"technicalanalysis\", \"technology\", \"technology\", \"technology\", \"tfsa\", \"th\", \"th\", \"thanks\", \"them\", \"thinking\", \"time\", \"time\", \"time\", \"time\", \"tools\", \"top\", \"top\", \"top\", \"top\", \"top\", \"trade\", \"trader\", \"trading\", \"trading\", \"trading\", \"trends\", \"trends\", \"tsx\", \"uhnwi\", \"uhnwi\", \"uk\", \"understand\", \"update\", \"ursbolt\", \"value\", \"value\", \"valueinvesting\", \"venturecapital\", \"wallstreet\", \"wallstreet\", \"want\", \"want\", \"want\", \"wealth\", \"wealth\", \"wealth\", \"wealth\", \"wealth\", \"wealth_mgmt\", \"wealthbuilding\", \"wealthmanagement\", \"wealthmanagement\", \"wealthmanagement\", \"wealthmanagement\", \"wealthplanning\", \"wealthplanning\", \"wealthplanning\", \"wealthtech\", \"wealthtech\", \"webinar\", \"wednesdaywisdom\", \"week\", \"week\", \"week\", \"work\", \"work\", \"work\", \"work\", \"worldwide\", \"year\", \"year\", \"year\", \"you\", \"you\"]}, \"R\": 30, \"lambda.step\": 0.01, \"plot.opts\": {\"xlab\": \"PC1\", \"ylab\": \"PC2\"}, \"topic.order\": [1, 2, 3, 4, 5]};\n",
       "\n",
       "function LDAvis_load_lib(url, callback){\n",
       "  var s = document.createElement('script');\n",
       "  s.src = url;\n",
       "  s.async = true;\n",
       "  s.onreadystatechange = s.onload = callback;\n",
       "  s.onerror = function(){console.warn(\"failed to load library \" + url);};\n",
       "  document.getElementsByTagName(\"head\")[0].appendChild(s);\n",
       "}\n",
       "\n",
       "if(typeof(LDAvis) !== \"undefined\"){\n",
       "   // already loaded: just create the visualization\n",
       "   !function(LDAvis){\n",
       "       new LDAvis(\"#\" + \"ldavis_el914016236922751443341457851\", ldavis_el914016236922751443341457851_data);\n",
       "   }(LDAvis);\n",
       "}else if(typeof define === \"function\" && define.amd){\n",
       "   // require.js is available: use it to load d3/LDAvis\n",
       "   require.config({paths: {d3: \"https://cdnjs.cloudflare.com/ajax/libs/d3/3.5.5/d3.min\"}});\n",
       "   require([\"d3\"], function(d3){\n",
       "      window.d3 = d3;\n",
       "      LDAvis_load_lib(\"https://cdn.rawgit.com/bmabey/pyLDAvis/files/ldavis.v1.0.0.js\", function(){\n",
       "        new LDAvis(\"#\" + \"ldavis_el914016236922751443341457851\", ldavis_el914016236922751443341457851_data);\n",
       "      });\n",
       "    });\n",
       "}else{\n",
       "    // require.js not available: dynamically load d3 & LDAvis\n",
       "    LDAvis_load_lib(\"https://cdnjs.cloudflare.com/ajax/libs/d3/3.5.5/d3.min.js\", function(){\n",
       "         LDAvis_load_lib(\"https://cdn.rawgit.com/bmabey/pyLDAvis/files/ldavis.v1.0.0.js\", function(){\n",
       "                 new LDAvis(\"#\" + \"ldavis_el914016236922751443341457851\", ldavis_el914016236922751443341457851_data);\n",
       "            })\n",
       "         });\n",
       "}\n",
       "</script>"
      ],
      "text/plain": [
       "<IPython.core.display.HTML object>"
      ]
     },
     "execution_count": 51,
     "metadata": {},
     "output_type": "execute_result"
    }
   ],
   "source": [
    "import pyLDAvis.gensim\n",
    "lda_display = pyLDAvis.gensim.prepare(lda, corpus, dictionary, sort_topics=False)\n",
    "pyLDAvis.display(lda_display)"
   ]
  },
  {
   "cell_type": "code",
   "execution_count": null,
   "metadata": {},
   "outputs": [],
   "source": []
  }
 ],
 "metadata": {
  "kernelspec": {
   "display_name": "Python 3",
   "language": "python",
   "name": "python3"
  },
  "language_info": {
   "codemirror_mode": {
    "name": "ipython",
    "version": 3
   },
   "file_extension": ".py",
   "mimetype": "text/x-python",
   "name": "python",
   "nbconvert_exporter": "python",
   "pygments_lexer": "ipython3",
   "version": "3.7.6"
  }
 },
 "nbformat": 4,
 "nbformat_minor": 4
}
