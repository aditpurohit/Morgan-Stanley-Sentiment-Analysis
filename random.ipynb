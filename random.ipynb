{
 "cells": [
  {
   "cell_type": "code",
   "execution_count": 1,
   "metadata": {},
   "outputs": [],
   "source": [
    "import numpy as np\n",
    "import pandas as pd\n",
    "import matplotlib.pyplot as plt"
   ]
  },
  {
   "cell_type": "code",
   "execution_count": 2,
   "metadata": {},
   "outputs": [
    {
     "data": {
      "text/html": [
       "<div>\n",
       "<style scoped>\n",
       "    .dataframe tbody tr th:only-of-type {\n",
       "        vertical-align: middle;\n",
       "    }\n",
       "\n",
       "    .dataframe tbody tr th {\n",
       "        vertical-align: top;\n",
       "    }\n",
       "\n",
       "    .dataframe thead th {\n",
       "        text-align: right;\n",
       "    }\n",
       "</style>\n",
       "<table border=\"1\" class=\"dataframe\">\n",
       "  <thead>\n",
       "    <tr style=\"text-align: right;\">\n",
       "      <th></th>\n",
       "      <th>date</th>\n",
       "      <th>username</th>\n",
       "      <th>to</th>\n",
       "      <th>replies</th>\n",
       "      <th>retweets</th>\n",
       "      <th>favorites</th>\n",
       "      <th>text</th>\n",
       "      <th>geo</th>\n",
       "      <th>mentions</th>\n",
       "      <th>hashtags</th>\n",
       "      <th>id</th>\n",
       "      <th>permalink</th>\n",
       "    </tr>\n",
       "  </thead>\n",
       "  <tbody>\n",
       "    <tr>\n",
       "      <th>0</th>\n",
       "      <td>12/31/2019 23:45</td>\n",
       "      <td>HT_Great_Lakes</td>\n",
       "      <td>NaN</td>\n",
       "      <td>0</td>\n",
       "      <td>1</td>\n",
       "      <td>1</td>\n",
       "      <td>Thinking about transitioning your business? Yo...</td>\n",
       "      <td>NaN</td>\n",
       "      <td>NaN</td>\n",
       "      <td>#wealthmanagement #hightowergreatlakes #busine...</td>\n",
       "      <td>1.212160e+18</td>\n",
       "      <td>https://twitter.com/HT_Great_Lakes/status/1212...</td>\n",
       "    </tr>\n",
       "    <tr>\n",
       "      <th>1</th>\n",
       "      <td>12/31/2019 23:31</td>\n",
       "      <td>ripsawwealth</td>\n",
       "      <td>NaN</td>\n",
       "      <td>0</td>\n",
       "      <td>2</td>\n",
       "      <td>3</td>\n",
       "      <td>http://RipsawWealth.com #2020WillBeTheYearFor ...</td>\n",
       "      <td>NaN</td>\n",
       "      <td>NaN</td>\n",
       "      <td>#2020WillBeTheYearFor #HappyNewYear #happynewy...</td>\n",
       "      <td>1.212150e+18</td>\n",
       "      <td>https://twitter.com/ripsawwealth/status/121215...</td>\n",
       "    </tr>\n",
       "    <tr>\n",
       "      <th>2</th>\n",
       "      <td>12/31/2019 23:00</td>\n",
       "      <td>TedHunter1</td>\n",
       "      <td>NaN</td>\n",
       "      <td>0</td>\n",
       "      <td>0</td>\n",
       "      <td>0</td>\n",
       "      <td>#wealthmanagement #maxous</td>\n",
       "      <td>NaN</td>\n",
       "      <td>NaN</td>\n",
       "      <td>#wealthmanagement #maxous</td>\n",
       "      <td>1.212150e+18</td>\n",
       "      <td>https://twitter.com/TedHunter1/status/12121465...</td>\n",
       "    </tr>\n",
       "    <tr>\n",
       "      <th>3</th>\n",
       "      <td>12/31/2019 22:45</td>\n",
       "      <td>RAlexJimenez</td>\n",
       "      <td>NaN</td>\n",
       "      <td>0</td>\n",
       "      <td>0</td>\n",
       "      <td>0</td>\n",
       "      <td>#WealthManagement and private banking trends: ...</td>\n",
       "      <td>NaN</td>\n",
       "      <td>@FinTechMagazine</td>\n",
       "      <td>#WealthManagement #wealthtech #fintech #finserv</td>\n",
       "      <td>1.212140e+18</td>\n",
       "      <td>https://twitter.com/RAlexJimenez/status/121214...</td>\n",
       "    </tr>\n",
       "    <tr>\n",
       "      <th>4</th>\n",
       "      <td>12/31/2019 22:43</td>\n",
       "      <td>findadvisor</td>\n",
       "      <td>NaN</td>\n",
       "      <td>0</td>\n",
       "      <td>0</td>\n",
       "      <td>0</td>\n",
       "      <td>Is Your Money Ready for Retirement? #Retiremen...</td>\n",
       "      <td>NaN</td>\n",
       "      <td>NaN</td>\n",
       "      <td>#RetirementPlan #FinancialPlan #WealthManageme...</td>\n",
       "      <td>1.212140e+18</td>\n",
       "      <td>https://twitter.com/findadvisor/status/1212142...</td>\n",
       "    </tr>\n",
       "  </tbody>\n",
       "</table>\n",
       "</div>"
      ],
      "text/plain": [
       "               date        username   to  replies  retweets  favorites  \\\n",
       "0  12/31/2019 23:45  HT_Great_Lakes  NaN        0         1          1   \n",
       "1  12/31/2019 23:31    ripsawwealth  NaN        0         2          3   \n",
       "2  12/31/2019 23:00      TedHunter1  NaN        0         0          0   \n",
       "3  12/31/2019 22:45    RAlexJimenez  NaN        0         0          0   \n",
       "4  12/31/2019 22:43     findadvisor  NaN        0         0          0   \n",
       "\n",
       "                                                text  geo          mentions  \\\n",
       "0  Thinking about transitioning your business? Yo...  NaN               NaN   \n",
       "1  http://RipsawWealth.com #2020WillBeTheYearFor ...  NaN               NaN   \n",
       "2                          #wealthmanagement #maxous  NaN               NaN   \n",
       "3  #WealthManagement and private banking trends: ...  NaN  @FinTechMagazine   \n",
       "4  Is Your Money Ready for Retirement? #Retiremen...  NaN               NaN   \n",
       "\n",
       "                                            hashtags            id  \\\n",
       "0  #wealthmanagement #hightowergreatlakes #busine...  1.212160e+18   \n",
       "1  #2020WillBeTheYearFor #HappyNewYear #happynewy...  1.212150e+18   \n",
       "2                          #wealthmanagement #maxous  1.212150e+18   \n",
       "3    #WealthManagement #wealthtech #fintech #finserv  1.212140e+18   \n",
       "4  #RetirementPlan #FinancialPlan #WealthManageme...  1.212140e+18   \n",
       "\n",
       "                                           permalink  \n",
       "0  https://twitter.com/HT_Great_Lakes/status/1212...  \n",
       "1  https://twitter.com/ripsawwealth/status/121215...  \n",
       "2  https://twitter.com/TedHunter1/status/12121465...  \n",
       "3  https://twitter.com/RAlexJimenez/status/121214...  \n",
       "4  https://twitter.com/findadvisor/status/1212142...  "
      ]
     },
     "execution_count": 2,
     "metadata": {},
     "output_type": "execute_result"
    }
   ],
   "source": [
    "import pandas as pd\n",
    "df = pd.read_csv('combined_csv_wealthmanagement.csv')\n",
    "df.head()"
   ]
  },
  {
   "cell_type": "code",
   "execution_count": 4,
   "metadata": {},
   "outputs": [
    {
     "data": {
      "text/html": [
       "<div>\n",
       "<style scoped>\n",
       "    .dataframe tbody tr th:only-of-type {\n",
       "        vertical-align: middle;\n",
       "    }\n",
       "\n",
       "    .dataframe tbody tr th {\n",
       "        vertical-align: top;\n",
       "    }\n",
       "\n",
       "    .dataframe thead th {\n",
       "        text-align: right;\n",
       "    }\n",
       "</style>\n",
       "<table border=\"1\" class=\"dataframe\">\n",
       "  <thead>\n",
       "    <tr style=\"text-align: right;\">\n",
       "      <th></th>\n",
       "      <th>date</th>\n",
       "      <th>text</th>\n",
       "    </tr>\n",
       "  </thead>\n",
       "  <tbody>\n",
       "    <tr>\n",
       "      <th>0</th>\n",
       "      <td>12/31/2019 23:45</td>\n",
       "      <td>Thinking about transitioning your business? Yo...</td>\n",
       "    </tr>\n",
       "    <tr>\n",
       "      <th>1</th>\n",
       "      <td>12/31/2019 23:31</td>\n",
       "      <td>http://RipsawWealth.com #2020WillBeTheYearFor ...</td>\n",
       "    </tr>\n",
       "    <tr>\n",
       "      <th>2</th>\n",
       "      <td>12/31/2019 23:00</td>\n",
       "      <td>#wealthmanagement #maxous</td>\n",
       "    </tr>\n",
       "    <tr>\n",
       "      <th>3</th>\n",
       "      <td>12/31/2019 22:45</td>\n",
       "      <td>#WealthManagement and private banking trends: ...</td>\n",
       "    </tr>\n",
       "    <tr>\n",
       "      <th>4</th>\n",
       "      <td>12/31/2019 22:43</td>\n",
       "      <td>Is Your Money Ready for Retirement? #Retiremen...</td>\n",
       "    </tr>\n",
       "    <tr>\n",
       "      <th>...</th>\n",
       "      <td>...</td>\n",
       "      <td>...</td>\n",
       "    </tr>\n",
       "    <tr>\n",
       "      <th>26951</th>\n",
       "      <td>3/19/2019 17:11</td>\n",
       "      <td>.@Praemium said its major technology upgrade w...</td>\n",
       "    </tr>\n",
       "    <tr>\n",
       "      <th>26952</th>\n",
       "      <td>3/19/2019 16:59</td>\n",
       "      <td>A Seismic Shift in the Estate-Planning Landsca...</td>\n",
       "    </tr>\n",
       "    <tr>\n",
       "      <th>26953</th>\n",
       "      <td>3/19/2019 16:58</td>\n",
       "      <td>Interview: Scott Cooper, @CybiWealth – investi...</td>\n",
       "    </tr>\n",
       "    <tr>\n",
       "      <th>26954</th>\n",
       "      <td>3/19/2019 16:18</td>\n",
       "      <td>How much are you worth? . . . . #wealth #Wealt...</td>\n",
       "    </tr>\n",
       "    <tr>\n",
       "      <th>26955</th>\n",
       "      <td>3/19/2019 16:15</td>\n",
       "      <td>RRSP Investors: 3 Undervalued Stocks to Buy To...</td>\n",
       "    </tr>\n",
       "  </tbody>\n",
       "</table>\n",
       "<p>26956 rows × 2 columns</p>\n",
       "</div>"
      ],
      "text/plain": [
       "                   date                                               text\n",
       "0      12/31/2019 23:45  Thinking about transitioning your business? Yo...\n",
       "1      12/31/2019 23:31  http://RipsawWealth.com #2020WillBeTheYearFor ...\n",
       "2      12/31/2019 23:00                          #wealthmanagement #maxous\n",
       "3      12/31/2019 22:45  #WealthManagement and private banking trends: ...\n",
       "4      12/31/2019 22:43  Is Your Money Ready for Retirement? #Retiremen...\n",
       "...                 ...                                                ...\n",
       "26951   3/19/2019 17:11  .@Praemium said its major technology upgrade w...\n",
       "26952   3/19/2019 16:59  A Seismic Shift in the Estate-Planning Landsca...\n",
       "26953   3/19/2019 16:58  Interview: Scott Cooper, @CybiWealth – investi...\n",
       "26954   3/19/2019 16:18  How much are you worth? . . . . #wealth #Wealt...\n",
       "26955   3/19/2019 16:15  RRSP Investors: 3 Undervalued Stocks to Buy To...\n",
       "\n",
       "[26956 rows x 2 columns]"
      ]
     },
     "execution_count": 4,
     "metadata": {},
     "output_type": "execute_result"
    }
   ],
   "source": [
    "df_tweets = df[[\"date\",\"text\"]]\n",
    "df_tweets = df_tweets.dropna()\n",
    "df_tweets"
   ]
  },
  {
   "cell_type": "code",
   "execution_count": 5,
   "metadata": {
    "scrolled": true
   },
   "outputs": [
    {
     "name": "stderr",
     "output_type": "stream",
     "text": [
      "[nltk_data] Downloading package stopwords to\n",
      "[nltk_data]     C:\\Users\\aditya.baser\\AppData\\Roaming\\nltk_data...\n",
      "[nltk_data]   Package stopwords is already up-to-date!\n"
     ]
    },
    {
     "data": {
      "text/html": [
       "<div>\n",
       "<style scoped>\n",
       "    .dataframe tbody tr th:only-of-type {\n",
       "        vertical-align: middle;\n",
       "    }\n",
       "\n",
       "    .dataframe tbody tr th {\n",
       "        vertical-align: top;\n",
       "    }\n",
       "\n",
       "    .dataframe thead th {\n",
       "        text-align: right;\n",
       "    }\n",
       "</style>\n",
       "<table border=\"1\" class=\"dataframe\">\n",
       "  <thead>\n",
       "    <tr style=\"text-align: right;\">\n",
       "      <th></th>\n",
       "      <th>date</th>\n",
       "      <th>text</th>\n",
       "      <th>preprocessed_text</th>\n",
       "      <th>tokenized_text</th>\n",
       "    </tr>\n",
       "  </thead>\n",
       "  <tbody>\n",
       "    <tr>\n",
       "      <th>0</th>\n",
       "      <td>12/31/2019 23:45</td>\n",
       "      <td>Thinking about transitioning your business? Yo...</td>\n",
       "      <td>thinking transitioning business? you’ll surpri...</td>\n",
       "      <td>[thinking, transitioning, business, you, ll, s...</td>\n",
       "    </tr>\n",
       "    <tr>\n",
       "      <th>1</th>\n",
       "      <td>12/31/2019 23:31</td>\n",
       "      <td>http://RipsawWealth.com #2020WillBeTheYearFor ...</td>\n",
       "      <td>#2020willbetheyearfor financial control! #happ...</td>\n",
       "      <td>[willbetheyearfor, financial, control, happyne...</td>\n",
       "    </tr>\n",
       "    <tr>\n",
       "      <th>2</th>\n",
       "      <td>12/31/2019 23:00</td>\n",
       "      <td>#wealthmanagement #maxous</td>\n",
       "      <td>#maxous</td>\n",
       "      <td>[maxous]</td>\n",
       "    </tr>\n",
       "    <tr>\n",
       "      <th>3</th>\n",
       "      <td>12/31/2019 22:45</td>\n",
       "      <td>#WealthManagement and private banking trends: ...</td>\n",
       "      <td>private banking trends: 2020 | @fintechmagazin...</td>\n",
       "      <td>[private, banking, trends, fintechmagazine, we...</td>\n",
       "    </tr>\n",
       "    <tr>\n",
       "      <th>4</th>\n",
       "      <td>12/31/2019 22:43</td>\n",
       "      <td>Is Your Money Ready for Retirement? #Retiremen...</td>\n",
       "      <td>money ready retirement? #retirementplan #finan...</td>\n",
       "      <td>[money, ready, retirement, retirementplan, fin...</td>\n",
       "    </tr>\n",
       "  </tbody>\n",
       "</table>\n",
       "</div>"
      ],
      "text/plain": [
       "               date                                               text  \\\n",
       "0  12/31/2019 23:45  Thinking about transitioning your business? Yo...   \n",
       "1  12/31/2019 23:31  http://RipsawWealth.com #2020WillBeTheYearFor ...   \n",
       "2  12/31/2019 23:00                          #wealthmanagement #maxous   \n",
       "3  12/31/2019 22:45  #WealthManagement and private banking trends: ...   \n",
       "4  12/31/2019 22:43  Is Your Money Ready for Retirement? #Retiremen...   \n",
       "\n",
       "                                   preprocessed_text  \\\n",
       "0  thinking transitioning business? you’ll surpri...   \n",
       "1  #2020willbetheyearfor financial control! #happ...   \n",
       "2                                            #maxous   \n",
       "3  private banking trends: 2020 | @fintechmagazin...   \n",
       "4  money ready retirement? #retirementplan #finan...   \n",
       "\n",
       "                                      tokenized_text  \n",
       "0  [thinking, transitioning, business, you, ll, s...  \n",
       "1  [willbetheyearfor, financial, control, happyne...  \n",
       "2                                           [maxous]  \n",
       "3  [private, banking, trends, fintechmagazine, we...  \n",
       "4  [money, ready, retirement, retirementplan, fin...  "
      ]
     },
     "execution_count": 5,
     "metadata": {},
     "output_type": "execute_result"
    }
   ],
   "source": [
    "from sklearn.feature_extraction.text import CountVectorizer\n",
    "from gensim.corpora import Dictionary\n",
    "from gensim.models.ldamodel import LdaModel\n",
    "from gensim.models import CoherenceModel\n",
    "from nltk.corpus import stopwords\n",
    "from nltk.tokenize import RegexpTokenizer\n",
    "from datetime import datetime\n",
    "import nltk\n",
    "nltk.download('stopwords')\n",
    "import pandas as pd\n",
    "import re\n",
    "import math\n",
    "\n",
    "def clean_tweets(df=df_tweets, \n",
    "                 tweet_col='text', \n",
    "                 date_col='date'\n",
    "                ):\n",
    "    \n",
    "    df_copy = df.copy()\n",
    "    \n",
    "    # drop rows with empty values\n",
    "    df_copy.dropna(inplace=True)\n",
    "    \n",
    "    # lower the tweets\n",
    "    df_copy['preprocessed_' + tweet_col] = df_copy[tweet_col].str.lower()\n",
    "    \n",
    "    # filter out stop words and URLs\n",
    "    en_stop_words = stopwords.words('english')\n",
    "    extended_words = ['&amp;', 'rt','th','co', 're', 've', 'kim', 'daca', '#wealthmanagement', 'wealthmanagement', 'de', 'la', 'en', 'ria', 'di', 'el', 'ask', 'un', 'con', 'per', 'del', 'help', 'you', 'via', 'us', 'gt', 'ai', 'cx']\n",
    "    en_stop_words.extend(extended_words)\n",
    "    en_stop_words = set(en_stop_words)\n",
    "    url_re = '(https?:\\/\\/(?:www\\.|(?!www))[a-zA-Z0-9][a-zA-Z0-9-]+[a-zA-Z0-9]\\.[^\\s]{2,}|www\\.[a-zA-Z0-9][a-zA-Z0-9-]+[a-zA-Z0-9]\\.[^\\s]{2,}|https?:\\/\\/(?:www\\.|(?!www))[a-zA-Z0-9]+\\.[^\\s]{2,}|www\\.[a-zA-Z0-9]+\\.[^\\s]{2,})'        \n",
    "    df_copy['preprocessed_' + tweet_col] = df_copy['preprocessed_' + tweet_col].apply(lambda row: ' '.join([word for word in row.split() if (not word in en_stop_words) and (not re.match(url_re, word))]))\n",
    "    \n",
    "    # tokenize the tweets\n",
    "    tokenizer = RegexpTokenizer('[a-zA-Z]\\w+\\'?\\w*')\n",
    "    df_copy['tokenized_' + tweet_col] = df_copy['preprocessed_' + tweet_col].apply(lambda row: tokenizer.tokenize(row))\n",
    "    \n",
    "    return df_copy\n",
    "  \n",
    "df_tweets_clean = clean_tweets(df_tweets)\n",
    "df_tweets_clean.head()"
   ]
  },
  {
   "cell_type": "code",
   "execution_count": 6,
   "metadata": {},
   "outputs": [
    {
     "data": {
      "text/plain": [
       "[('wealth', 5710),\n",
       " ('investing', 3565),\n",
       " ('financialplanning', 2957),\n",
       " ('investment', 2855),\n",
       " ('fintech', 2773),\n",
       " ('financial', 2575),\n",
       " ('money', 2447),\n",
       " ('retirement', 2171),\n",
       " ('finance', 2117),\n",
       " ('management', 2078)]"
      ]
     },
     "execution_count": 6,
     "metadata": {},
     "output_type": "execute_result"
    }
   ],
   "source": [
    "def get_most_freq_words(str, n=None):\n",
    "    vect = CountVectorizer().fit(str)\n",
    "    bag_of_words = vect.transform(str)\n",
    "    sum_words = bag_of_words.sum(axis=0) \n",
    "    freq = [(word, sum_words[0, idx]) for word, idx in vect.vocabulary_.items()]\n",
    "    freq =sorted(freq, key = lambda x: x[1], reverse=True)\n",
    "    return freq[:n]\n",
    "  \n",
    "get_most_freq_words([ word for tweet in df_tweets_clean.tokenized_text for word in tweet],10)"
   ]
  },
  {
   "cell_type": "code",
   "execution_count": 7,
   "metadata": {},
   "outputs": [],
   "source": [
    "# build a dictionary where for each tweet, each word has its own id.\n",
    "# We have 6882 tweets and 10893 words in the dictionary.\n",
    "tweets_dictionary = Dictionary(df_tweets_clean.tokenized_text)\n",
    "\n",
    "# build the corpus i.e. vectors with the number of occurence of each word per tweet\n",
    "tweets_corpus = [tweets_dictionary.doc2bow(tweet) for tweet in df_tweets_clean.tokenized_text]"
   ]
  },
  {
   "cell_type": "markdown",
   "metadata": {},
   "source": [
    "## Do not Run the below Cell - Takes 45 mins to run"
   ]
  },
  {
   "cell_type": "code",
   "execution_count": 8,
   "metadata": {},
   "outputs": [],
   "source": [
    "# compute coherence\n",
    "tweets_coherence = []\n",
    "for nb_topics in range(1,25):\n",
    "    lda = LdaModel(tweets_corpus, num_topics = nb_topics, id2word = tweets_dictionary, passes=10)\n",
    "    cohm = CoherenceModel(model=lda, corpus=tweets_corpus, dictionary=tweets_dictionary, coherence='u_mass')\n",
    "    coh = cohm.get_coherence()\n",
    "    tweets_coherence.append(coh)"
   ]
  },
  {
   "cell_type": "code",
   "execution_count": 9,
   "metadata": {},
   "outputs": [
    {
     "data": {
      "image/png": "[encoded data removed]",
      "text/plain": [
       "<Figure size 720x360 with 1 Axes>"
      ]
     },
     "metadata": {
      "needs_background": "light"
     },
     "output_type": "display_data"
    }
   ],
   "source": [
    "# visualize coherence\n",
    "plt.figure(figsize=(10,5))\n",
    "plt.plot(range(1,25),tweets_coherence)\n",
    "plt.xlabel(\"Number of Topics\")\n",
    "plt.ylabel(\"Coherence Score\");"
   ]
  },
  {
   "cell_type": "code",
   "execution_count": 8,
   "metadata": {},
   "outputs": [],
   "source": [
    "k = 13\n",
    "tweets_lda = LdaModel(tweets_corpus, num_topics = k, id2word = tweets_dictionary, passes=10)\n",
    "\n",
    "def plot_top_words(lda=tweets_lda, nb_topics=k, nb_words=10):\n",
    "    top_words = [[word for word,_ in lda.show_topic(topic_id, topn=50)] for topic_id in range(lda.num_topics)]\n",
    "    top_betas = [[beta for _,beta in lda.show_topic(topic_id, topn=50)] for topic_id in range(lda.num_topics)]\n",
    "\n",
    "    gs  = gridspec.GridSpec(round(math.sqrt(k))+1,round(math.sqrt(k))+1)\n",
    "    gs.update(wspace=0.5, hspace=0.5)\n",
    "    plt.figure(figsize=(20,15))\n",
    "    for i in range(nb_topics):\n",
    "        ax = plt.subplot(gs[i])\n",
    "        plt.barh(range(nb_words), top_betas[i][:nb_words], align='center',color='blue', ecolor='black')\n",
    "        ax.invert_yaxis()\n",
    "        ax.set_yticks(range(nb_words))\n",
    "        ax.set_yticklabels(top_words[i][:nb_words])\n",
    "        plt.title(\"Topic \"+str(i))"
   ]
  },
  {
   "cell_type": "code",
   "execution_count": 9,
   "metadata": {},
   "outputs": [
    {
     "data": {
      "image/png": "[encoded data removed]",
      "text/plain": [
       "<Figure size 1440x1080 with 13 Axes>"
      ]
     },
     "metadata": {
      "needs_background": "light"
     },
     "output_type": "display_data"
    }
   ],
   "source": [
    "import matplotlib.gridspec as gridspec\n",
    "plot_top_words()"
   ]
  },
  {
   "cell_type": "code",
   "execution_count": 10,
   "metadata": {},
   "outputs": [],
   "source": [
    "list1 = []\n",
    "list2 = []\n",
    "for i in range(len(df_tweets_clean)):\n",
    "    x = tweets_lda[tweets_corpus[i]]\n",
    "    x.sort(key=lambda x:x[1], reverse = True)\n",
    "    list1.append('Topic'+str(x[0][0]))\n",
    "    try:\n",
    "        if x[1][1] > 0.3:\n",
    "            list2.append('Topic'+str(x[1][0]))\n",
    "        else: \n",
    "            list2.append(None)\n",
    "    except: \n",
    "            list2.append(None)"
   ]
  },
  {
   "cell_type": "code",
   "execution_count": 11,
   "metadata": {},
   "outputs": [
    {
     "name": "stdout",
     "output_type": "stream",
     "text": [
      "26956 26956\n"
     ]
    }
   ],
   "source": [
    "print(len(list1),len(list2))"
   ]
  },
  {
   "cell_type": "code",
   "execution_count": 12,
   "metadata": {},
   "outputs": [
    {
     "data": {
      "text/html": [
       "<div>\n",
       "<style scoped>\n",
       "    .dataframe tbody tr th:only-of-type {\n",
       "        vertical-align: middle;\n",
       "    }\n",
       "\n",
       "    .dataframe tbody tr th {\n",
       "        vertical-align: top;\n",
       "    }\n",
       "\n",
       "    .dataframe thead th {\n",
       "        text-align: right;\n",
       "    }\n",
       "</style>\n",
       "<table border=\"1\" class=\"dataframe\">\n",
       "  <thead>\n",
       "    <tr style=\"text-align: right;\">\n",
       "      <th></th>\n",
       "      <th>date</th>\n",
       "      <th>text</th>\n",
       "      <th>preprocessed_text</th>\n",
       "      <th>tokenized_text</th>\n",
       "      <th>Label1</th>\n",
       "      <th>Label2</th>\n",
       "    </tr>\n",
       "  </thead>\n",
       "  <tbody>\n",
       "    <tr>\n",
       "      <th>0</th>\n",
       "      <td>12/31/2019 23:45</td>\n",
       "      <td>Thinking about transitioning your business? Yo...</td>\n",
       "      <td>thinking transitioning business? you’ll surpri...</td>\n",
       "      <td>[thinking, transitioning, business, you, ll, s...</td>\n",
       "      <td>Topic11</td>\n",
       "      <td>None</td>\n",
       "    </tr>\n",
       "    <tr>\n",
       "      <th>1</th>\n",
       "      <td>12/31/2019 23:31</td>\n",
       "      <td>http://RipsawWealth.com #2020WillBeTheYearFor ...</td>\n",
       "      <td>#2020willbetheyearfor financial control! #happ...</td>\n",
       "      <td>[willbetheyearfor, financial, control, happyne...</td>\n",
       "      <td>Topic11</td>\n",
       "      <td>None</td>\n",
       "    </tr>\n",
       "    <tr>\n",
       "      <th>2</th>\n",
       "      <td>12/31/2019 23:00</td>\n",
       "      <td>#wealthmanagement #maxous</td>\n",
       "      <td>#maxous</td>\n",
       "      <td>[maxous]</td>\n",
       "      <td>Topic0</td>\n",
       "      <td>None</td>\n",
       "    </tr>\n",
       "    <tr>\n",
       "      <th>3</th>\n",
       "      <td>12/31/2019 22:45</td>\n",
       "      <td>#WealthManagement and private banking trends: ...</td>\n",
       "      <td>private banking trends: 2020 | @fintechmagazin...</td>\n",
       "      <td>[private, banking, trends, fintechmagazine, we...</td>\n",
       "      <td>Topic4</td>\n",
       "      <td>None</td>\n",
       "    </tr>\n",
       "    <tr>\n",
       "      <th>4</th>\n",
       "      <td>12/31/2019 22:43</td>\n",
       "      <td>Is Your Money Ready for Retirement? #Retiremen...</td>\n",
       "      <td>money ready retirement? #retirementplan #finan...</td>\n",
       "      <td>[money, ready, retirement, retirementplan, fin...</td>\n",
       "      <td>Topic9</td>\n",
       "      <td>None</td>\n",
       "    </tr>\n",
       "  </tbody>\n",
       "</table>\n",
       "</div>"
      ],
      "text/plain": [
       "               date                                               text  \\\n",
       "0  12/31/2019 23:45  Thinking about transitioning your business? Yo...   \n",
       "1  12/31/2019 23:31  http://RipsawWealth.com #2020WillBeTheYearFor ...   \n",
       "2  12/31/2019 23:00                          #wealthmanagement #maxous   \n",
       "3  12/31/2019 22:45  #WealthManagement and private banking trends: ...   \n",
       "4  12/31/2019 22:43  Is Your Money Ready for Retirement? #Retiremen...   \n",
       "\n",
       "                                   preprocessed_text  \\\n",
       "0  thinking transitioning business? you’ll surpri...   \n",
       "1  #2020willbetheyearfor financial control! #happ...   \n",
       "2                                            #maxous   \n",
       "3  private banking trends: 2020 | @fintechmagazin...   \n",
       "4  money ready retirement? #retirementplan #finan...   \n",
       "\n",
       "                                      tokenized_text   Label1 Label2  \n",
       "0  [thinking, transitioning, business, you, ll, s...  Topic11   None  \n",
       "1  [willbetheyearfor, financial, control, happyne...  Topic11   None  \n",
       "2                                           [maxous]   Topic0   None  \n",
       "3  [private, banking, trends, fintechmagazine, we...   Topic4   None  \n",
       "4  [money, ready, retirement, retirementplan, fin...   Topic9   None  "
      ]
     },
     "execution_count": 12,
     "metadata": {},
     "output_type": "execute_result"
    }
   ],
   "source": [
    "df_tweets_clean[\"Label1\"] = list1\n",
    "df_tweets_clean[\"Label2\"] = list2\n",
    "df_tweets_clean.head()"
   ]
  },
  {
   "cell_type": "code",
   "execution_count": 16,
   "metadata": {},
   "outputs": [
    {
     "name": "stdout",
     "output_type": "stream",
     "text": [
      "Collecting wikiapi\n",
      "  Downloading https://files.pythonhosted.org/packages/68/8e/b0392010df61ed01153d2485bf79167d4cbd47be11b6a3d7a10469266107/wikiapi-1.2.5-py2.py3-none-any.whl\n",
      "Requirement already satisfied: requests in c:\\users\\daani\\anaconda3\\lib\\site-packages (from wikiapi) (2.22.0)\n",
      "Requirement already satisfied: wheel in c:\\users\\daani\\anaconda3\\lib\\site-packages (from wikiapi) (0.33.6)\n",
      "Requirement already satisfied: beautifulsoup4 in c:\\users\\daani\\anaconda3\\lib\\site-packages (from wikiapi) (4.8.0)\n",
      "Collecting pyquery (from wikiapi)\n",
      "  Downloading https://files.pythonhosted.org/packages/78/43/95d42e386c61cb639d1a0b94f0c0b9f0b7d6b981ad3c043a836c8b5bc68b/pyquery-1.4.1-py2.py3-none-any.whl\n",
      "Requirement already satisfied: six in c:\\users\\daani\\anaconda3\\lib\\site-packages (from wikiapi) (1.12.0)\n",
      "Requirement already satisfied: chardet<3.1.0,>=3.0.2 in c:\\users\\daani\\anaconda3\\lib\\site-packages (from requests->wikiapi) (3.0.4)\n",
      "Requirement already satisfied: certifi>=2017.4.17 in c:\\users\\daani\\anaconda3\\lib\\site-packages (from requests->wikiapi) (2019.9.11)\n",
      "Requirement already satisfied: urllib3!=1.25.0,!=1.25.1,<1.26,>=1.21.1 in c:\\users\\daani\\anaconda3\\lib\\site-packages (from requests->wikiapi) (1.24.2)\n",
      "Requirement already satisfied: idna<2.9,>=2.5 in c:\\users\\daani\\anaconda3\\lib\\site-packages (from requests->wikiapi) (2.8)\n",
      "Requirement already satisfied: soupsieve>=1.2 in c:\\users\\daani\\anaconda3\\lib\\site-packages (from beautifulsoup4->wikiapi) (1.9.3)\n",
      "Requirement already satisfied: lxml>=2.1 in c:\\users\\daani\\anaconda3\\lib\\site-packages (from pyquery->wikiapi) (4.4.1)\n",
      "Collecting cssselect>0.7.9 (from pyquery->wikiapi)\n",
      "  Downloading https://files.pythonhosted.org/packages/3b/d4/3b5c17f00cce85b9a1e6f91096e1cc8e8ede2e1be8e96b87ce1ed09e92c5/cssselect-1.1.0-py2.py3-none-any.whl\n",
      "Installing collected packages: cssselect, pyquery, wikiapi\n",
      "Successfully installed cssselect-1.1.0 pyquery-1.4.1 wikiapi-1.2.5\n",
      "Note: you may need to restart the kernel to use updated packages.\n"
     ]
    }
   ],
   "source": [
    "pip install wikiapi"
   ]
  },
  {
   "cell_type": "code",
   "execution_count": 17,
   "metadata": {},
   "outputs": [
    {
     "name": "stdout",
     "output_type": "stream",
     "text": [
      "Collecting pattern\n",
      "  Downloading https://files.pythonhosted.org/packages/1e/07/b0e61b6c818ed4b6145fe01d1c341223aa6cfbc3928538ad1f2b890924a3/Pattern-3.6.0.tar.gz (22.2MB)\n",
      "Requirement already satisfied: future in c:\\users\\daani\\anaconda3\\lib\\site-packages (from pattern) (0.17.1)\n",
      "Collecting backports.csv (from pattern)\n",
      "  Downloading https://files.pythonhosted.org/packages/8e/26/a6bd68f13e0f38fbb643d6e497fc3462be83a0b6c4d43425c78bb51a7291/backports.csv-1.0.7-py2.py3-none-any.whl\n",
      "Collecting mysqlclient (from pattern)\n",
      "  Downloading https://files.pythonhosted.org/packages/4a/28/b08ede6cc8382179201455c3b9e5ed0d66aa5921e7c1888828dba48b832b/mysqlclient-2.0.1-cp37-cp37m-win_amd64.whl (268kB)\n",
      "Requirement already satisfied: beautifulsoup4 in c:\\users\\daani\\anaconda3\\lib\\site-packages (from pattern) (4.8.0)\n",
      "Requirement already satisfied: lxml in c:\\users\\daani\\anaconda3\\lib\\site-packages (from pattern) (4.4.1)\n",
      "Collecting feedparser (from pattern)\n",
      "  Downloading https://files.pythonhosted.org/packages/91/d8/7d37fec71ff7c9dbcdd80d2b48bcdd86d6af502156fc93846fb0102cb2c4/feedparser-5.2.1.tar.bz2 (192kB)\n",
      "Collecting pdfminer.six (from pattern)\n",
      "  Downloading https://files.pythonhosted.org/packages/b0/c0/ef1c8758bbd86edb10b5443700aac97d0ba27a9ca2e7696db8cd1fdbd5a8/pdfminer.six-20200517-py3-none-any.whl (5.6MB)\n",
      "Requirement already satisfied: numpy in c:\\users\\daani\\anaconda3\\lib\\site-packages (from pattern) (1.16.5)\n",
      "Requirement already satisfied: scipy in c:\\users\\daani\\anaconda3\\lib\\site-packages (from pattern) (1.3.1)\n",
      "Requirement already satisfied: nltk in c:\\users\\daani\\anaconda3\\lib\\site-packages (from pattern) (3.4.5)\n",
      "Collecting python-docx (from pattern)\n",
      "  Downloading https://files.pythonhosted.org/packages/e4/83/c66a1934ed5ed8ab1dbb9931f1779079f8bca0f6bbc5793c06c4b5e7d671/python-docx-0.8.10.tar.gz (5.5MB)\n",
      "Collecting cherrypy (from pattern)\n",
      "  Downloading https://files.pythonhosted.org/packages/a8/f9/e11f893dcabe6bc222a1442bf5e14f0322a2d363c92910ed41947078a35a/CherryPy-18.6.0-py2.py3-none-any.whl (419kB)\n",
      "Requirement already satisfied: requests in c:\\users\\daani\\anaconda3\\lib\\site-packages (from pattern) (2.22.0)\n",
      "Requirement already satisfied: soupsieve>=1.2 in c:\\users\\daani\\anaconda3\\lib\\site-packages (from beautifulsoup4->pattern) (1.9.3)\n",
      "Requirement already satisfied: sortedcontainers in c:\\users\\daani\\anaconda3\\lib\\site-packages (from pdfminer.six->pattern) (2.1.0)\n",
      "Collecting pycryptodome (from pdfminer.six->pattern)\n",
      "  Downloading https://files.pythonhosted.org/packages/44/72/3db473557ae21238229f3805de723d1fe34fa337d08cf94877073daf62ef/pycryptodome-3.9.8-cp37-cp37m-win_amd64.whl (14.1MB)\n",
      "Requirement already satisfied: chardet; python_version > \"3.0\" in c:\\users\\daani\\anaconda3\\lib\\site-packages (from pdfminer.six->pattern) (3.0.4)\n",
      "Requirement already satisfied: six in c:\\users\\daani\\anaconda3\\lib\\site-packages (from nltk->pattern) (1.12.0)\n",
      "Collecting cheroot>=8.2.1 (from cherrypy->pattern)\n",
      "  Downloading https://files.pythonhosted.org/packages/02/66/19b7e9947f08e18d65ae1a47a442a570978f0bbe376e227d1f801e51760b/cheroot-8.3.1-py2.py3-none-any.whl (88kB)\n",
      "Requirement already satisfied: more-itertools in c:\\users\\daani\\anaconda3\\lib\\site-packages (from cherrypy->pattern) (7.2.0)\n",
      "Requirement already satisfied: pywin32; sys_platform == \"win32\" in c:\\users\\daani\\anaconda3\\lib\\site-packages (from cherrypy->pattern) (223)\n",
      "Collecting jaraco.collections (from cherrypy->pattern)\n",
      "  Downloading https://files.pythonhosted.org/packages/fe/06/a89652069f0a13a33701714c0c8e0cc8656bf6d21b7c6b85fde86cf06ff6/jaraco.collections-3.0.0-py2.py3-none-any.whl\n",
      "Collecting zc.lockfile (from cherrypy->pattern)\n",
      "  Downloading https://files.pythonhosted.org/packages/6c/2a/268389776288f0f26c7272c70c36c96dcc0bdb88ab6216ea18e19df1fadd/zc.lockfile-2.0-py2.py3-none-any.whl\n",
      "Collecting portend>=2.1.1 (from cherrypy->pattern)\n",
      "  Downloading https://files.pythonhosted.org/packages/d7/79/eee70a512bffe5ceb5008f8e3326581948f50ca393c3bcb4d557e4818bd1/portend-2.6-py2.py3-none-any.whl\n",
      "Requirement already satisfied: urllib3!=1.25.0,!=1.25.1,<1.26,>=1.21.1 in c:\\users\\daani\\anaconda3\\lib\\site-packages (from requests->pattern) (1.24.2)\n",
      "Requirement already satisfied: certifi>=2017.4.17 in c:\\users\\daani\\anaconda3\\lib\\site-packages (from requests->pattern) (2019.9.11)\n",
      "Requirement already satisfied: idna<2.9,>=2.5 in c:\\users\\daani\\anaconda3\\lib\\site-packages (from requests->pattern) (2.8)\n",
      "Collecting jaraco.functools (from cheroot>=8.2.1->cherrypy->pattern)\n",
      "  Downloading https://files.pythonhosted.org/packages/4f/2b/bbab94f3e461adaf3c7a3a25da0c67c91d8cf7a4ddae7096028601ff940f/jaraco.functools-3.0.1-py3-none-any.whl\n",
      "Collecting jaraco.classes (from jaraco.collections->cherrypy->pattern)\n",
      "  Downloading https://files.pythonhosted.org/packages/68/ce/8f43aa0d0f18120e687ae0192fe3168630040841a3e87bed93c5fe024dbe/jaraco.classes-3.1.0-py2.py3-none-any.whl\n",
      "Collecting jaraco.text (from jaraco.collections->cherrypy->pattern)\n",
      "  Downloading https://files.pythonhosted.org/packages/50/cd/6eda44738065e844bed8fae60a229b6c46f42d0ba8d48205e9fb57e254cd/jaraco.text-3.2.0-py2.py3-none-any.whl\n",
      "Requirement already satisfied: setuptools in c:\\users\\daani\\anaconda3\\lib\\site-packages (from zc.lockfile->cherrypy->pattern) (41.4.0)\n",
      "Collecting tempora>=1.8 (from portend>=2.1.1->cherrypy->pattern)\n",
      "  Downloading https://files.pythonhosted.org/packages/b1/a3/c2bb79aa42ef7c56eec7f12a7d403b6b06b1194bf0736a93b120b5c680f2/tempora-4.0.0-py3-none-any.whl\n",
      "Requirement already satisfied: pytz in c:\\users\\daani\\anaconda3\\lib\\site-packages (from tempora>=1.8->portend>=2.1.1->cherrypy->pattern) (2019.3)\n",
      "Building wheels for collected packages: pattern, feedparser, python-docx\n",
      "  Building wheel for pattern (setup.py): started\n",
      "  Building wheel for pattern (setup.py): finished with status 'done'\n",
      "  Created wheel for pattern: filename=Pattern-3.6-cp37-none-any.whl size=22332727 sha256=ef470670d8fb8f35c0d3fc08a860606b7e022ce3c172af846dfd1cee5bafe72d\n",
      "  Stored in directory: C:\\Users\\daani\\AppData\\Local\\pip\\Cache\\wheels\\dc\\9a\\0e\\5fb1a603ed4e3aa8722a88e9cf4a82da7d1b63e3d2cc34bee5\n",
      "  Building wheel for feedparser (setup.py): started\n",
      "  Building wheel for feedparser (setup.py): finished with status 'done'\n",
      "  Created wheel for feedparser: filename=feedparser-5.2.1-cp37-none-any.whl size=44944 sha256=089645099bb3f0b6d11be9fac22ec7b77d8e15e2f9dee8affb929533d906bccb\n",
      "  Stored in directory: C:\\Users\\daani\\AppData\\Local\\pip\\Cache\\wheels\\8c\\69\\b7\\f52763c41c5471df57703a0ef718a32a5e81ee35dcf6d4f97f\n",
      "  Building wheel for python-docx (setup.py): started\n",
      "  Building wheel for python-docx (setup.py): finished with status 'done'\n",
      "  Created wheel for python-docx: filename=python_docx-0.8.10-cp37-none-any.whl size=184496 sha256=183ae230038f3381dcc105eb175f63307faf138336a8c2a74e9cf08ba47ec74c\n",
      "  Stored in directory: C:\\Users\\daani\\AppData\\Local\\pip\\Cache\\wheels\\18\\0b\\a0\\1dd62ff812c857c9e487f27d80d53d2b40531bec1acecfa47b\n",
      "Successfully built pattern feedparser python-docx\n",
      "Installing collected packages: backports.csv, mysqlclient, feedparser, pycryptodome, pdfminer.six, python-docx, jaraco.functools, cheroot, jaraco.classes, jaraco.text, jaraco.collections, zc.lockfile, tempora, portend, cherrypy, pattern\n",
      "Successfully installed backports.csv-1.0.7 cheroot-8.3.1 cherrypy-18.6.0 feedparser-5.2.1 jaraco.classes-3.1.0 jaraco.collections-3.0.0 jaraco.functools-3.0.1 jaraco.text-3.2.0 mysqlclient-2.0.1 pattern-3.6 pdfminer.six-20200517 portend-2.6 pycryptodome-3.9.8 python-docx-0.8.10 tempora-4.0.0 zc.lockfile-2.0\n",
      "Note: you may need to restart the kernel to use updated packages.\n"
     ]
    }
   ],
   "source": [
    "pip install pattern"
   ]
  },
  {
   "cell_type": "code",
   "execution_count": 1,
   "metadata": {},
   "outputs": [],
   "source": [
    "from wikiapi import WikiApi\n",
    "import gensim\n",
    "from gensim.utils import simple_preprocess, lemmatize\n",
    "import pattern \n",
    "def get_relevant_articles(keywords, search_depth=5, keyword_summary=5):\n",
    "    \"\"\"\n",
    "    Searches through a list of keywords and returns keywords based on article headers\n",
    "    in Wikipedia.    \n",
    "\n",
    "    args:\n",
    "    *  keywords: A list of keywords\n",
    "    *  search_depth: how many wikipedia search results are checked, assumes to be between 1-10\n",
    "    *  keyword_summary: gensim word argument to how many words should be used in summarization\n",
    "    \"\"\"\n",
    "    if len(keywords) == 0:\n",
    "        return []\n",
    "    wiki = WikiApi()\n",
    "\n",
    "    keywords = [x.lower() for x in keywords]\n",
    "    info = []\n",
    "    for keyword in keywords:\n",
    "        results = wiki.find(keyword)\n",
    "        other_words = [x for x in keywords if x != keyword]\n",
    "        \n",
    "        if search_depth is not None:\n",
    "            results = results[:search_depth]\n",
    "\n",
    "        for result in results:\n",
    "            article = wiki.get_article(result)\n",
    "            summary_words = article.summary.lower().split(' ')\n",
    "            has_words = any(word in summary_words for word in other_words)\n",
    "\n",
    "            if has_words:\n",
    "                info.append(article.heading)\n",
    "\n",
    "    try:\n",
    "        info_keyword = gensim.summarization.keywords(' '.join(info),\n",
    "                    words=keyword_summary).split('\\n')\n",
    "    except:\n",
    "        print(\"keyword extraction failed, defaulting to article heading output\")\n",
    "        info_keyword = info[:]\n",
    "    return info_keyword"
   ]
  },
  {
   "cell_type": "code",
   "execution_count": 2,
   "metadata": {},
   "outputs": [
    {
     "name": "stderr",
     "output_type": "stream",
     "text": [
      "C:\\Users\\daani\\Anaconda3\\lib\\site-packages\\wikiapi\\wikiapi.py:122: UserWarning: No parser was explicitly specified, so I'm using the best available HTML parser for this system (\"lxml\"). This usually isn't a problem, but if you run this code on another system, or in a different virtual environment, it may use a different parser and behave differently.\n",
      "\n",
      "The code that caused this warning is on line 122 of the file C:\\Users\\daani\\Anaconda3\\lib\\site-packages\\wikiapi\\wikiapi.py. To get rid of this warning, pass the additional argument 'features=\"lxml\"' to the BeautifulSoup constructor.\n",
      "\n",
      "  return BeautifulSoup(text).text\n"
     ]
    },
    {
     "name": "stdout",
     "output_type": "stream",
     "text": [
      "keyword extraction failed, defaulting to article heading output\n",
      "['Finance', 'Financial centre', 'Financial endowment', 'Financial Planning Association of Australia', 'Financial Planning Standards Council (Canada)', 'Financial Planning Association', 'Financial planning (business)', 'Financial Planning Standards Board India', 'AdvisorShares', 'Wealth', 'Wealth tax', 'Wealth of Donald Trump', 'Wealthsimple', 'Retirement community', 'Retirement plans in the United States', 'Money laundering', 'Money supply']\n"
     ]
    }
   ],
   "source": [
    "all_results = get_relevant_articles(\"financial financialplanning advisors wealth planning advice retirement clients money goals\".split())\n",
    "print(all_results)"
   ]
  },
  {
   "cell_type": "code",
   "execution_count": 20,
   "metadata": {},
   "outputs": [],
   "source": [
    "texts = list(df_tweets_clean[\"tokenized_text\"])"
   ]
  },
  {
   "cell_type": "code",
   "execution_count": 21,
   "metadata": {},
   "outputs": [
    {
     "data": {
      "text/html": [
       "<div>\n",
       "<style scoped>\n",
       "    .dataframe tbody tr th:only-of-type {\n",
       "        vertical-align: middle;\n",
       "    }\n",
       "\n",
       "    .dataframe tbody tr th {\n",
       "        vertical-align: top;\n",
       "    }\n",
       "\n",
       "    .dataframe thead th {\n",
       "        text-align: right;\n",
       "    }\n",
       "</style>\n",
       "<table border=\"1\" class=\"dataframe\">\n",
       "  <thead>\n",
       "    <tr style=\"text-align: right;\">\n",
       "      <th></th>\n",
       "      <th>tweets</th>\n",
       "    </tr>\n",
       "  </thead>\n",
       "  <tbody>\n",
       "    <tr>\n",
       "      <td>0</td>\n",
       "      <td>thinking transitioning business you ll surpris...</td>\n",
       "    </tr>\n",
       "    <tr>\n",
       "      <td>1</td>\n",
       "      <td>willbetheyearfor financial control happynewyea...</td>\n",
       "    </tr>\n",
       "    <tr>\n",
       "      <td>2</td>\n",
       "      <td>maxous</td>\n",
       "    </tr>\n",
       "    <tr>\n",
       "      <td>3</td>\n",
       "      <td>private banking trends fintechmagazine wealtht...</td>\n",
       "    </tr>\n",
       "    <tr>\n",
       "      <td>4</td>\n",
       "      <td>money ready retirement retirementplan financia...</td>\n",
       "    </tr>\n",
       "  </tbody>\n",
       "</table>\n",
       "</div>"
      ],
      "text/plain": [
       "                                              tweets\n",
       "0  thinking transitioning business you ll surpris...\n",
       "1  willbetheyearfor financial control happynewyea...\n",
       "2                                             maxous\n",
       "3  private banking trends fintechmagazine wealtht...\n",
       "4  money ready retirement retirementplan financia..."
      ]
     },
     "execution_count": 21,
     "metadata": {},
     "output_type": "execute_result"
    }
   ],
   "source": [
    "def convert_list_to_string(list_, separator = ' '):\n",
    "    tweetss = []\n",
    "    for i in list_:\n",
    "        tweetss.append(separator.join(i))\n",
    "    return tweetss\n",
    "\n",
    "tweetss = convert_list_to_string(texts, separator = ' ')\n",
    "df_clean = pd.DataFrame(tweetss, columns = ['tweets'])\n",
    "df_clean.head()"
   ]
  },
  {
   "cell_type": "code",
   "execution_count": 3,
   "metadata": {},
   "outputs": [],
   "source": [
    "from gensim import corpora\n",
    "from gensim.models.ldamodel import LdaModel\n",
    "from gensim.parsing.preprocessing import STOPWORDS"
   ]
  },
  {
   "cell_type": "code",
   "execution_count": 4,
   "metadata": {},
   "outputs": [
    {
     "ename": "NameError",
     "evalue": "name 'texts' is not defined",
     "output_type": "error",
     "traceback": [
      "\u001b[1;31m---------------------------------------------------------------------------\u001b[0m",
      "\u001b[1;31mNameError\u001b[0m                                 Traceback (most recent call last)",
      "\u001b[1;32m<ipython-input-4-ae63196dd7ab>\u001b[0m in \u001b[0;36m<module>\u001b[1;34m\u001b[0m\n\u001b[0;32m      2\u001b[0m \u001b[0mnum_topics\u001b[0m \u001b[1;33m=\u001b[0m \u001b[1;36m11\u001b[0m \u001b[1;31m#The number of topics that should be generated\u001b[0m\u001b[1;33m\u001b[0m\u001b[1;33m\u001b[0m\u001b[0m\n\u001b[0;32m      3\u001b[0m \u001b[0mpasses\u001b[0m \u001b[1;33m=\u001b[0m \u001b[1;36m3\u001b[0m\u001b[1;33m\u001b[0m\u001b[1;33m\u001b[0m\u001b[0m\n\u001b[1;32m----> 4\u001b[1;33m \u001b[0mdictionary\u001b[0m \u001b[1;33m=\u001b[0m \u001b[0mcorpora\u001b[0m\u001b[1;33m.\u001b[0m\u001b[0mDictionary\u001b[0m\u001b[1;33m(\u001b[0m\u001b[0mtexts\u001b[0m\u001b[1;33m)\u001b[0m \u001b[1;31m#(word_id,word) pairs\u001b[0m\u001b[1;33m\u001b[0m\u001b[1;33m\u001b[0m\u001b[0m\n\u001b[0m\u001b[0;32m      5\u001b[0m \u001b[0mcorpus\u001b[0m \u001b[1;33m=\u001b[0m \u001b[1;33m[\u001b[0m\u001b[0mdictionary\u001b[0m\u001b[1;33m.\u001b[0m\u001b[0mdoc2bow\u001b[0m\u001b[1;33m(\u001b[0m\u001b[0mtext\u001b[0m\u001b[1;33m)\u001b[0m \u001b[1;32mfor\u001b[0m \u001b[0mtext\u001b[0m \u001b[1;32min\u001b[0m \u001b[0mtexts\u001b[0m\u001b[1;33m]\u001b[0m \u001b[1;31m#(word_id,freq) pairs by sentence\u001b[0m\u001b[1;33m\u001b[0m\u001b[1;33m\u001b[0m\u001b[0m\n",
      "\u001b[1;31mNameError\u001b[0m: name 'texts' is not defined"
     ]
    }
   ],
   "source": [
    "#Set parameters\n",
    "num_topics = 11 #The number of topics that should be generated\n",
    "passes = 3\n",
    "dictionary = corpora.Dictionary(texts) #(word_id,word) pairs\n",
    "corpus = [dictionary.doc2bow(text) for text in texts] #(word_id,freq) pairs by sentence"
   ]
  },
  {
   "cell_type": "code",
   "execution_count": 2,
   "metadata": {},
   "outputs": [
    {
     "ename": "NameError",
     "evalue": "name 'LdaModel' is not defined",
     "output_type": "error",
     "traceback": [
      "\u001b[1;31m---------------------------------------------------------------------------\u001b[0m",
      "\u001b[1;31mNameError\u001b[0m                                 Traceback (most recent call last)",
      "\u001b[1;32m<ipython-input-2-0f46cc3848d4>\u001b[0m in \u001b[0;36m<module>\u001b[1;34m\u001b[0m\n\u001b[1;32m----> 1\u001b[1;33m lda = LdaModel(corpus,\n\u001b[0m\u001b[0;32m      2\u001b[0m               \u001b[0mid2word\u001b[0m\u001b[1;33m=\u001b[0m\u001b[0mdictionary\u001b[0m\u001b[1;33m,\u001b[0m\u001b[1;33m\u001b[0m\u001b[1;33m\u001b[0m\u001b[0m\n\u001b[0;32m      3\u001b[0m               \u001b[0mnum_topics\u001b[0m\u001b[1;33m=\u001b[0m\u001b[0mnum_topics\u001b[0m\u001b[1;33m,\u001b[0m\u001b[1;33m\u001b[0m\u001b[1;33m\u001b[0m\u001b[0m\n\u001b[0;32m      4\u001b[0m               passes=passes)\n",
      "\u001b[1;31mNameError\u001b[0m: name 'LdaModel' is not defined"
     ]
    }
   ],
   "source": [
    "lda = LdaModel(corpus,\n",
    "              id2word=dictionary,\n",
    "              num_topics=num_topics,\n",
    "              passes=passes)"
   ]
  },
  {
   "cell_type": "code",
   "execution_count": 68,
   "metadata": {},
   "outputs": [
    {
     "data": {
      "text/plain": [
       "[(1, 0.24300687), (5, 0.68260777)]"
      ]
     },
     "execution_count": 68,
     "metadata": {},
     "output_type": "execute_result"
    }
   ],
   "source": [
    "lda[corpus[len(texts)-1]]"
   ]
  },
  {
   "cell_type": "code",
   "execution_count": null,
   "metadata": {},
   "outputs": [],
   "source": [
    "list_ = []\n",
    "\n",
    "for i in range(20):\n",
    "    if len(lda[corpus[i]]) == 5:\n",
    "        ie = []\n",
    "        for j in range(num_topics):\n",
    "            ie.append(lda[corpus[i]][j][1])\n",
    "        for j in range(num_topics):\n",
    "            if lda[corpus[i]][j][1] == max(ie):\n",
    "                list_.append('Topic'+str(lda[corpus[i]][j][0] + 1))\n",
    "    else:\n",
    "        list_.append('0')\n",
    "print(list_)"
   ]
  },
  {
   "cell_type": "code",
   "execution_count": null,
   "metadata": {},
   "outputs": [],
   "source": [
    "len(list_)"
   ]
  },
  {
   "cell_type": "code",
   "execution_count": null,
   "metadata": {},
   "outputs": [],
   "source": [
    "def draw_wordcloud(lda,topicnum,min_size=0,STOPWORDS=[]):\n",
    "    word_list=[]\n",
    "    prob_total = 0\n",
    "    for word,prob in lda.show_topic(topicnum,topn=50):\n",
    "        prob_total +=prob\n",
    "    for word,prob in lda.show_topic(topicnum,topn=50):\n",
    "        if word in STOPWORDS or  len(word) < min_size:\n",
    "            continue\n",
    "#         freq = int(prob/prob_total*1000)\n",
    "        freq = int(prob/prob_total*100)\n",
    "        alist=[word]\n",
    "        word_list.extend(alist*freq)\n",
    "        \n",
    "#     print(word_list)\n",
    "    from wordcloud import WordCloud, STOPWORDS\n",
    "    import matplotlib.pyplot as plt\n",
    "    %matplotlib inline\n",
    "    from random import shuffle\n",
    "    shuffle(word_list)\n",
    "    text = ' '.join(word_list)\n",
    "    wordcloud = WordCloud(stopwords=STOPWORDS,background_color='white',max_words=20).generate(text)\n",
    "\n",
    "    plt.axis('off')\n",
    "    plt.imshow(wordcloud)\n",
    "\n",
    "    return None"
   ]
  },
  {
   "cell_type": "code",
   "execution_count": null,
   "metadata": {},
   "outputs": [],
   "source": []
  },
  {
   "cell_type": "code",
   "execution_count": null,
   "metadata": {},
   "outputs": [],
   "source": [
    "draw_wordcloud(lda,2)"
   ]
  },
  {
   "cell_type": "code",
   "execution_count": null,
   "metadata": {},
   "outputs": [],
   "source": [
    "import pyLDAvis.gensim\n",
    "lda_display = pyLDAvis.gensim.prepare(lda, corpus, dictionary, sort_topics=False)\n",
    "pyLDAvis.display(lda_display)"
   ]
  },
  {
   "cell_type": "code",
   "execution_count": null,
   "metadata": {},
   "outputs": [],
   "source": []
  }
 ],
 "metadata": {
  "kernelspec": {
   "display_name": "Python 3",
   "language": "python",
   "name": "python3"
  },
  "language_info": {
   "codemirror_mode": {
    "name": "ipython",
    "version": 3
   },
   "file_extension": ".py",
   "mimetype": "text/x-python",
   "name": "python",
   "nbconvert_exporter": "python",
   "pygments_lexer": "ipython3",
   "version": "3.7.4"
  }
 },
 "nbformat": 4,
 "nbformat_minor": 4
}
