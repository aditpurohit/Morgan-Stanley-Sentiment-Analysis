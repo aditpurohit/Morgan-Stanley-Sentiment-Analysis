{
 "cells": [
  {
   "cell_type": "code",
   "execution_count": 2,
   "metadata": {},
   "outputs": [],
   "source": [
    "import numpy as np\n",
    "import pandas as pd\n",
    "import matplotlib.pyplot as plt"
   ]
  },
  {
   "cell_type": "code",
   "execution_count": 3,
   "metadata": {},
   "outputs": [
    {
     "data": {
      "text/html": [
       "<div>\n",
       "<style scoped>\n",
       "    .dataframe tbody tr th:only-of-type {\n",
       "        vertical-align: middle;\n",
       "    }\n",
       "\n",
       "    .dataframe tbody tr th {\n",
       "        vertical-align: top;\n",
       "    }\n",
       "\n",
       "    .dataframe thead th {\n",
       "        text-align: right;\n",
       "    }\n",
       "</style>\n",
       "<table border=\"1\" class=\"dataframe\">\n",
       "  <thead>\n",
       "    <tr style=\"text-align: right;\">\n",
       "      <th></th>\n",
       "      <th>date</th>\n",
       "      <th>username</th>\n",
       "      <th>to</th>\n",
       "      <th>replies</th>\n",
       "      <th>retweets</th>\n",
       "      <th>favorites</th>\n",
       "      <th>text</th>\n",
       "      <th>geo</th>\n",
       "      <th>mentions</th>\n",
       "      <th>hashtags</th>\n",
       "      <th>id</th>\n",
       "      <th>permalink</th>\n",
       "    </tr>\n",
       "  </thead>\n",
       "  <tbody>\n",
       "    <tr>\n",
       "      <td>0</td>\n",
       "      <td>2019-12-31 23:45:02</td>\n",
       "      <td>HT_Great_Lakes</td>\n",
       "      <td>NaN</td>\n",
       "      <td>0</td>\n",
       "      <td>1</td>\n",
       "      <td>1</td>\n",
       "      <td>Thinking about transitioning your business? Yo...</td>\n",
       "      <td>NaN</td>\n",
       "      <td>NaN</td>\n",
       "      <td>#wealthmanagement #hightowergreatlakes #busine...</td>\n",
       "      <td>1212157749250924544</td>\n",
       "      <td>https://twitter.com/HT_Great_Lakes/status/1212...</td>\n",
       "    </tr>\n",
       "    <tr>\n",
       "      <td>1</td>\n",
       "      <td>2019-12-31 23:31:32</td>\n",
       "      <td>ripsawwealth</td>\n",
       "      <td>NaN</td>\n",
       "      <td>0</td>\n",
       "      <td>2</td>\n",
       "      <td>3</td>\n",
       "      <td>http://RipsawWealth.com #2020WillBeTheYearFor ...</td>\n",
       "      <td>NaN</td>\n",
       "      <td>NaN</td>\n",
       "      <td>#2020WillBeTheYearFor #HappyNewYear #happynewy...</td>\n",
       "      <td>1212154351281508352</td>\n",
       "      <td>https://twitter.com/ripsawwealth/status/121215...</td>\n",
       "    </tr>\n",
       "    <tr>\n",
       "      <td>2</td>\n",
       "      <td>2019-12-31 23:00:40</td>\n",
       "      <td>TedHunter1</td>\n",
       "      <td>NaN</td>\n",
       "      <td>0</td>\n",
       "      <td>0</td>\n",
       "      <td>0</td>\n",
       "      <td>#wealthmanagement #maxous</td>\n",
       "      <td>NaN</td>\n",
       "      <td>NaN</td>\n",
       "      <td>#wealthmanagement #maxous</td>\n",
       "      <td>1212146581950128134</td>\n",
       "      <td>https://twitter.com/TedHunter1/status/12121465...</td>\n",
       "    </tr>\n",
       "    <tr>\n",
       "      <td>3</td>\n",
       "      <td>2019-12-31 22:45:05</td>\n",
       "      <td>RAlexJimenez</td>\n",
       "      <td>NaN</td>\n",
       "      <td>0</td>\n",
       "      <td>0</td>\n",
       "      <td>0</td>\n",
       "      <td>#WealthManagement and private banking trends: ...</td>\n",
       "      <td>NaN</td>\n",
       "      <td>@FinTechMagazine</td>\n",
       "      <td>#WealthManagement #wealthtech #fintech #finserv</td>\n",
       "      <td>1212142660053557249</td>\n",
       "      <td>https://twitter.com/RAlexJimenez/status/121214...</td>\n",
       "    </tr>\n",
       "    <tr>\n",
       "      <td>4</td>\n",
       "      <td>2019-12-31 22:43:01</td>\n",
       "      <td>findadvisor</td>\n",
       "      <td>NaN</td>\n",
       "      <td>0</td>\n",
       "      <td>0</td>\n",
       "      <td>0</td>\n",
       "      <td>Is Your Money Ready for Retirement? #Retiremen...</td>\n",
       "      <td>NaN</td>\n",
       "      <td>NaN</td>\n",
       "      <td>#RetirementPlan #FinancialPlan #WealthManageme...</td>\n",
       "      <td>1212142141780054016</td>\n",
       "      <td>https://twitter.com/findadvisor/status/1212142...</td>\n",
       "    </tr>\n",
       "  </tbody>\n",
       "</table>\n",
       "</div>"
      ],
      "text/plain": [
       "                  date        username   to  replies  retweets  favorites  \\\n",
       "0  2019-12-31 23:45:02  HT_Great_Lakes  NaN        0         1          1   \n",
       "1  2019-12-31 23:31:32    ripsawwealth  NaN        0         2          3   \n",
       "2  2019-12-31 23:00:40      TedHunter1  NaN        0         0          0   \n",
       "3  2019-12-31 22:45:05    RAlexJimenez  NaN        0         0          0   \n",
       "4  2019-12-31 22:43:01     findadvisor  NaN        0         0          0   \n",
       "\n",
       "                                                text  geo          mentions  \\\n",
       "0  Thinking about transitioning your business? Yo...  NaN               NaN   \n",
       "1  http://RipsawWealth.com #2020WillBeTheYearFor ...  NaN               NaN   \n",
       "2                          #wealthmanagement #maxous  NaN               NaN   \n",
       "3  #WealthManagement and private banking trends: ...  NaN  @FinTechMagazine   \n",
       "4  Is Your Money Ready for Retirement? #Retiremen...  NaN               NaN   \n",
       "\n",
       "                                            hashtags                   id  \\\n",
       "0  #wealthmanagement #hightowergreatlakes #busine...  1212157749250924544   \n",
       "1  #2020WillBeTheYearFor #HappyNewYear #happynewy...  1212154351281508352   \n",
       "2                          #wealthmanagement #maxous  1212146581950128134   \n",
       "3    #WealthManagement #wealthtech #fintech #finserv  1212142660053557249   \n",
       "4  #RetirementPlan #FinancialPlan #WealthManageme...  1212142141780054016   \n",
       "\n",
       "                                           permalink  \n",
       "0  https://twitter.com/HT_Great_Lakes/status/1212...  \n",
       "1  https://twitter.com/ripsawwealth/status/121215...  \n",
       "2  https://twitter.com/TedHunter1/status/12121465...  \n",
       "3  https://twitter.com/RAlexJimenez/status/121214...  \n",
       "4  https://twitter.com/findadvisor/status/1212142...  "
      ]
     },
     "execution_count": 3,
     "metadata": {},
     "output_type": "execute_result"
    }
   ],
   "source": [
    "import pandas as pd\n",
    "df = pd.read_csv('combined_csv_wealthmanagement.csv')\n",
    "df.head()"
   ]
  },
  {
   "cell_type": "code",
   "execution_count": 4,
   "metadata": {},
   "outputs": [
    {
     "data": {
      "text/html": [
       "<div>\n",
       "<style scoped>\n",
       "    .dataframe tbody tr th:only-of-type {\n",
       "        vertical-align: middle;\n",
       "    }\n",
       "\n",
       "    .dataframe tbody tr th {\n",
       "        vertical-align: top;\n",
       "    }\n",
       "\n",
       "    .dataframe thead th {\n",
       "        text-align: right;\n",
       "    }\n",
       "</style>\n",
       "<table border=\"1\" class=\"dataframe\">\n",
       "  <thead>\n",
       "    <tr style=\"text-align: right;\">\n",
       "      <th></th>\n",
       "      <th>date</th>\n",
       "      <th>text</th>\n",
       "    </tr>\n",
       "  </thead>\n",
       "  <tbody>\n",
       "    <tr>\n",
       "      <td>0</td>\n",
       "      <td>2019-12-31 23:45:02</td>\n",
       "      <td>Thinking about transitioning your business? Yo...</td>\n",
       "    </tr>\n",
       "    <tr>\n",
       "      <td>1</td>\n",
       "      <td>2019-12-31 23:31:32</td>\n",
       "      <td>http://RipsawWealth.com #2020WillBeTheYearFor ...</td>\n",
       "    </tr>\n",
       "    <tr>\n",
       "      <td>2</td>\n",
       "      <td>2019-12-31 23:00:40</td>\n",
       "      <td>#wealthmanagement #maxous</td>\n",
       "    </tr>\n",
       "    <tr>\n",
       "      <td>3</td>\n",
       "      <td>2019-12-31 22:45:05</td>\n",
       "      <td>#WealthManagement and private banking trends: ...</td>\n",
       "    </tr>\n",
       "    <tr>\n",
       "      <td>4</td>\n",
       "      <td>2019-12-31 22:43:01</td>\n",
       "      <td>Is Your Money Ready for Retirement? #Retiremen...</td>\n",
       "    </tr>\n",
       "    <tr>\n",
       "      <td>...</td>\n",
       "      <td>...</td>\n",
       "      <td>...</td>\n",
       "    </tr>\n",
       "    <tr>\n",
       "      <td>32861</td>\n",
       "      <td>2019-02-13 01:15:03</td>\n",
       "      <td>.@Praemium said its major technology upgrade w...</td>\n",
       "    </tr>\n",
       "    <tr>\n",
       "      <td>32862</td>\n",
       "      <td>2019-02-13 01:13:06</td>\n",
       "      <td>A Seismic Shift in the Estate-Planning Landsca...</td>\n",
       "    </tr>\n",
       "    <tr>\n",
       "      <td>32863</td>\n",
       "      <td>2019-02-13 01:11:01</td>\n",
       "      <td>Interview: Scott Cooper, @CybiWealth – investi...</td>\n",
       "    </tr>\n",
       "    <tr>\n",
       "      <td>32864</td>\n",
       "      <td>2019-02-13 01:06:01</td>\n",
       "      <td>How much are you worth? . . . . #wealth #Wealt...</td>\n",
       "    </tr>\n",
       "    <tr>\n",
       "      <td>32865</td>\n",
       "      <td>2019-02-13 01:01:01</td>\n",
       "      <td>RRSP Investors: 3 Undervalued Stocks to Buy To...</td>\n",
       "    </tr>\n",
       "  </tbody>\n",
       "</table>\n",
       "<p>32866 rows × 2 columns</p>\n",
       "</div>"
      ],
      "text/plain": [
       "                      date                                               text\n",
       "0      2019-12-31 23:45:02  Thinking about transitioning your business? Yo...\n",
       "1      2019-12-31 23:31:32  http://RipsawWealth.com #2020WillBeTheYearFor ...\n",
       "2      2019-12-31 23:00:40                          #wealthmanagement #maxous\n",
       "3      2019-12-31 22:45:05  #WealthManagement and private banking trends: ...\n",
       "4      2019-12-31 22:43:01  Is Your Money Ready for Retirement? #Retiremen...\n",
       "...                    ...                                                ...\n",
       "32861  2019-02-13 01:15:03  .@Praemium said its major technology upgrade w...\n",
       "32862  2019-02-13 01:13:06  A Seismic Shift in the Estate-Planning Landsca...\n",
       "32863  2019-02-13 01:11:01  Interview: Scott Cooper, @CybiWealth – investi...\n",
       "32864  2019-02-13 01:06:01  How much are you worth? . . . . #wealth #Wealt...\n",
       "32865  2019-02-13 01:01:01  RRSP Investors: 3 Undervalued Stocks to Buy To...\n",
       "\n",
       "[32866 rows x 2 columns]"
      ]
     },
     "execution_count": 4,
     "metadata": {},
     "output_type": "execute_result"
    }
   ],
   "source": [
    "df_tweets = df[[\"date\",\"text\"]]\n",
    "df_tweets"
   ]
  },
  {
   "cell_type": "code",
   "execution_count": 5,
   "metadata": {
    "scrolled": true
   },
   "outputs": [
    {
     "name": "stderr",
     "output_type": "stream",
     "text": [
      "[nltk_data] Downloading package stopwords to\n",
      "[nltk_data]     C:\\Users\\daani\\AppData\\Roaming\\nltk_data...\n",
      "[nltk_data]   Package stopwords is already up-to-date!\n"
     ]
    },
    {
     "data": {
      "text/html": [
       "<div>\n",
       "<style scoped>\n",
       "    .dataframe tbody tr th:only-of-type {\n",
       "        vertical-align: middle;\n",
       "    }\n",
       "\n",
       "    .dataframe tbody tr th {\n",
       "        vertical-align: top;\n",
       "    }\n",
       "\n",
       "    .dataframe thead th {\n",
       "        text-align: right;\n",
       "    }\n",
       "</style>\n",
       "<table border=\"1\" class=\"dataframe\">\n",
       "  <thead>\n",
       "    <tr style=\"text-align: right;\">\n",
       "      <th></th>\n",
       "      <th>date</th>\n",
       "      <th>text</th>\n",
       "      <th>preprocessed_text</th>\n",
       "      <th>tokenized_text</th>\n",
       "    </tr>\n",
       "  </thead>\n",
       "  <tbody>\n",
       "    <tr>\n",
       "      <td>0</td>\n",
       "      <td>2019-12-31 23:45:02</td>\n",
       "      <td>Thinking about transitioning your business? Yo...</td>\n",
       "      <td>thinking transitioning business? you’ll surpri...</td>\n",
       "      <td>[thinking, transitioning, business, you, ll, s...</td>\n",
       "    </tr>\n",
       "    <tr>\n",
       "      <td>1</td>\n",
       "      <td>2019-12-31 23:31:32</td>\n",
       "      <td>http://RipsawWealth.com #2020WillBeTheYearFor ...</td>\n",
       "      <td>#2020willbetheyearfor financial control! #happ...</td>\n",
       "      <td>[willbetheyearfor, financial, control, happyne...</td>\n",
       "    </tr>\n",
       "    <tr>\n",
       "      <td>2</td>\n",
       "      <td>2019-12-31 23:00:40</td>\n",
       "      <td>#wealthmanagement #maxous</td>\n",
       "      <td>#maxous</td>\n",
       "      <td>[maxous]</td>\n",
       "    </tr>\n",
       "    <tr>\n",
       "      <td>3</td>\n",
       "      <td>2019-12-31 22:45:05</td>\n",
       "      <td>#WealthManagement and private banking trends: ...</td>\n",
       "      <td>private banking trends: 2020 | @fintechmagazin...</td>\n",
       "      <td>[private, banking, trends, fintechmagazine, we...</td>\n",
       "    </tr>\n",
       "    <tr>\n",
       "      <td>4</td>\n",
       "      <td>2019-12-31 22:43:01</td>\n",
       "      <td>Is Your Money Ready for Retirement? #Retiremen...</td>\n",
       "      <td>money ready retirement? #retirementplan #finan...</td>\n",
       "      <td>[money, ready, retirement, retirementplan, fin...</td>\n",
       "    </tr>\n",
       "  </tbody>\n",
       "</table>\n",
       "</div>"
      ],
      "text/plain": [
       "                  date                                               text  \\\n",
       "0  2019-12-31 23:45:02  Thinking about transitioning your business? Yo...   \n",
       "1  2019-12-31 23:31:32  http://RipsawWealth.com #2020WillBeTheYearFor ...   \n",
       "2  2019-12-31 23:00:40                          #wealthmanagement #maxous   \n",
       "3  2019-12-31 22:45:05  #WealthManagement and private banking trends: ...   \n",
       "4  2019-12-31 22:43:01  Is Your Money Ready for Retirement? #Retiremen...   \n",
       "\n",
       "                                   preprocessed_text  \\\n",
       "0  thinking transitioning business? you’ll surpri...   \n",
       "1  #2020willbetheyearfor financial control! #happ...   \n",
       "2                                            #maxous   \n",
       "3  private banking trends: 2020 | @fintechmagazin...   \n",
       "4  money ready retirement? #retirementplan #finan...   \n",
       "\n",
       "                                      tokenized_text  \n",
       "0  [thinking, transitioning, business, you, ll, s...  \n",
       "1  [willbetheyearfor, financial, control, happyne...  \n",
       "2                                           [maxous]  \n",
       "3  [private, banking, trends, fintechmagazine, we...  \n",
       "4  [money, ready, retirement, retirementplan, fin...  "
      ]
     },
     "execution_count": 5,
     "metadata": {},
     "output_type": "execute_result"
    }
   ],
   "source": [
    "from sklearn.feature_extraction.text import CountVectorizer\n",
    "from gensim.corpora import Dictionary\n",
    "from gensim.models.ldamodel import LdaModel\n",
    "from gensim.models import CoherenceModel\n",
    "from nltk.corpus import stopwords\n",
    "from nltk.tokenize import RegexpTokenizer\n",
    "from datetime import datetime\n",
    "import nltk\n",
    "nltk.download('stopwords')\n",
    "import pandas as pd\n",
    "import re\n",
    "import math\n",
    "\n",
    "def clean_tweets(df=df_tweets, \n",
    "                 tweet_col='text', \n",
    "                 date_col='date'\n",
    "                ):\n",
    "    \n",
    "    df_copy = df.copy()\n",
    "    \n",
    "    # drop rows with empty values\n",
    "    df_copy.dropna(inplace=True)\n",
    "    \n",
    "    # lower the tweets\n",
    "    df_copy['preprocessed_' + tweet_col] = df_copy[tweet_col].str.lower()\n",
    "    \n",
    "    # filter out stop words and URLs\n",
    "    en_stop_words = stopwords.words('english')\n",
    "    extended_words = ['&amp;', 'rt','th','co', 're', 've', 'kim', 'daca', '#wealthmanagement', 'wealthmanagement', 'de', 'la', 'en', 'ria', 'di', 'el', 'ask', 'un', 'con', 'per', 'del', 'help', 'you', 'via', 'us', 'gt', 'ai', 'cx']\n",
    "    en_stop_words.extend(extended_words)\n",
    "    en_stop_words = set(en_stop_words)\n",
    "    url_re = '(https?:\\/\\/(?:www\\.|(?!www))[a-zA-Z0-9][a-zA-Z0-9-]+[a-zA-Z0-9]\\.[^\\s]{2,}|www\\.[a-zA-Z0-9][a-zA-Z0-9-]+[a-zA-Z0-9]\\.[^\\s]{2,}|https?:\\/\\/(?:www\\.|(?!www))[a-zA-Z0-9]+\\.[^\\s]{2,}|www\\.[a-zA-Z0-9]+\\.[^\\s]{2,})'        \n",
    "    df_copy['preprocessed_' + tweet_col] = df_copy['preprocessed_' + tweet_col].apply(lambda row: ' '.join([word for word in row.split() if (not word in en_stop_words) and (not re.match(url_re, word))]))\n",
    "    \n",
    "    # tokenize the tweets\n",
    "    tokenizer = RegexpTokenizer('[a-zA-Z]\\w+\\'?\\w*')\n",
    "    df_copy['tokenized_' + tweet_col] = df_copy['preprocessed_' + tweet_col].apply(lambda row: tokenizer.tokenize(row))\n",
    "    \n",
    "    return df_copy\n",
    "  \n",
    "df_tweets_clean = clean_tweets(df_tweets)\n",
    "df_tweets_clean.head()"
   ]
  },
  {
   "cell_type": "code",
   "execution_count": 6,
   "metadata": {},
   "outputs": [
    {
     "data": {
      "text/plain": [
       "[('wealth', 7252),\n",
       " ('investing', 4369),\n",
       " ('financialplanning', 4013),\n",
       " ('investment', 3616),\n",
       " ('fintech', 3313),\n",
       " ('financial', 3233),\n",
       " ('money', 2969),\n",
       " ('retirement', 2796),\n",
       " ('management', 2551),\n",
       " ('finance', 2484)]"
      ]
     },
     "execution_count": 6,
     "metadata": {},
     "output_type": "execute_result"
    }
   ],
   "source": [
    "def get_most_freq_words(str, n=None):\n",
    "    vect = CountVectorizer().fit(str)\n",
    "    bag_of_words = vect.transform(str)\n",
    "    sum_words = bag_of_words.sum(axis=0) \n",
    "    freq = [(word, sum_words[0, idx]) for word, idx in vect.vocabulary_.items()]\n",
    "    freq =sorted(freq, key = lambda x: x[1], reverse=True)\n",
    "    return freq[:n]\n",
    "  \n",
    "get_most_freq_words([ word for tweet in df_tweets_clean.tokenized_text for word in tweet],10)"
   ]
  },
  {
   "cell_type": "code",
   "execution_count": 7,
   "metadata": {},
   "outputs": [],
   "source": [
    "# build a dictionary where for each tweet, each word has its own id.\n",
    "# We have 6882 tweets and 10893 words in the dictionary.\n",
    "tweets_dictionary = Dictionary(df_tweets_clean.tokenized_text)\n",
    "\n",
    "# build the corpus i.e. vectors with the number of occurence of each word per tweet\n",
    "tweets_corpus = [tweets_dictionary.doc2bow(tweet) for tweet in df_tweets_clean.tokenized_text]"
   ]
  },
  {
   "cell_type": "markdown",
   "metadata": {},
   "source": [
    "## Do not Run the below Cell - Takes 45 mins to run"
   ]
  },
  {
   "cell_type": "code",
   "execution_count": 8,
   "metadata": {},
   "outputs": [],
   "source": [
    "# compute coherence\n",
    "tweets_coherence = []\n",
    "for nb_topics in range(1,25):\n",
    "    lda = LdaModel(tweets_corpus, num_topics = nb_topics, id2word = tweets_dictionary, passes=10)\n",
    "    cohm = CoherenceModel(model=lda, corpus=tweets_corpus, dictionary=tweets_dictionary, coherence='u_mass')\n",
    "    coh = cohm.get_coherence()\n",
    "    tweets_coherence.append(coh)"
   ]
  },
  {
   "cell_type": "code",
   "execution_count": 9,
   "metadata": {},
   "outputs": [
    {
     "data": {
      "image/png": "[encoded data removed]",
      "text/plain": [
       "<Figure size 720x360 with 1 Axes>"
      ]
     },
     "metadata": {
      "needs_background": "light"
     },
     "output_type": "display_data"
    }
   ],
   "source": [
    "# visualize coherence\n",
    "plt.figure(figsize=(10,5))\n",
    "plt.plot(range(1,25),tweets_coherence)\n",
    "plt.xlabel(\"Number of Topics\")\n",
    "plt.ylabel(\"Coherence Score\");"
   ]
  },
  {
   "cell_type": "code",
   "execution_count": 10,
   "metadata": {},
   "outputs": [],
   "source": [
    "k = 13\n",
    "tweets_lda = LdaModel(tweets_corpus, num_topics = k, id2word = tweets_dictionary, passes=10)\n",
    "\n",
    "def plot_top_words(lda=tweets_lda, nb_topics=k, nb_words=10):\n",
    "    top_words = [[word for word,_ in lda.show_topic(topic_id, topn=50)] for topic_id in range(lda.num_topics)]\n",
    "    top_betas = [[beta for _,beta in lda.show_topic(topic_id, topn=50)] for topic_id in range(lda.num_topics)]\n",
    "\n",
    "    gs  = gridspec.GridSpec(round(math.sqrt(k))+1,round(math.sqrt(k))+1)\n",
    "    gs.update(wspace=0.5, hspace=0.5)\n",
    "    plt.figure(figsize=(20,15))\n",
    "    for i in range(nb_topics):\n",
    "        ax = plt.subplot(gs[i])\n",
    "        plt.barh(range(nb_words), top_betas[i][:nb_words], align='center',color='blue', ecolor='black')\n",
    "        ax.invert_yaxis()\n",
    "        ax.set_yticks(range(nb_words))\n",
    "        ax.set_yticklabels(top_words[i][:nb_words])\n",
    "        plt.title(\"Topic \"+str(i))"
   ]
  },
  {
   "cell_type": "code",
   "execution_count": 11,
   "metadata": {},
   "outputs": [
    {
     "data": {
      "image/png": "[encoded data removed]",
      "text/plain": [
       "<Figure size 1440x1080 with 13 Axes>"
      ]
     },
     "metadata": {
      "needs_background": "light"
     },
     "output_type": "display_data"
    }
   ],
   "source": [
    "import matplotlib.gridspec as gridspec\n",
    "plot_top_words()"
   ]
  },
  {
   "cell_type": "code",
   "execution_count": 62,
   "metadata": {},
   "outputs": [],
   "source": [
    "list1 = []\n",
    "list2 = []\n",
    "for i in range(len(df_tweets_clean)):\n",
    "    x = tweets_lda[tweets_corpus[i]]\n",
    "    x.sort(key=lambda x:x[1], reverse = True)\n",
    "    list1.append('Topic'+str(x[0][0]))\n",
    "    try:\n",
    "        if x[1][1] > 0.3:\n",
    "            list2.append('Topic'+str(x[1][0]))\n",
    "        else: \n",
    "            list2.append(None)\n",
    "    except: \n",
    "            list2.append(None)"
   ]
  },
  {
   "cell_type": "code",
   "execution_count": 63,
   "metadata": {},
   "outputs": [
    {
     "name": "stdout",
     "output_type": "stream",
     "text": [
      "32866 32866\n"
     ]
    }
   ],
   "source": [
    "print(len(list1),len(list2))"
   ]
  },
  {
   "cell_type": "code",
   "execution_count": 65,
   "metadata": {},
   "outputs": [
    {
     "data": {
      "text/html": [
       "<div>\n",
       "<style scoped>\n",
       "    .dataframe tbody tr th:only-of-type {\n",
       "        vertical-align: middle;\n",
       "    }\n",
       "\n",
       "    .dataframe tbody tr th {\n",
       "        vertical-align: top;\n",
       "    }\n",
       "\n",
       "    .dataframe thead th {\n",
       "        text-align: right;\n",
       "    }\n",
       "</style>\n",
       "<table border=\"1\" class=\"dataframe\">\n",
       "  <thead>\n",
       "    <tr style=\"text-align: right;\">\n",
       "      <th></th>\n",
       "      <th>date</th>\n",
       "      <th>text</th>\n",
       "      <th>preprocessed_text</th>\n",
       "      <th>tokenized_text</th>\n",
       "      <th>Label1</th>\n",
       "      <th>Label2</th>\n",
       "    </tr>\n",
       "  </thead>\n",
       "  <tbody>\n",
       "    <tr>\n",
       "      <td>0</td>\n",
       "      <td>2019-12-31 23:45:02</td>\n",
       "      <td>Thinking about transitioning your business? Yo...</td>\n",
       "      <td>thinking transitioning business? you’ll surpri...</td>\n",
       "      <td>[thinking, transitioning, business, you, ll, s...</td>\n",
       "      <td>Topic8</td>\n",
       "      <td>None</td>\n",
       "    </tr>\n",
       "    <tr>\n",
       "      <td>1</td>\n",
       "      <td>2019-12-31 23:31:32</td>\n",
       "      <td>http://RipsawWealth.com #2020WillBeTheYearFor ...</td>\n",
       "      <td>#2020willbetheyearfor financial control! #happ...</td>\n",
       "      <td>[willbetheyearfor, financial, control, happyne...</td>\n",
       "      <td>Topic4</td>\n",
       "      <td>None</td>\n",
       "    </tr>\n",
       "    <tr>\n",
       "      <td>2</td>\n",
       "      <td>2019-12-31 23:00:40</td>\n",
       "      <td>#wealthmanagement #maxous</td>\n",
       "      <td>#maxous</td>\n",
       "      <td>[maxous]</td>\n",
       "      <td>Topic0</td>\n",
       "      <td>None</td>\n",
       "    </tr>\n",
       "    <tr>\n",
       "      <td>3</td>\n",
       "      <td>2019-12-31 22:45:05</td>\n",
       "      <td>#WealthManagement and private banking trends: ...</td>\n",
       "      <td>private banking trends: 2020 | @fintechmagazin...</td>\n",
       "      <td>[private, banking, trends, fintechmagazine, we...</td>\n",
       "      <td>Topic0</td>\n",
       "      <td>Topic4</td>\n",
       "    </tr>\n",
       "    <tr>\n",
       "      <td>4</td>\n",
       "      <td>2019-12-31 22:43:01</td>\n",
       "      <td>Is Your Money Ready for Retirement? #Retiremen...</td>\n",
       "      <td>money ready retirement? #retirementplan #finan...</td>\n",
       "      <td>[money, ready, retirement, retirementplan, fin...</td>\n",
       "      <td>Topic1</td>\n",
       "      <td>None</td>\n",
       "    </tr>\n",
       "    <tr>\n",
       "      <td>...</td>\n",
       "      <td>...</td>\n",
       "      <td>...</td>\n",
       "      <td>...</td>\n",
       "      <td>...</td>\n",
       "      <td>...</td>\n",
       "      <td>...</td>\n",
       "    </tr>\n",
       "    <tr>\n",
       "      <td>32861</td>\n",
       "      <td>2019-02-13 01:15:03</td>\n",
       "      <td>.@Praemium said its major technology upgrade w...</td>\n",
       "      <td>.@praemium said major technology upgrade expan...</td>\n",
       "      <td>[praemium, said, major, technology, upgrade, e...</td>\n",
       "      <td>Topic12</td>\n",
       "      <td>None</td>\n",
       "    </tr>\n",
       "    <tr>\n",
       "      <td>32862</td>\n",
       "      <td>2019-02-13 01:13:06</td>\n",
       "      <td>A Seismic Shift in the Estate-Planning Landsca...</td>\n",
       "      <td>seismic shift estate-planning landscape #estat...</td>\n",
       "      <td>[seismic, shift, estate, planning, landscape, ...</td>\n",
       "      <td>Topic3</td>\n",
       "      <td>None</td>\n",
       "    </tr>\n",
       "    <tr>\n",
       "      <td>32863</td>\n",
       "      <td>2019-02-13 01:11:01</td>\n",
       "      <td>Interview: Scott Cooper, @CybiWealth – investi...</td>\n",
       "      <td>interview: scott cooper, @cybiwealth – investi...</td>\n",
       "      <td>[interview, scott, cooper, cybiwealth, investi...</td>\n",
       "      <td>Topic12</td>\n",
       "      <td>Topic0</td>\n",
       "    </tr>\n",
       "    <tr>\n",
       "      <td>32864</td>\n",
       "      <td>2019-02-13 01:06:01</td>\n",
       "      <td>How much are you worth? . . . . #wealth #Wealt...</td>\n",
       "      <td>much worth? . . . . #wealth #wealthy #wealthbu...</td>\n",
       "      <td>[much, worth, wealth, wealthy, wealthbuilding,...</td>\n",
       "      <td>Topic1</td>\n",
       "      <td>None</td>\n",
       "    </tr>\n",
       "    <tr>\n",
       "      <td>32865</td>\n",
       "      <td>2019-02-13 01:01:01</td>\n",
       "      <td>RRSP Investors: 3 Undervalued Stocks to Buy To...</td>\n",
       "      <td>rrsp investors: 3 undervalued stocks buy today...</td>\n",
       "      <td>[rrsp, investors, undervalued, stocks, buy, to...</td>\n",
       "      <td>Topic6</td>\n",
       "      <td>None</td>\n",
       "    </tr>\n",
       "  </tbody>\n",
       "</table>\n",
       "<p>32866 rows × 6 columns</p>\n",
       "</div>"
      ],
      "text/plain": [
       "                      date                                               text  \\\n",
       "0      2019-12-31 23:45:02  Thinking about transitioning your business? Yo...   \n",
       "1      2019-12-31 23:31:32  http://RipsawWealth.com #2020WillBeTheYearFor ...   \n",
       "2      2019-12-31 23:00:40                          #wealthmanagement #maxous   \n",
       "3      2019-12-31 22:45:05  #WealthManagement and private banking trends: ...   \n",
       "4      2019-12-31 22:43:01  Is Your Money Ready for Retirement? #Retiremen...   \n",
       "...                    ...                                                ...   \n",
       "32861  2019-02-13 01:15:03  .@Praemium said its major technology upgrade w...   \n",
       "32862  2019-02-13 01:13:06  A Seismic Shift in the Estate-Planning Landsca...   \n",
       "32863  2019-02-13 01:11:01  Interview: Scott Cooper, @CybiWealth – investi...   \n",
       "32864  2019-02-13 01:06:01  How much are you worth? . . . . #wealth #Wealt...   \n",
       "32865  2019-02-13 01:01:01  RRSP Investors: 3 Undervalued Stocks to Buy To...   \n",
       "\n",
       "                                       preprocessed_text  \\\n",
       "0      thinking transitioning business? you’ll surpri...   \n",
       "1      #2020willbetheyearfor financial control! #happ...   \n",
       "2                                                #maxous   \n",
       "3      private banking trends: 2020 | @fintechmagazin...   \n",
       "4      money ready retirement? #retirementplan #finan...   \n",
       "...                                                  ...   \n",
       "32861  .@praemium said major technology upgrade expan...   \n",
       "32862  seismic shift estate-planning landscape #estat...   \n",
       "32863  interview: scott cooper, @cybiwealth – investi...   \n",
       "32864  much worth? . . . . #wealth #wealthy #wealthbu...   \n",
       "32865  rrsp investors: 3 undervalued stocks buy today...   \n",
       "\n",
       "                                          tokenized_text   Label1  Label2  \n",
       "0      [thinking, transitioning, business, you, ll, s...   Topic8    None  \n",
       "1      [willbetheyearfor, financial, control, happyne...   Topic4    None  \n",
       "2                                               [maxous]   Topic0    None  \n",
       "3      [private, banking, trends, fintechmagazine, we...   Topic0  Topic4  \n",
       "4      [money, ready, retirement, retirementplan, fin...   Topic1    None  \n",
       "...                                                  ...      ...     ...  \n",
       "32861  [praemium, said, major, technology, upgrade, e...  Topic12    None  \n",
       "32862  [seismic, shift, estate, planning, landscape, ...   Topic3    None  \n",
       "32863  [interview, scott, cooper, cybiwealth, investi...  Topic12  Topic0  \n",
       "32864  [much, worth, wealth, wealthy, wealthbuilding,...   Topic1    None  \n",
       "32865  [rrsp, investors, undervalued, stocks, buy, to...   Topic6    None  \n",
       "\n",
       "[32866 rows x 6 columns]"
      ]
     },
     "execution_count": 65,
     "metadata": {},
     "output_type": "execute_result"
    }
   ],
   "source": [
    "df_tweets_clean[\"Label1\"] = list1\n",
    "df_tweets_clean[\"Label2\"] = list2\n",
    "df_tweets_clean.head()"
   ]
  },
  {
   "cell_type": "code",
   "execution_count": 15,
   "metadata": {},
   "outputs": [],
   "source": [
    "list_ = []\n",
    "for i in range(5):\n",
    "    ie = []\n",
    "    for j in range(len(tweets_lda[tweets_corpus[i]])):\n",
    "        ie.append(round(tweets_lda[tweets_corpus[1]][j][1], 2))\n",
    "    for j in range(len(tweets_lda[tweets_corpus[i]])):\n",
    "        if tweets_lda[tweets_corpus[i]][j][1] == max(ie):\n",
    "            print(tweets_lda[tweets_corpus[i]][j][1])\n",
    "            list_.append('Topic'+str(tweets_lda[corpus[i]][j][0] + 1))"
   ]
  },
  {
   "cell_type": "code",
   "execution_count": 16,
   "metadata": {},
   "outputs": [
    {
     "name": "stdout",
     "output_type": "stream",
     "text": [
      "Collecting wikiapi\n",
      "  Downloading https://files.pythonhosted.org/packages/68/8e/b0392010df61ed01153d2485bf79167d4cbd47be11b6a3d7a10469266107/wikiapi-1.2.5-py2.py3-none-any.whl\n",
      "Requirement already satisfied: requests in c:\\users\\daani\\anaconda3\\lib\\site-packages (from wikiapi) (2.22.0)\n",
      "Requirement already satisfied: wheel in c:\\users\\daani\\anaconda3\\lib\\site-packages (from wikiapi) (0.33.6)\n",
      "Requirement already satisfied: beautifulsoup4 in c:\\users\\daani\\anaconda3\\lib\\site-packages (from wikiapi) (4.8.0)\n",
      "Collecting pyquery (from wikiapi)\n",
      "  Downloading https://files.pythonhosted.org/packages/78/43/95d42e386c61cb639d1a0b94f0c0b9f0b7d6b981ad3c043a836c8b5bc68b/pyquery-1.4.1-py2.py3-none-any.whl\n",
      "Requirement already satisfied: six in c:\\users\\daani\\anaconda3\\lib\\site-packages (from wikiapi) (1.12.0)\n",
      "Requirement already satisfied: chardet<3.1.0,>=3.0.2 in c:\\users\\daani\\anaconda3\\lib\\site-packages (from requests->wikiapi) (3.0.4)\n",
      "Requirement already satisfied: certifi>=2017.4.17 in c:\\users\\daani\\anaconda3\\lib\\site-packages (from requests->wikiapi) (2019.9.11)\n",
      "Requirement already satisfied: urllib3!=1.25.0,!=1.25.1,<1.26,>=1.21.1 in c:\\users\\daani\\anaconda3\\lib\\site-packages (from requests->wikiapi) (1.24.2)\n",
      "Requirement already satisfied: idna<2.9,>=2.5 in c:\\users\\daani\\anaconda3\\lib\\site-packages (from requests->wikiapi) (2.8)\n",
      "Requirement already satisfied: soupsieve>=1.2 in c:\\users\\daani\\anaconda3\\lib\\site-packages (from beautifulsoup4->wikiapi) (1.9.3)\n",
      "Requirement already satisfied: lxml>=2.1 in c:\\users\\daani\\anaconda3\\lib\\site-packages (from pyquery->wikiapi) (4.4.1)\n",
      "Collecting cssselect>0.7.9 (from pyquery->wikiapi)\n",
      "  Downloading https://files.pythonhosted.org/packages/3b/d4/3b5c17f00cce85b9a1e6f91096e1cc8e8ede2e1be8e96b87ce1ed09e92c5/cssselect-1.1.0-py2.py3-none-any.whl\n",
      "Installing collected packages: cssselect, pyquery, wikiapi\n",
      "Successfully installed cssselect-1.1.0 pyquery-1.4.1 wikiapi-1.2.5\n",
      "Note: you may need to restart the kernel to use updated packages.\n"
     ]
    }
   ],
   "source": [
    "pip install wikiapi"
   ]
  },
  {
   "cell_type": "code",
   "execution_count": 17,
   "metadata": {},
   "outputs": [
    {
     "name": "stdout",
     "output_type": "stream",
     "text": [
      "Collecting pattern\n",
      "  Downloading https://files.pythonhosted.org/packages/1e/07/b0e61b6c818ed4b6145fe01d1c341223aa6cfbc3928538ad1f2b890924a3/Pattern-3.6.0.tar.gz (22.2MB)\n",
      "Requirement already satisfied: future in c:\\users\\daani\\anaconda3\\lib\\site-packages (from pattern) (0.17.1)\n",
      "Collecting backports.csv (from pattern)\n",
      "  Downloading https://files.pythonhosted.org/packages/8e/26/a6bd68f13e0f38fbb643d6e497fc3462be83a0b6c4d43425c78bb51a7291/backports.csv-1.0.7-py2.py3-none-any.whl\n",
      "Collecting mysqlclient (from pattern)\n",
      "  Downloading https://files.pythonhosted.org/packages/4a/28/b08ede6cc8382179201455c3b9e5ed0d66aa5921e7c1888828dba48b832b/mysqlclient-2.0.1-cp37-cp37m-win_amd64.whl (268kB)\n",
      "Requirement already satisfied: beautifulsoup4 in c:\\users\\daani\\anaconda3\\lib\\site-packages (from pattern) (4.8.0)\n",
      "Requirement already satisfied: lxml in c:\\users\\daani\\anaconda3\\lib\\site-packages (from pattern) (4.4.1)\n",
      "Collecting feedparser (from pattern)\n",
      "  Downloading https://files.pythonhosted.org/packages/91/d8/7d37fec71ff7c9dbcdd80d2b48bcdd86d6af502156fc93846fb0102cb2c4/feedparser-5.2.1.tar.bz2 (192kB)\n",
      "Collecting pdfminer.six (from pattern)\n",
      "  Downloading https://files.pythonhosted.org/packages/b0/c0/ef1c8758bbd86edb10b5443700aac97d0ba27a9ca2e7696db8cd1fdbd5a8/pdfminer.six-20200517-py3-none-any.whl (5.6MB)\n",
      "Requirement already satisfied: numpy in c:\\users\\daani\\anaconda3\\lib\\site-packages (from pattern) (1.16.5)\n",
      "Requirement already satisfied: scipy in c:\\users\\daani\\anaconda3\\lib\\site-packages (from pattern) (1.3.1)\n",
      "Requirement already satisfied: nltk in c:\\users\\daani\\anaconda3\\lib\\site-packages (from pattern) (3.4.5)\n",
      "Collecting python-docx (from pattern)\n",
      "  Downloading https://files.pythonhosted.org/packages/e4/83/c66a1934ed5ed8ab1dbb9931f1779079f8bca0f6bbc5793c06c4b5e7d671/python-docx-0.8.10.tar.gz (5.5MB)\n",
      "Collecting cherrypy (from pattern)\n",
      "  Downloading https://files.pythonhosted.org/packages/a8/f9/e11f893dcabe6bc222a1442bf5e14f0322a2d363c92910ed41947078a35a/CherryPy-18.6.0-py2.py3-none-any.whl (419kB)\n",
      "Requirement already satisfied: requests in c:\\users\\daani\\anaconda3\\lib\\site-packages (from pattern) (2.22.0)\n",
      "Requirement already satisfied: soupsieve>=1.2 in c:\\users\\daani\\anaconda3\\lib\\site-packages (from beautifulsoup4->pattern) (1.9.3)\n",
      "Requirement already satisfied: sortedcontainers in c:\\users\\daani\\anaconda3\\lib\\site-packages (from pdfminer.six->pattern) (2.1.0)\n",
      "Collecting pycryptodome (from pdfminer.six->pattern)\n",
      "  Downloading https://files.pythonhosted.org/packages/44/72/3db473557ae21238229f3805de723d1fe34fa337d08cf94877073daf62ef/pycryptodome-3.9.8-cp37-cp37m-win_amd64.whl (14.1MB)\n",
      "Requirement already satisfied: chardet; python_version > \"3.0\" in c:\\users\\daani\\anaconda3\\lib\\site-packages (from pdfminer.six->pattern) (3.0.4)\n",
      "Requirement already satisfied: six in c:\\users\\daani\\anaconda3\\lib\\site-packages (from nltk->pattern) (1.12.0)\n",
      "Collecting cheroot>=8.2.1 (from cherrypy->pattern)\n",
      "  Downloading https://files.pythonhosted.org/packages/02/66/19b7e9947f08e18d65ae1a47a442a570978f0bbe376e227d1f801e51760b/cheroot-8.3.1-py2.py3-none-any.whl (88kB)\n",
      "Requirement already satisfied: more-itertools in c:\\users\\daani\\anaconda3\\lib\\site-packages (from cherrypy->pattern) (7.2.0)\n",
      "Requirement already satisfied: pywin32; sys_platform == \"win32\" in c:\\users\\daani\\anaconda3\\lib\\site-packages (from cherrypy->pattern) (223)\n",
      "Collecting jaraco.collections (from cherrypy->pattern)\n",
      "  Downloading https://files.pythonhosted.org/packages/fe/06/a89652069f0a13a33701714c0c8e0cc8656bf6d21b7c6b85fde86cf06ff6/jaraco.collections-3.0.0-py2.py3-none-any.whl\n",
      "Collecting zc.lockfile (from cherrypy->pattern)\n",
      "  Downloading https://files.pythonhosted.org/packages/6c/2a/268389776288f0f26c7272c70c36c96dcc0bdb88ab6216ea18e19df1fadd/zc.lockfile-2.0-py2.py3-none-any.whl\n",
      "Collecting portend>=2.1.1 (from cherrypy->pattern)\n",
      "  Downloading https://files.pythonhosted.org/packages/d7/79/eee70a512bffe5ceb5008f8e3326581948f50ca393c3bcb4d557e4818bd1/portend-2.6-py2.py3-none-any.whl\n",
      "Requirement already satisfied: urllib3!=1.25.0,!=1.25.1,<1.26,>=1.21.1 in c:\\users\\daani\\anaconda3\\lib\\site-packages (from requests->pattern) (1.24.2)\n",
      "Requirement already satisfied: certifi>=2017.4.17 in c:\\users\\daani\\anaconda3\\lib\\site-packages (from requests->pattern) (2019.9.11)\n",
      "Requirement already satisfied: idna<2.9,>=2.5 in c:\\users\\daani\\anaconda3\\lib\\site-packages (from requests->pattern) (2.8)\n",
      "Collecting jaraco.functools (from cheroot>=8.2.1->cherrypy->pattern)\n",
      "  Downloading https://files.pythonhosted.org/packages/4f/2b/bbab94f3e461adaf3c7a3a25da0c67c91d8cf7a4ddae7096028601ff940f/jaraco.functools-3.0.1-py3-none-any.whl\n",
      "Collecting jaraco.classes (from jaraco.collections->cherrypy->pattern)\n",
      "  Downloading https://files.pythonhosted.org/packages/68/ce/8f43aa0d0f18120e687ae0192fe3168630040841a3e87bed93c5fe024dbe/jaraco.classes-3.1.0-py2.py3-none-any.whl\n",
      "Collecting jaraco.text (from jaraco.collections->cherrypy->pattern)\n",
      "  Downloading https://files.pythonhosted.org/packages/50/cd/6eda44738065e844bed8fae60a229b6c46f42d0ba8d48205e9fb57e254cd/jaraco.text-3.2.0-py2.py3-none-any.whl\n",
      "Requirement already satisfied: setuptools in c:\\users\\daani\\anaconda3\\lib\\site-packages (from zc.lockfile->cherrypy->pattern) (41.4.0)\n",
      "Collecting tempora>=1.8 (from portend>=2.1.1->cherrypy->pattern)\n",
      "  Downloading https://files.pythonhosted.org/packages/b1/a3/c2bb79aa42ef7c56eec7f12a7d403b6b06b1194bf0736a93b120b5c680f2/tempora-4.0.0-py3-none-any.whl\n",
      "Requirement already satisfied: pytz in c:\\users\\daani\\anaconda3\\lib\\site-packages (from tempora>=1.8->portend>=2.1.1->cherrypy->pattern) (2019.3)\n",
      "Building wheels for collected packages: pattern, feedparser, python-docx\n",
      "  Building wheel for pattern (setup.py): started\n",
      "  Building wheel for pattern (setup.py): finished with status 'done'\n",
      "  Created wheel for pattern: filename=Pattern-3.6-cp37-none-any.whl size=22332727 sha256=ef470670d8fb8f35c0d3fc08a860606b7e022ce3c172af846dfd1cee5bafe72d\n",
      "  Stored in directory: C:\\Users\\daani\\AppData\\Local\\pip\\Cache\\wheels\\dc\\9a\\0e\\5fb1a603ed4e3aa8722a88e9cf4a82da7d1b63e3d2cc34bee5\n",
      "  Building wheel for feedparser (setup.py): started\n",
      "  Building wheel for feedparser (setup.py): finished with status 'done'\n",
      "  Created wheel for feedparser: filename=feedparser-5.2.1-cp37-none-any.whl size=44944 sha256=089645099bb3f0b6d11be9fac22ec7b77d8e15e2f9dee8affb929533d906bccb\n",
      "  Stored in directory: C:\\Users\\daani\\AppData\\Local\\pip\\Cache\\wheels\\8c\\69\\b7\\f52763c41c5471df57703a0ef718a32a5e81ee35dcf6d4f97f\n",
      "  Building wheel for python-docx (setup.py): started\n",
      "  Building wheel for python-docx (setup.py): finished with status 'done'\n",
      "  Created wheel for python-docx: filename=python_docx-0.8.10-cp37-none-any.whl size=184496 sha256=183ae230038f3381dcc105eb175f63307faf138336a8c2a74e9cf08ba47ec74c\n",
      "  Stored in directory: C:\\Users\\daani\\AppData\\Local\\pip\\Cache\\wheels\\18\\0b\\a0\\1dd62ff812c857c9e487f27d80d53d2b40531bec1acecfa47b\n",
      "Successfully built pattern feedparser python-docx\n",
      "Installing collected packages: backports.csv, mysqlclient, feedparser, pycryptodome, pdfminer.six, python-docx, jaraco.functools, cheroot, jaraco.classes, jaraco.text, jaraco.collections, zc.lockfile, tempora, portend, cherrypy, pattern\n",
      "Successfully installed backports.csv-1.0.7 cheroot-8.3.1 cherrypy-18.6.0 feedparser-5.2.1 jaraco.classes-3.1.0 jaraco.collections-3.0.0 jaraco.functools-3.0.1 jaraco.text-3.2.0 mysqlclient-2.0.1 pattern-3.6 pdfminer.six-20200517 portend-2.6 pycryptodome-3.9.8 python-docx-0.8.10 tempora-4.0.0 zc.lockfile-2.0\n",
      "Note: you may need to restart the kernel to use updated packages.\n"
     ]
    }
   ],
   "source": [
    "pip install pattern"
   ]
  },
  {
   "cell_type": "code",
   "execution_count": 18,
   "metadata": {},
   "outputs": [],
   "source": [
    "from wikiapi import WikiApi\n",
    "import gensim\n",
    "from gensim.utils import simple_preprocess, lemmatize\n",
    "import pattern \n",
    "def get_relevant_articles(keywords, search_depth=5, keyword_summary=5):\n",
    "    \"\"\"\n",
    "    Searches through a list of keywords and returns keywords based on article headers\n",
    "    in Wikipedia.    \n",
    "\n",
    "    args:\n",
    "    *  keywords: A list of keywords\n",
    "    *  search_depth: how many wikipedia search results are checked, assumes to be between 1-10\n",
    "    *  keyword_summary: gensim word argument to how many words should be used in summarization\n",
    "    \"\"\"\n",
    "    if len(keywords) == 0:\n",
    "        return []\n",
    "    wiki = WikiApi()\n",
    "\n",
    "    keywords = [x.lower() for x in keywords]\n",
    "    info = []\n",
    "    for keyword in keywords:\n",
    "        results = wiki.find(keyword)\n",
    "        other_words = [x for x in keywords if x != keyword]\n",
    "        \n",
    "        if search_depth is not None:\n",
    "            results = results[:search_depth]\n",
    "\n",
    "        for result in results:\n",
    "            article = wiki.get_article(result)\n",
    "            summary_words = article.summary.lower().split(' ')\n",
    "            has_words = any(word in summary_words for word in other_words)\n",
    "\n",
    "            if has_words:\n",
    "                info.append(article.heading)\n",
    "\n",
    "    try:\n",
    "        info_keyword = gensim.summarization.keywords(' '.join(info),\n",
    "                    words=keyword_summary).split('\\n')\n",
    "    except:\n",
    "        print(\"keyword extraction failed, defaulting to article heading output\")\n",
    "        info_keyword = info[:]\n",
    "    return info_keyword"
   ]
  },
  {
   "cell_type": "code",
   "execution_count": 19,
   "metadata": {},
   "outputs": [
    {
     "name": "stderr",
     "output_type": "stream",
     "text": [
      "C:\\Users\\daani\\Anaconda3\\lib\\site-packages\\wikiapi\\wikiapi.py:122: UserWarning: No parser was explicitly specified, so I'm using the best available HTML parser for this system (\"lxml\"). This usually isn't a problem, but if you run this code on another system, or in a different virtual environment, it may use a different parser and behave differently.\n",
      "\n",
      "The code that caused this warning is on line 122 of the file C:\\Users\\daani\\Anaconda3\\lib\\site-packages\\wikiapi\\wikiapi.py. To get rid of this warning, pass the additional argument 'features=\"lxml\"' to the BeautifulSoup constructor.\n",
      "\n",
      "  return BeautifulSoup(text).text\n"
     ]
    },
    {
     "name": "stdout",
     "output_type": "stream",
     "text": [
      "['financial', 'planning', 'plans', 'money', 'wealth', 'retirement']\n"
     ]
    }
   ],
   "source": [
    "all_results = get_relevant_articles(\"financial financialplanning advisors wealth planning advice retirement clients money goals\".split())\n",
    "print(all_results)"
   ]
  },
  {
   "cell_type": "code",
   "execution_count": 20,
   "metadata": {},
   "outputs": [],
   "source": [
    "texts = list(df_tweets_clean[\"tokenized_text\"])"
   ]
  },
  {
   "cell_type": "code",
   "execution_count": 21,
   "metadata": {},
   "outputs": [
    {
     "data": {
      "text/html": [
       "<div>\n",
       "<style scoped>\n",
       "    .dataframe tbody tr th:only-of-type {\n",
       "        vertical-align: middle;\n",
       "    }\n",
       "\n",
       "    .dataframe tbody tr th {\n",
       "        vertical-align: top;\n",
       "    }\n",
       "\n",
       "    .dataframe thead th {\n",
       "        text-align: right;\n",
       "    }\n",
       "</style>\n",
       "<table border=\"1\" class=\"dataframe\">\n",
       "  <thead>\n",
       "    <tr style=\"text-align: right;\">\n",
       "      <th></th>\n",
       "      <th>tweets</th>\n",
       "    </tr>\n",
       "  </thead>\n",
       "  <tbody>\n",
       "    <tr>\n",
       "      <td>0</td>\n",
       "      <td>thinking transitioning business you ll surpris...</td>\n",
       "    </tr>\n",
       "    <tr>\n",
       "      <td>1</td>\n",
       "      <td>willbetheyearfor financial control happynewyea...</td>\n",
       "    </tr>\n",
       "    <tr>\n",
       "      <td>2</td>\n",
       "      <td>maxous</td>\n",
       "    </tr>\n",
       "    <tr>\n",
       "      <td>3</td>\n",
       "      <td>private banking trends fintechmagazine wealtht...</td>\n",
       "    </tr>\n",
       "    <tr>\n",
       "      <td>4</td>\n",
       "      <td>money ready retirement retirementplan financia...</td>\n",
       "    </tr>\n",
       "  </tbody>\n",
       "</table>\n",
       "</div>"
      ],
      "text/plain": [
       "                                              tweets\n",
       "0  thinking transitioning business you ll surpris...\n",
       "1  willbetheyearfor financial control happynewyea...\n",
       "2                                             maxous\n",
       "3  private banking trends fintechmagazine wealtht...\n",
       "4  money ready retirement retirementplan financia..."
      ]
     },
     "execution_count": 21,
     "metadata": {},
     "output_type": "execute_result"
    }
   ],
   "source": [
    "def convert_list_to_string(list_, separator = ' '):\n",
    "    tweetss = []\n",
    "    for i in list_:\n",
    "        tweetss.append(separator.join(i))\n",
    "    return tweetss\n",
    "\n",
    "tweetss = convert_list_to_string(texts, separator = ' ')\n",
    "df_clean = pd.DataFrame(tweetss, columns = ['tweets'])\n",
    "df_clean.head()"
   ]
  },
  {
   "cell_type": "code",
   "execution_count": 22,
   "metadata": {},
   "outputs": [],
   "source": [
    "from gensim import corpora\n",
    "from gensim.models.ldamodel import LdaModel\n",
    "from gensim.parsing.preprocessing import STOPWORDS"
   ]
  },
  {
   "cell_type": "code",
   "execution_count": 23,
   "metadata": {},
   "outputs": [],
   "source": [
    "#Set parameters\n",
    "num_topics = 5 #The number of topics that should be generated\n",
    "passes = 10\n",
    "dictionary = corpora.Dictionary(texts) #(word_id,word) pairs\n",
    "corpus = [dictionary.doc2bow(text) for text in texts] #(word_id,freq) pairs by sentence"
   ]
  },
  {
   "cell_type": "code",
   "execution_count": 24,
   "metadata": {},
   "outputs": [],
   "source": [
    "lda = LdaModel(corpus,\n",
    "              id2word=dictionary,\n",
    "              num_topics=num_topics,\n",
    "              passes=passes)"
   ]
  },
  {
   "cell_type": "code",
   "execution_count": 25,
   "metadata": {},
   "outputs": [
    {
     "data": {
      "text/plain": [
       "[(0, 0.018213049),\n",
       " (1, 0.9271416),\n",
       " (2, 0.018186716),\n",
       " (3, 0.018221823),\n",
       " (4, 0.018236773)]"
      ]
     },
     "execution_count": 25,
     "metadata": {},
     "output_type": "execute_result"
    }
   ],
   "source": [
    "lda[corpus[len(texts)-1]]"
   ]
  },
  {
   "cell_type": "code",
   "execution_count": 26,
   "metadata": {},
   "outputs": [],
   "source": [
    "ie = []\n",
    "for j in range(num_topics):\n",
    "    ie.append(lda[corpus[0]][j][1])\n",
    "    if lda[corpus[0]][j][1] == max(ie):\n",
    "        list_.append('Topic'+str(lda[corpus[0]][j][0] + 1))"
   ]
  },
  {
   "cell_type": "code",
   "execution_count": 27,
   "metadata": {},
   "outputs": [
    {
     "name": "stdout",
     "output_type": "stream",
     "text": [
      "['Topic1', '0']\n"
     ]
    }
   ],
   "source": [
    "list_ = []\n",
    "\n",
    "for i in range(20):\n",
    "    if len(lda[corpus[i]]) == 5:\n",
    "        ie = []\n",
    "        for j in range(num_topics):\n",
    "            ie.append(lda[corpus[i]][j][1])\n",
    "        for j in range(num_topics):\n",
    "            if lda[corpus[i]][j][1] == max(ie):\n",
    "                list_.append('Topic'+str(lda[corpus[i]][j][0] + 1))\n",
    "    else:\n",
    "        list_.append('0')\n",
    "print(list_)"
   ]
  },
  {
   "cell_type": "code",
   "execution_count": 28,
   "metadata": {},
   "outputs": [
    {
     "data": {
      "text/plain": [
       "2"
      ]
     },
     "execution_count": 28,
     "metadata": {},
     "output_type": "execute_result"
    }
   ],
   "source": [
    "len(list_)"
   ]
  },
  {
   "cell_type": "code",
   "execution_count": 29,
   "metadata": {},
   "outputs": [],
   "source": [
    "def draw_wordcloud(lda,topicnum,min_size=0,STOPWORDS=[]):\n",
    "    word_list=[]\n",
    "    prob_total = 0\n",
    "    for word,prob in lda.show_topic(topicnum,topn=50):\n",
    "        prob_total +=prob\n",
    "    for word,prob in lda.show_topic(topicnum,topn=50):\n",
    "        if word in STOPWORDS or  len(word) < min_size:\n",
    "            continue\n",
    "#         freq = int(prob/prob_total*1000)\n",
    "        freq = int(prob/prob_total*100)\n",
    "        alist=[word]\n",
    "        word_list.extend(alist*freq)\n",
    "        \n",
    "#     print(word_list)\n",
    "    from wordcloud import WordCloud, STOPWORDS\n",
    "    import matplotlib.pyplot as plt\n",
    "    %matplotlib inline\n",
    "    from random import shuffle\n",
    "    shuffle(word_list)\n",
    "    text = ' '.join(word_list)\n",
    "    wordcloud = WordCloud(stopwords=STOPWORDS,background_color='white',max_words=20).generate(text)\n",
    "\n",
    "    plt.axis('off')\n",
    "    plt.imshow(wordcloud)\n",
    "\n",
    "    return None"
   ]
  },
  {
   "cell_type": "code",
   "execution_count": null,
   "metadata": {},
   "outputs": [],
   "source": []
  },
  {
   "cell_type": "code",
   "execution_count": 33,
   "metadata": {},
   "outputs": [
    {
     "data": {
      "image/png": "[encoded data removed]",
      "text/plain": [
       "<Figure size 432x288 with 1 Axes>"
      ]
     },
     "metadata": {
      "needs_background": "light"
     },
     "output_type": "display_data"
    }
   ],
   "source": [
    "draw_wordcloud(lda,2)"
   ]
  },
  {
   "cell_type": "code",
   "execution_count": 31,
   "metadata": {},
   "outputs": [
    {
     "name": "stderr",
     "output_type": "stream",
     "text": [
      "C:\\Users\\daani\\Anaconda3\\lib\\site-packages\\pyLDAvis\\_prepare.py:257: FutureWarning: Sorting because non-concatenation axis is not aligned. A future version\n",
      "of pandas will change to not sort by default.\n",
      "\n",
      "To accept the future behavior, pass 'sort=False'.\n",
      "\n",
      "To retain the current behavior and silence the warning, pass 'sort=True'.\n",
      "\n",
      "  return pd.concat([default_term_info] + list(topic_dfs))\n"
     ]
    },
    {
     "data": {
      "text/html": [
       "\n",
       "<link rel=\"stylesheet\" type=\"text/css\" href=\"https://cdn.rawgit.com/bmabey/pyLDAvis/files/ldavis.v1.0.0.css\">\n",
       "\n",
       "\n",
       "<div id=\"ldavis_el98002693248250056816097146\"></div>\n",
       "<script type=\"text/javascript\">\n",
       "\n",
       "var ldavis_el98002693248250056816097146_data = {\"mdsDat\": {\"x\": [-0.227596847969282, 0.21124008311080344, -0.23065007763835246, 0.10300420830068732, 0.14400263419614356], \"y\": [-0.24388745947134835, -0.04940208405157675, 0.23126109407211484, 0.016200317281984174, 0.04582813216882627], \"topics\": [1, 2, 3, 4, 5], \"cluster\": [1, 1, 1, 1, 1], \"Freq\": [11.01558780670166, 28.432083129882812, 9.649391174316406, 18.70444107055664, 32.19850158691406]}, \"tinfo\": {\"Category\": [\"Default\", \"Default\", \"Default\", \"Default\", \"Default\", \"Default\", \"Default\", \"Default\", \"Default\", \"Default\", \"Default\", \"Default\", \"Default\", \"Default\", \"Default\", \"Default\", \"Default\", \"Default\", \"Default\", \"Default\", \"Default\", \"Default\", \"Default\", \"Default\", \"Default\", \"Default\", \"Default\", \"Default\", \"Default\", \"Default\", \"Topic1\", \"Topic1\", \"Topic1\", \"Topic1\", \"Topic1\", \"Topic1\", \"Topic1\", \"Topic1\", \"Topic1\", \"Topic1\", \"Topic1\", \"Topic1\", \"Topic1\", \"Topic1\", \"Topic1\", \"Topic1\", \"Topic1\", \"Topic1\", \"Topic1\", \"Topic1\", \"Topic1\", \"Topic1\", \"Topic1\", \"Topic1\", \"Topic1\", \"Topic1\", \"Topic1\", \"Topic1\", \"Topic1\", \"Topic1\", \"Topic1\", \"Topic1\", \"Topic1\", \"Topic1\", \"Topic1\", \"Topic1\", \"Topic1\", \"Topic1\", \"Topic1\", \"Topic1\", \"Topic1\", \"Topic2\", \"Topic2\", \"Topic2\", \"Topic2\", \"Topic2\", \"Topic2\", \"Topic2\", \"Topic2\", \"Topic2\", \"Topic2\", \"Topic2\", \"Topic2\", \"Topic2\", \"Topic2\", \"Topic2\", \"Topic2\", \"Topic2\", \"Topic2\", \"Topic2\", \"Topic2\", \"Topic2\", \"Topic2\", \"Topic2\", \"Topic2\", \"Topic2\", \"Topic2\", \"Topic2\", \"Topic2\", \"Topic2\", \"Topic2\", \"Topic2\", \"Topic2\", \"Topic2\", \"Topic2\", \"Topic2\", \"Topic2\", \"Topic2\", \"Topic2\", \"Topic2\", \"Topic2\", \"Topic2\", \"Topic2\", \"Topic2\", \"Topic2\", \"Topic2\", \"Topic2\", \"Topic2\", \"Topic2\", \"Topic2\", \"Topic2\", \"Topic2\", \"Topic2\", \"Topic3\", \"Topic3\", \"Topic3\", \"Topic3\", \"Topic3\", \"Topic3\", \"Topic3\", \"Topic3\", \"Topic3\", \"Topic3\", \"Topic3\", \"Topic3\", \"Topic3\", \"Topic3\", \"Topic3\", \"Topic3\", \"Topic3\", \"Topic3\", \"Topic3\", \"Topic3\", \"Topic3\", \"Topic3\", \"Topic3\", \"Topic3\", \"Topic3\", \"Topic3\", \"Topic3\", \"Topic3\", \"Topic3\", \"Topic3\", \"Topic3\", \"Topic3\", \"Topic3\", \"Topic3\", \"Topic3\", \"Topic3\", \"Topic3\", \"Topic3\", \"Topic3\", \"Topic3\", \"Topic3\", \"Topic3\", \"Topic3\", \"Topic4\", \"Topic4\", \"Topic4\", \"Topic4\", \"Topic4\", \"Topic4\", \"Topic4\", \"Topic4\", \"Topic4\", \"Topic4\", \"Topic4\", \"Topic4\", \"Topic4\", \"Topic4\", \"Topic4\", \"Topic4\", \"Topic4\", \"Topic4\", \"Topic4\", \"Topic4\", \"Topic4\", \"Topic4\", \"Topic4\", \"Topic4\", \"Topic4\", \"Topic4\", \"Topic4\", \"Topic4\", \"Topic4\", \"Topic4\", \"Topic4\", \"Topic4\", \"Topic4\", \"Topic4\", \"Topic4\", \"Topic4\", \"Topic4\", \"Topic4\", \"Topic4\", \"Topic4\", \"Topic4\", \"Topic4\", \"Topic4\", \"Topic4\", \"Topic4\", \"Topic4\", \"Topic4\", \"Topic4\", \"Topic4\", \"Topic4\", \"Topic4\", \"Topic4\", \"Topic4\", \"Topic4\", \"Topic4\", \"Topic5\", \"Topic5\", \"Topic5\", \"Topic5\", \"Topic5\", \"Topic5\", \"Topic5\", \"Topic5\", \"Topic5\", \"Topic5\", \"Topic5\", \"Topic5\", \"Topic5\", \"Topic5\", \"Topic5\", \"Topic5\", \"Topic5\", \"Topic5\", \"Topic5\", \"Topic5\", \"Topic5\", \"Topic5\", \"Topic5\", \"Topic5\", \"Topic5\", \"Topic5\", \"Topic5\", \"Topic5\", \"Topic5\", \"Topic5\", \"Topic5\", \"Topic5\", \"Topic5\", \"Topic5\", \"Topic5\", \"Topic5\", \"Topic5\", \"Topic5\", \"Topic5\", \"Topic5\", \"Topic5\", \"Topic5\", \"Topic5\", \"Topic5\", \"Topic5\", \"Topic5\", \"Topic5\", \"Topic5\", \"Topic5\", \"Topic5\", \"Topic5\", \"Topic5\", \"Topic5\", \"Topic5\", \"Topic5\", \"Topic5\", \"Topic5\"], \"Freq\": [3196.0, 1569.0, 2759.0, 3397.0, 3617.0, 2473.0, 1152.0, 4600.0, 1275.0, 1257.0, 1255.0, 1255.0, 2469.0, 1484.0, 1334.0, 1383.0, 855.0, 1191.0, 2543.0, 725.0, 1033.0, 1321.0, 447.0, 1126.0, 881.0, 1478.0, 983.0, 978.0, 506.0, 1069.0, 1151.7379150390625, 253.5631103515625, 199.71385192871094, 199.2240753173828, 191.47377014160156, 182.52154541015625, 177.231201171875, 174.1680145263672, 160.50286865234375, 153.44000244140625, 137.37681579589844, 134.40716552734375, 133.6096954345703, 135.76641845703125, 130.5254364013672, 129.006103515625, 125.96097564697266, 120.97744750976562, 118.08599853515625, 115.49332427978516, 111.95349884033203, 110.64215850830078, 108.93238067626953, 107.43270111083984, 102.67102813720703, 101.8464126586914, 99.76190185546875, 95.31129455566406, 94.62727355957031, 93.89126586914062, 96.40798950195312, 253.64747619628906, 173.26461791992188, 193.38400268554688, 196.72317504882812, 226.8542022705078, 124.0659408569336, 169.15890502929688, 122.58175659179688, 130.94813537597656, 112.6526870727539, 3195.488525390625, 2758.334228515625, 2473.084228515625, 1333.9794921875, 663.2085571289062, 627.4258422851562, 598.8660888671875, 596.796630859375, 586.2840576171875, 513.5910034179688, 459.89031982421875, 444.4487609863281, 419.8941650390625, 387.09649658203125, 374.53790283203125, 367.70550537109375, 350.0973205566406, 335.2090148925781, 321.4154357910156, 321.0704040527344, 315.6423645019531, 289.27734375, 289.27734375, 291.5174865722656, 230.69822692871094, 225.9043731689453, 224.89898681640625, 649.303955078125, 203.54364013671875, 204.23362731933594, 375.30096435546875, 3191.59033203125, 526.759521484375, 710.1265869140625, 759.5115356445312, 3702.667724609375, 544.76806640625, 1005.3677368164062, 1120.6229248046875, 867.268798828125, 1434.4720458984375, 1939.7445068359375, 652.3405151367188, 656.185791015625, 1277.6881103515625, 1412.5821533203125, 2315.898681640625, 665.9389038085938, 551.567626953125, 611.4671630859375, 638.414306640625, 618.3272705078125, 1568.447265625, 446.70819091796875, 314.340576171875, 228.03526306152344, 226.76577758789062, 194.70762634277344, 181.11618041992188, 181.3983917236328, 169.25393676757812, 155.15286254882812, 183.49795532226562, 146.07577514648438, 133.921630859375, 127.3685531616211, 122.84801483154297, 121.76167297363281, 125.3339614868164, 121.85297393798828, 114.16156005859375, 113.76026916503906, 109.14793395996094, 104.79499816894531, 115.07051086425781, 105.39096069335938, 102.70957946777344, 100.30564880371094, 96.528564453125, 96.17892456054688, 94.7335205078125, 94.7335205078125, 246.2301025390625, 168.327880859375, 466.8228759765625, 112.06326293945312, 230.60101318359375, 138.0084228515625, 385.59698486328125, 350.27545166015625, 169.69886779785156, 193.61190795898438, 140.6587677001953, 166.3476104736328, 120.47896575927734, 1274.731201171875, 1256.704345703125, 1254.371337890625, 1254.371337890625, 724.4405517578125, 505.6021423339844, 425.6773681640625, 299.2845764160156, 285.1909484863281, 262.1385192871094, 190.49037170410156, 187.00575256347656, 181.89434814453125, 175.98036193847656, 184.7322540283203, 171.9590606689453, 164.59780883789062, 164.2784423828125, 165.09532165527344, 159.60496520996094, 161.2867431640625, 145.62741088867188, 145.2279815673828, 146.43438720703125, 143.01046752929688, 144.98231506347656, 132.75701904296875, 126.84706115722656, 124.41924285888672, 126.85091400146484, 147.13404846191406, 509.6103820800781, 379.7223205566406, 228.82794189453125, 316.4156799316406, 512.5950927734375, 206.9453582763672, 211.8709716796875, 686.594970703125, 455.54345703125, 270.3348388671875, 235.3373260498047, 360.7906494140625, 237.39622497558594, 646.36669921875, 366.9383239746094, 296.4991760253906, 475.2574157714844, 286.88409423828125, 348.3231506347656, 219.31900024414062, 277.8621826171875, 302.0232238769531, 305.3580322265625, 229.1212158203125, 1483.7242431640625, 1190.8126220703125, 880.9130859375, 1032.4351806640625, 715.10498046875, 556.6128540039062, 1381.2225341796875, 440.9641418457031, 433.6258239746094, 421.3829040527344, 394.3833312988281, 378.02197265625, 372.1249084472656, 357.419677734375, 349.492431640625, 339.8280029296875, 326.68017578125, 291.9681701660156, 253.47756958007812, 250.99362182617188, 241.3204803466797, 226.9235382080078, 217.17393493652344, 213.60560607910156, 203.743896484375, 202.14883422851562, 201.05381774902344, 193.36416625976562, 193.42791748046875, 193.22784423828125, 591.2303466796875, 942.5156860351562, 2283.984375, 3231.406005859375, 875.7391967773438, 927.2410888671875, 726.6137084960938, 331.0188293457031, 2004.0787353515625, 1226.7913818359375, 403.099609375, 493.2354736328125, 424.4532775878906, 629.0731811523438, 515.4254760742188, 1075.987548828125, 3322.260009765625, 515.6786499023438, 763.3914794921875, 657.2181396484375, 614.9974365234375, 479.9444274902344, 907.193115234375, 944.8065795898438, 516.610107421875, 555.0306396484375, 522.0634765625], \"Term\": [\"retirement\", \"gt\", \"money\", \"financialplanning\", \"fintech\", \"personalfinance\", \"ftse\", \"investing\", \"healthinsurance\", \"insurancenews\", \"insurancequotes\", \"lifeinsuranceupdater\", \"management\", \"wealthtech\", \"tsx\", \"ria\", \"ai\", \"rias\", \"advisors\", \"financialadvisers\", \"client\", \"invest\", \"million\", \"stocks\", \"digital\", \"clients\", \"banking\", \"finserv\", \"financialadvice\", \"planning\", \"ftse\", \"wealthplanning\", \"purpose\", \"second\", \"cybersecurity\", \"forum\", \"esg\", \"inc\", \"mumbai\", \"update\", \"socialmedia\", \"para\", \"dubai\", \"realestateinvesting\", \"il\", \"discussing\", \"usa\", \"trusts\", \"que\", \"houston\", \"quarter\", \"senior\", \"amazon\", \"billionaire\", \"los\", \"por\", \"workfromhome\", \"evening\", \"et\", \"le\", \"embrace\", \"home\", \"uhnwi\", \"online\", \"forex\", \"click\", \"mind\", \"wealth\", \"here\", \"investment\", \"wealthmanagement\", \"retirement\", \"money\", \"personalfinance\", \"tsx\", \"retirementplanning\", \"day\", \"plan\", \"you\", \"goals\", \"finances\", \"right\", \"financialfreedom\", \"cfp\", \"dividend\", \"saving\", \"let\", \"guide\", \"term\", \"returns\", \"don\", \"financialeducation\", \"capitaladvisors\", \"investmemtadvisor\", \"debt\", \"questions\", \"always\", \"without\", \"buy\", \"logical\", \"retire\", \"start\", \"financialplanning\", \"income\", \"make\", \"stock\", \"investing\", \"stockmarket\", \"stocks\", \"invest\", \"planning\", \"investments\", \"investment\", \"get\", \"time\", \"finance\", \"financial\", \"wealth\", \"today\", \"know\", \"future\", \"wealthmanagement\", \"investors\", \"gt\", \"million\", \"mikequindazzi\", \"amp\", \"luxury\", \"aum\", \"machinelearning\", \"brand\", \"mxn\", \"iot\", \"rising\", \"payments\", \"already\", \"entrepreneurship\", \"infographics\", \"statistacharts\", \"aim\", \"drive\", \"pts\", \"mercado\", \"die\", \"chatbots\", \"regulatory\", \"speak\", \"accordingly\", \"bigdata\", \"globalization\", \"eur\", \"wealthmgmt\", \"postrecession\", \"roboadvisors\", \"hedgefund\", \"ai\", \"usd\", \"hnw\", \"hnwi\", \"fintech\", \"wealth\", \"people\", \"business\", \"asset\", \"finance\", \"firms\", \"healthinsurance\", \"insurancenews\", \"lifeinsuranceupdater\", \"insurancequotes\", \"financialadvisers\", \"financialadvice\", \"education\", \"reports\", \"april\", \"pensions\", \"india\", \"purnartha\", \"financialadviser\", \"acquisition\", \"march\", \"interview\", \"trade\", \"net\", \"wealth_mgmt\", \"adviser\", \"going\", \"acquisitions\", \"post\", \"decisions\", \"win\", \"moneymatters\", \"mobile\", \"bonds\", \"panel\", \"canadian\", \"brexit\", \"firms\", \"visit\", \"etfs\", \"uk\", \"tax\", \"worth\", \"london\", \"business\", \"insurance\", \"high\", \"wealthcreation\", \"life\", \"ifa\", \"financial\", \"market\", \"advice\", \"wealth\", \"read\", \"finance\", \"part\", \"new\", \"investment\", \"investing\", \"equity\", \"wealthtech\", \"rias\", \"digital\", \"client\", \"technology\", \"financialadvisors\", \"ria\", \"managers\", \"ianwenik\", \"banks\", \"trends\", \"experience\", \"therudingroup\", \"cryptocurrency\", \"regtech\", \"roboadvisor\", \"advisers\", \"compliance\", \"btc\", \"insights\", \"conference\", \"leading\", \"thank\", \"asia\", \"forward\", \"robo\", \"customer\", \"michaelkitces\", \"ethereum\", \"tangiblealpha\", \"bank\", \"banking\", \"management\", \"fintech\", \"finserv\", \"assetmanagement\", \"industry\", \"platform\", \"advisors\", \"clients\", \"crypto\", \"blockchain\", \"innovation\", \"tech\", \"private\", \"new\", \"wealth\", \"services\", \"learn\", \"more\", \"top\", \"firm\", \"financial\", \"investment\", \"read\", \"finance\", \"investing\"], \"Total\": [3196.0, 1569.0, 2759.0, 3397.0, 3617.0, 2473.0, 1152.0, 4600.0, 1275.0, 1257.0, 1255.0, 1255.0, 2469.0, 1484.0, 1334.0, 1383.0, 855.0, 1191.0, 2543.0, 725.0, 1033.0, 1321.0, 447.0, 1126.0, 881.0, 1478.0, 983.0, 978.0, 506.0, 1069.0, 1152.5538330078125, 254.3250732421875, 200.49949645996094, 200.01976013183594, 192.24932861328125, 183.29183959960938, 177.9951629638672, 174.97645568847656, 161.29071044921875, 154.20187377929688, 138.14212036132812, 135.1602783203125, 134.37071228027344, 136.54324340820312, 131.28076171875, 129.7841339111328, 126.74313354492188, 121.74616241455078, 118.83912658691406, 116.25187683105469, 112.72725677490234, 111.42040252685547, 109.70269775390625, 108.20135498046875, 103.42670440673828, 102.59951782226562, 100.5271224975586, 96.07079315185547, 95.3849868774414, 94.64482116699219, 97.23141479492188, 302.3300476074219, 193.48475646972656, 230.55056762695312, 253.15103149414062, 490.07843017578125, 161.27676391601562, 6632.8505859375, 777.1090087890625, 3317.7158203125, 1182.284423828125, 3196.296142578125, 2759.144287109375, 2473.8974609375, 1334.7921142578125, 664.0131225585938, 628.2403564453125, 599.6751098632812, 597.6050415039062, 587.0902099609375, 514.4024658203125, 460.7111511230469, 445.2538757324219, 420.6977844238281, 387.91424560546875, 375.343505859375, 368.5143127441406, 350.9138488769531, 336.02105712890625, 322.22509765625, 321.8841247558594, 316.44586181640625, 290.0812683105469, 290.0812683105469, 292.33087158203125, 231.5078582763672, 226.7182159423828, 225.71217346191406, 651.755126953125, 204.34471130371094, 205.03790283203125, 378.1241149902344, 3397.399658203125, 548.5609741210938, 751.376220703125, 811.6734619140625, 4600.6259765625, 574.5590209960938, 1126.02392578125, 1321.4964599609375, 1069.06787109375, 2099.60400390625, 3317.7158203125, 813.4468994140625, 860.554931640625, 2393.81103515625, 2966.564697265625, 6632.8505859375, 1014.120361328125, 728.8148193359375, 1036.958984375, 1182.284423828125, 1298.1845703125, 1569.240234375, 447.5079345703125, 315.130615234375, 228.8374786376953, 227.56361389160156, 195.51019287109375, 181.90908813476562, 182.19271850585938, 170.04324340820312, 155.94398498535156, 184.4712371826172, 146.89051818847656, 134.71868896484375, 128.17759704589844, 123.64006805419922, 122.55206298828125, 126.15547180175781, 122.65794372558594, 114.95088195800781, 114.54993438720703, 109.94147491455078, 105.58696746826172, 115.94534301757812, 106.20108795166016, 103.49934387207031, 101.1036605834961, 97.31843566894531, 96.97745513916016, 95.5228271484375, 95.5228271484375, 343.8458251953125, 209.56564331054688, 855.726806640625, 122.09476470947266, 496.82037353515625, 193.64266967773438, 3617.611328125, 6632.8505859375, 568.8399658203125, 1508.60986328125, 585.153076171875, 2393.81103515625, 630.7376708984375, 1275.52294921875, 1257.4962158203125, 1255.1630859375, 1255.1630859375, 725.2323608398438, 506.4049987792969, 426.5354309082031, 300.1008605957031, 286.0251770019531, 262.932861328125, 191.29794311523438, 187.8040313720703, 182.69358825683594, 176.77891540527344, 185.5767364501953, 172.77359008789062, 165.39361572265625, 165.07546997070312, 165.90316772460938, 160.40289306640625, 162.0956268310547, 146.43421936035156, 146.0326690673828, 147.25274658203125, 143.81861877441406, 145.8141632080078, 133.56861877441406, 127.64669799804688, 125.23445892333984, 127.68363952636719, 151.41781616210938, 630.7376708984375, 499.8578186035156, 269.14837646484375, 437.68841552734375, 873.79736328125, 244.24957275390625, 255.60726928710938, 1508.60986328125, 896.0342407226562, 407.57818603515625, 321.3554382324219, 815.7106323242188, 349.4993896484375, 2966.564697265625, 1153.6563720703125, 930.9163818359375, 6632.8505859375, 1052.78515625, 2393.81103515625, 371.871826171875, 1451.9820556640625, 3317.7158203125, 4600.6259765625, 575.4832153320312, 1484.5189208984375, 1191.608642578125, 881.7075805664062, 1033.37060546875, 715.8988647460938, 557.4081420898438, 1383.3695068359375, 441.7603759765625, 434.4222717285156, 422.1793212890625, 395.17657470703125, 378.8200988769531, 372.91583251953125, 358.2174987792969, 350.2846984863281, 340.63153076171875, 327.48223876953125, 292.762939453125, 254.27392578125, 251.7938995361328, 242.11663818359375, 227.7176055908203, 217.97311401367188, 214.40028381347656, 204.541748046875, 202.94390869140625, 201.85198974609375, 194.15664672851562, 194.2212677001953, 194.0250244140625, 607.5884399414062, 983.4076538085938, 2469.49365234375, 3617.611328125, 978.5011596679688, 1041.60693359375, 807.4299926757812, 346.06982421875, 2543.52490234375, 1478.161376953125, 432.19989013671875, 544.6915283203125, 460.9300537109375, 731.3139038085938, 578.6544799804688, 1451.9820556640625, 6632.8505859375, 610.549072265625, 1081.28759765625, 899.95458984375, 813.145263671875, 568.07568359375, 2966.564697265625, 3317.7158203125, 1052.78515625, 2393.81103515625, 4600.6259765625], \"loglift\": [30.0, 29.0, 28.0, 27.0, 26.0, 25.0, 24.0, 23.0, 22.0, 21.0, 20.0, 19.0, 18.0, 17.0, 16.0, 15.0, 14.0, 13.0, 12.0, 11.0, 10.0, 9.0, 8.0, 7.0, 6.0, 5.0, 4.0, 3.0, 2.0, 1.0, 2.205199956893921, 2.202899932861328, 2.201900005340576, 2.201900005340576, 2.2018001079559326, 2.2016000747680664, 2.2016000747680664, 2.201200008392334, 2.2009999752044678, 2.200900077819824, 2.2002999782562256, 2.2002999782562256, 2.200200080871582, 2.200200080871582, 2.2000999450683594, 2.1998000144958496, 2.199700117111206, 2.19950008392334, 2.19950008392334, 2.1993000507354736, 2.1989998817443848, 2.1988000869750977, 2.1988000869750977, 2.198699951171875, 2.198499917984009, 2.198499917984009, 2.198199987411499, 2.1979000568389893, 2.1979000568389893, 2.1979000568389893, 2.1974000930786133, 2.0302999019622803, 2.0954999923706055, 2.030100107192993, 1.9536999464035034, 1.4356000423431396, 1.943600058555603, -1.4630999565124512, 0.35910001397132874, -1.0263999700546265, -0.14499999582767487, 1.2574000358581543, 1.2574000358581543, 1.2573000192642212, 1.2569999694824219, 1.2563999891281128, 1.2563999891281128, 1.2562999725341797, 1.2562999725341797, 1.2562999725341797, 1.256100058555603, 1.2559000253677368, 1.2558000087738037, 1.2556999921798706, 1.2554999589920044, 1.2554999589920044, 1.2554999589920044, 1.2553000450134277, 1.2552000284194946, 1.2551000118255615, 1.2551000118255615, 1.2551000118255615, 1.2548999786376953, 1.2548999786376953, 1.2548999786376953, 1.25409996509552, 1.25409996509552, 1.253999948501587, 1.2539000511169434, 1.2537000179290771, 1.2537000179290771, 1.2502000331878662, 1.195199966430664, 1.2171000242233276, 1.201200008392334, 1.1912000179290771, 1.0405000448226929, 1.2043999433517456, 1.1442999839782715, 1.0928000211715698, 1.0484999418258667, 0.8766999840736389, 0.7208999991416931, 1.0369000434875488, 0.9865000247955322, 0.629800021648407, 0.5156999826431274, 0.2054000049829483, 0.8371000289916992, 0.9789999723434448, 0.7294999957084656, 0.6413999795913696, 0.5159000158309937, 2.3378000259399414, 2.3364999294281006, 2.3357999324798584, 2.3348000049591064, 2.3348000049591064, 2.334199905395508, 2.333899974822998, 2.333899974822998, 2.3336000442504883, 2.333199977874756, 2.3329999446868896, 2.33270001411438, 2.3322999477386475, 2.331899881362915, 2.3317999839782715, 2.3317999839782715, 2.331700086593628, 2.331700086593628, 2.331399917602539, 2.331399917602539, 2.3310000896453857, 2.330699920654297, 2.330699920654297, 2.3306000232696533, 2.3306000232696533, 2.330399990081787, 2.3301000595092773, 2.3299999237060547, 2.3299999237060547, 2.3299999237060547, 2.004300117492676, 2.1191999912261963, 1.732300043106079, 2.252500057220459, 1.5707000494003296, 1.9996000528335571, 0.09950000047683716, -0.6028000116348267, 1.1287000179290771, 0.28519999980926514, 0.9126999974250793, -0.32829999923706055, 0.6829000115394592, 1.6757999658584595, 1.6757999658584595, 1.6757999658584595, 1.6757999658584595, 1.6753000020980835, 1.6748000383377075, 1.674399971961975, 1.673699975013733, 1.6734999418258667, 1.6734000444412231, 1.6721999645233154, 1.6720999479293823, 1.6720000505447388, 1.6719000339508057, 1.6718000173568726, 1.6717000007629395, 1.6715999841690063, 1.6715999841690063, 1.6714999675750732, 1.6713999509811401, 1.6713999509811401, 1.6708999872207642, 1.6708999872207642, 1.670799970626831, 1.670799970626831, 1.670699954032898, 1.670300006866455, 1.6700999736785889, 1.6698999404907227, 1.6698999404907227, 1.6476999521255493, 1.4631999731063843, 1.4014999866485596, 1.5140999555587769, 1.3519999980926514, 1.1430000066757202, 1.510699987411499, 1.488700032234192, 0.88919997215271, 0.9998999834060669, 1.2657999992370605, 1.36489999294281, 0.8605999946594238, 1.2896000146865845, 0.1526000052690506, 0.5309000015258789, 0.5322999954223633, -0.9595000147819519, 0.37630000710487366, -0.25110000371932983, 1.1483999490737915, 0.02280000038444996, -0.7200999855995178, -1.0361000299453735, 0.7555000185966492, 1.132699966430664, 1.132599949836731, 1.1323000192642212, 1.1323000192642212, 1.132099986076355, 1.1318000555038452, 1.131700038909912, 1.1313999891281128, 1.1313999891281128, 1.1313999891281128, 1.1311999559402466, 1.131100058555603, 1.131100058555603, 1.13100004196167, 1.13100004196167, 1.1309000253677368, 1.1308000087738037, 1.1304999589920044, 1.1301000118255615, 1.1301000118255615, 1.1299999952316284, 1.1297999620437622, 1.1296000480651855, 1.1295000314712524, 1.1292999982833862, 1.1292999982833862, 1.1292999982833862, 1.1291999816894531, 1.1291999816894531, 1.12909996509552, 1.1059999465942383, 1.0908000469207764, 1.0551999807357788, 1.020400047302246, 1.0223000049591064, 1.0168999433517456, 1.0277999639511108, 1.0887999534606934, 0.8949000239372253, 0.9469000101089478, 1.0635000467300415, 1.034000039100647, 1.0507999658584595, 0.982699990272522, 1.0175000429153442, 0.8335999846458435, 0.44190001487731934, 0.9643999934196472, 0.785099983215332, 0.8188999891281128, 0.8539999723434448, 0.9646999835968018, -0.051600001752376556, -0.12280000001192093, 0.4212999939918518, -0.32839998602867126, -1.0428999662399292], \"logprob\": [30.0, 29.0, 28.0, 27.0, 26.0, 25.0, 24.0, 23.0, 22.0, 21.0, 20.0, 19.0, 18.0, 17.0, 16.0, 15.0, 14.0, 13.0, 12.0, 11.0, 10.0, 9.0, 8.0, 7.0, 6.0, 5.0, 4.0, 3.0, 2.0, 1.0, -3.8261001110076904, -5.3394999504089355, -5.578199863433838, -5.580699920654297, -5.6203999519348145, -5.6682000160217285, -5.697700023651123, -5.715099811553955, -5.796800136566162, -5.841800212860107, -5.952400207519531, -5.9741997718811035, -5.980199813842773, -5.964200019836426, -6.003499984741211, -6.0152997970581055, -6.039100170135498, -6.079500198364258, -6.103700160980225, -6.125899791717529, -6.1570000648498535, -6.168799877166748, -6.1844000816345215, -6.198200225830078, -6.243599891662598, -6.2515997886657715, -6.272299766540527, -6.317999839782715, -6.325200080871582, -6.333000183105469, -6.30649995803833, -5.339200019836426, -5.720300197601318, -5.610400199890137, -5.593299865722656, -5.450799942016602, -6.054299831390381, -5.74429988861084, -6.066299915313721, -6.00029993057251, -6.1508002281188965, -3.7537999153137207, -3.900899887084961, -4.0100998878479, -4.627399921417236, -5.326200008392334, -5.381700038909912, -5.428299903869629, -5.431700229644775, -5.44950008392334, -5.581900119781494, -5.692299842834473, -5.726500034332275, -5.783299922943115, -5.86460018157959, -5.897600173950195, -5.915999889373779, -5.965099811553955, -6.008600234985352, -6.050600051879883, -6.051700115203857, -6.068699836730957, -6.155900001525879, -6.155900001525879, -6.148200035095215, -6.382199764251709, -6.403200149536133, -6.407700061798096, -5.347400188446045, -6.507400035858154, -6.5040998458862305, -5.895599842071533, -3.755000114440918, -5.556600093841553, -5.257900238037109, -5.1905999183654785, -3.6064999103546143, -5.5229997634887695, -4.910200119018555, -4.801700115203857, -5.058000087738037, -4.554800033569336, -4.252999782562256, -5.342800140380859, -5.336900234222412, -4.670499801635742, -4.570099830627441, -4.075799942016602, -5.3221001625061035, -5.5106000900268555, -5.40749979019165, -5.364299774169922, -5.396299839019775, -3.3849000930786133, -4.6407999992370605, -4.992199897766113, -5.313199996948242, -5.31879997253418, -5.471199989318848, -5.543600082397461, -5.541999816894531, -5.611299991607666, -5.698299884796143, -5.5304999351501465, -5.758600234985352, -5.845399856567383, -5.895599842071533, -5.931700229644775, -5.9405999183654785, -5.9116997718811035, -5.939899921417236, -6.005099773406982, -6.008600234985352, -6.050000190734863, -6.090700149536133, -5.997099876403809, -6.085000038146973, -6.110799789428711, -6.134500026702881, -6.172900199890137, -6.176499843597412, -6.1915998458862305, -6.1915998458862305, -5.236400127410889, -5.616799831390381, -4.596700191497803, -6.023600101470947, -5.302000045776367, -5.815400123596191, -4.787899971008301, -4.883999824523926, -5.608699798583984, -5.476799964904785, -5.79640007019043, -5.628600120544434, -5.951200008392334, -4.2540998458862305, -4.2683000564575195, -4.270199775695801, -4.270199775695801, -4.819200038909912, -5.178800106048584, -5.350900173187256, -5.703199863433838, -5.751399993896484, -5.835700035095215, -6.15500020980835, -6.173399925231934, -6.201099872589111, -6.2342000007629395, -6.185699939727783, -6.257299900054932, -6.30109977722168, -6.302999973297119, -6.297999858856201, -6.331900119781494, -6.321400165557861, -6.423500061035156, -6.426300048828125, -6.418000221252441, -6.4415998458862305, -6.4278998374938965, -6.515999794006348, -6.561600208282471, -6.580900192260742, -6.561500072479248, -6.4131999015808105, -5.170899868011475, -5.465099811553955, -5.97160005569458, -5.647500038146973, -5.16510009765625, -6.0721001625061035, -6.048600196838379, -4.872799873352051, -5.283100128173828, -5.804900169372559, -5.94350004196167, -5.516300201416016, -5.934800148010254, -4.933199882507324, -5.4994001388549805, -5.712500095367432, -5.240699768066406, -5.745500087738037, -5.551400184631348, -6.013999938964844, -5.777400016784668, -5.6940999031066895, -5.68310022354126, -5.970300197601318, -4.645400047302246, -4.865300178527832, -5.166800022125244, -5.007999897003174, -5.37529993057251, -5.625800132751465, -4.7170000076293945, -5.858799934387207, -5.875500202178955, -5.904200077056885, -5.970399856567383, -6.012800216674805, -6.028500080108643, -6.06879997253418, -6.09119987487793, -6.11929988861084, -6.158699989318848, -6.271100044250488, -6.412399768829346, -6.422299861907959, -6.461599826812744, -6.523099899291992, -6.566999912261963, -6.583600044250488, -6.630899906158447, -6.638700008392334, -6.644100189208984, -6.68310022354126, -6.682799816131592, -6.683800220489502, -5.565499782562256, -5.0991997718811035, -4.214000225067139, -3.867000102996826, -5.172599792480469, -5.115499973297119, -5.359300136566162, -6.145500183105469, -4.344799995422363, -4.835599899291992, -5.948500156402588, -5.746699810028076, -5.896900177001953, -5.503499984741211, -5.702700138092041, -4.966700077056885, -3.8392999172210693, -5.702199935913086, -5.309899806976318, -5.459700107574463, -5.526100158691406, -5.77400016784668, -5.137400150299072, -5.096700191497803, -5.700399875640869, -5.628699779510498, -5.689899921417236]}, \"token.table\": {\"Topic\": [3, 4, 4, 1, 2, 4, 5, 4, 5, 2, 4, 5, 3, 5, 3, 3, 2, 1, 3, 4, 5, 3, 4, 5, 1, 2, 5, 3, 3, 5, 3, 5, 5, 3, 1, 3, 5, 4, 3, 1, 4, 5, 1, 2, 3, 4, 5, 2, 5, 4, 2, 2, 3, 1, 5, 5, 2, 4, 5, 5, 5, 2, 5, 5, 5, 1, 2, 2, 4, 3, 5, 1, 2, 2, 3, 1, 4, 1, 3, 2, 4, 5, 1, 1, 4, 5, 5, 3, 1, 5, 1, 2, 3, 4, 5, 2, 2, 4, 5, 4, 4, 4, 5, 2, 2, 2, 4, 3, 5, 3, 5, 4, 5, 3, 4, 1, 5, 1, 5, 1, 2, 4, 5, 1, 2, 4, 5, 3, 2, 4, 3, 2, 4, 3, 5, 1, 2, 5, 2, 4, 5, 3, 5, 3, 5, 1, 3, 1, 5, 4, 5, 1, 1, 1, 2, 4, 4, 5, 3, 1, 5, 5, 2, 3, 4, 5, 4, 4, 4, 2, 5, 2, 3, 4, 5, 2, 1, 2, 4, 5, 1, 2, 4, 5, 1, 2, 4, 5, 3, 2, 5, 1, 5, 1, 2, 3, 4, 5, 2, 2, 4, 4, 2, 3, 4, 1, 3, 3, 1, 2, 1, 2, 3, 4, 5, 5, 4, 1, 2, 3, 4, 5, 3, 5, 3, 3, 1, 5, 4, 2, 4, 2, 4, 5, 1, 3, 4, 2, 4, 5, 1, 3, 4, 1, 2, 4, 5, 3, 4, 2, 3, 4, 5, 2, 2, 2, 4, 4, 5, 1, 4, 3, 1, 5, 3, 4, 1, 1, 1, 2, 2, 4, 5, 1, 5, 3, 4, 2, 2, 2, 2, 4, 5, 5, 2, 3, 5, 5, 3, 5, 2, 1, 1, 4, 5, 1, 3, 2, 4, 3, 2, 4, 2, 4, 2, 4, 5, 2, 4, 3, 5, 5, 2, 5, 5, 2, 4, 5, 1, 2, 4, 5, 2, 4, 5, 4, 5, 1, 2, 1, 4, 2, 4, 5, 1, 1, 1, 3, 3, 4, 5, 1, 2, 3, 4, 5, 4, 1, 4, 1, 2, 3, 5, 3, 1, 5, 4, 2, 1, 2, 4, 2], \"Freq\": [0.9951753616333008, 0.9955938458442688, 0.9970347285270691, 0.009667892940342426, 0.3072241544723511, 0.3179662525653839, 0.3630830943584442, 0.997488260269165, 0.9985274076461792, 0.17338143289089203, 0.03852920979261398, 0.7878829836845398, 0.5457349419593811, 0.45341572165489197, 0.9908409118652344, 0.994665265083313, 0.9968321323394775, 0.9935945272445679, 0.996340274810791, 0.9964157938957214, 0.9981330037117004, 0.24096259474754333, 0.11962682008743286, 0.639149010181427, 0.10272589325904846, 0.006720385514199734, 0.8899710178375244, 0.9973904490470886, 0.02633361518383026, 0.972697913646698, 0.04067489132285118, 0.9589105844497681, 0.9972065687179565, 0.9890838861465454, 0.9888970255851746, 0.09363097697496414, 0.9050994515419006, 0.9949336647987366, 0.9934535622596741, 0.026416970416903496, 0.9708236455917358, 0.9949899315834045, 0.04971464350819588, 0.1279323399066925, 0.12859520316123962, 0.45538613200187683, 0.2386302798986435, 0.9957727789878845, 0.003068637102842331, 0.9946458339691162, 0.9962725043296814, 0.9983413815498352, 0.9944409132003784, 0.4631911814212799, 0.5366488099098206, 0.998673677444458, 0.023001547902822495, 0.14680400490760803, 0.830085277557373, 0.9973940253257751, 0.9953880310058594, 0.06478483974933624, 0.9324389100074768, 0.9966012239456177, 0.9957791566848755, 0.9935015439987183, 0.99802565574646, 0.9988681674003601, 0.9914925694465637, 0.9914366006851196, 0.9991974830627441, 0.9939581751823425, 0.9976431727409363, 0.9972532987594604, 0.9946359395980835, 0.9972411394119263, 0.9987447261810303, 0.987335205078125, 0.9908127784729004, 0.5213010311126709, 0.3979264497756958, 0.07993282377719879, 0.9944090247154236, 0.9959638714790344, 0.8508318066596985, 0.14861690998077393, 0.9937119483947754, 0.9899207949638367, 0.9888541102409363, 0.997835099697113, 0.019216220825910568, 0.5338767170906067, 0.06934548914432526, 0.14537487924098969, 0.2318478673696518, 0.9992176294326782, 0.4763084948062897, 0.21776029467582703, 0.3057408332824707, 0.9992002248764038, 0.9962035417556763, 0.9983007311820984, 0.9992677569389343, 0.9985910058021545, 0.9971839189529419, 0.9395421147346497, 0.060340266674757004, 0.10424105823040009, 0.8952467441558838, 0.10670024156570435, 0.8931307792663574, 0.1549089401960373, 0.8449578285217285, 0.19025342166423798, 0.8085770606994629, 0.7781915664672852, 0.22121182084083557, 0.998407781124115, 0.9973514080047607, 0.9995194673538208, 0.5892229080200195, 0.037609972059726715, 0.3722423017024994, 0.03196274861693382, 0.8015274405479431, 0.019669385626912117, 0.14629104733467102, 0.9967278838157654, 0.9981430172920227, 0.9932408332824707, 0.9992096424102783, 0.9973958134651184, 0.9995900392532349, 0.8016580939292908, 0.19564275443553925, 0.1582789570093155, 0.2599377930164337, 0.5816429853439331, 0.16193212568759918, 0.6624495983123779, 0.17419970035552979, 0.46495679020881653, 0.5354048013687134, 0.712652862071991, 0.2840283215045929, 0.8401414155960083, 0.15876688063144684, 0.9892313480377197, 0.9990279674530029, 0.6781127452850342, 0.3175971210002899, 0.997861385345459, 0.994419515132904, 0.03828198090195656, 0.9606953859329224, 0.9932150840759277, 0.09907979518175125, 0.9003876447677612, 0.994823157787323, 0.0781029537320137, 0.9198792576789856, 0.9968470335006714, 0.3917261064052582, 0.008928230032324791, 0.5089091062545776, 0.09039833396673203, 0.9996054172515869, 0.9990733861923218, 0.9955224990844727, 0.8482807278633118, 0.15134356915950775, 0.8048904538154602, 0.015215320512652397, 0.066295325756073, 0.11346282064914703, 0.9962725043296814, 0.03948499634861946, 0.584739625453949, 0.09102648496627808, 0.28483453392982483, 0.019051210954785347, 0.6829859614372253, 0.07810996472835541, 0.22004149854183197, 0.0647057443857193, 0.47604942321777344, 0.14481762051582336, 0.3142850399017334, 0.9939466118812561, 0.757394015789032, 0.24286004900932312, 0.9931869506835938, 0.9968487024307251, 0.0036992933601140976, 0.2811462879180908, 0.008323409594595432, 0.0009248233400285244, 0.7056401968002319, 0.9986043572425842, 0.5565699338912964, 0.4425589144229889, 0.9990733861923218, 0.9983130693435669, 0.16822682321071625, 0.8293973803520203, 0.9958743453025818, 0.9975232481956482, 0.9950025081634521, 0.05456653982400894, 0.944932758808136, 0.005669178441166878, 0.061956021934747696, 0.0012148239184170961, 0.00688400212675333, 0.9248859286308289, 0.9982787370681763, 0.9968922138214111, 0.09274858981370926, 0.39093098044395447, 0.018202994018793106, 0.31811898946762085, 0.17942951619625092, 0.9951991438865662, 0.994042694568634, 0.9964122176170349, 0.9988649487495422, 0.768864631652832, 0.2294192910194397, 0.9957428574562073, 0.9995852708816528, 0.9944164156913757, 0.21667760610580444, 0.05222485587000847, 0.7300368547439575, 0.998197615146637, 0.9938648343086243, 0.9934849739074707, 0.06749394536018372, 0.1914624273777008, 0.741055965423584, 0.8371265530586243, 0.1604854017496109, 0.990142822265625, 0.9914155602455139, 0.2742880582809448, 0.5889126062393188, 0.13445493578910828, 0.9939375519752502, 0.9964520931243896, 0.40257367491722107, 0.2988538146018982, 0.23380917310714722, 0.063286691904068, 0.999637246131897, 0.9988741874694824, 0.8109868764877319, 0.18801425397396088, 0.04045426473021507, 0.9564543962478638, 0.9941567182540894, 0.9929285049438477, 0.9945266842842102, 0.10887326300144196, 0.8899956941604614, 0.9917279481887817, 0.995718777179718, 0.9975087642669678, 0.9935485124588013, 0.9929389953613281, 0.9978063106536865, 0.23651549220085144, 0.27261021733283997, 0.49107834696769714, 0.9960214495658875, 0.9963324069976807, 0.9918466210365295, 0.9963316917419434, 0.9949380159378052, 0.999594509601593, 0.9984742403030396, 0.9961979985237122, 0.001445745350793004, 0.9982871413230896, 0.9994892477989197, 0.9984564185142517, 0.9920246005058289, 0.9953489303588867, 0.9981459975242615, 0.7154369354248047, 0.28210318088531494, 0.9990848302841187, 0.994901716709137, 0.9962269067764282, 0.15395978093147278, 0.8451409339904785, 0.9917322993278503, 0.9886904358863831, 0.9917378425598145, 0.005289268679916859, 0.9954952597618103, 0.9363371133804321, 0.06406517326831818, 0.9485535621643066, 0.050473492592573166, 0.8925210237503052, 0.10656967014074326, 0.9947170615196228, 0.4131392538547516, 0.5870926380157471, 0.1394749879837036, 0.8600957989692688, 0.9987444281578064, 0.9969613552093506, 0.9955356121063232, 0.9975441098213196, 0.7622988224029541, 0.022078776732087135, 0.21497756242752075, 0.06606710702180862, 0.6567267775535583, 0.008874686434864998, 0.2682127356529236, 0.14511552453041077, 0.09838340431451797, 0.75632244348526, 0.9976201057434082, 0.9970226883888245, 0.9938711524009705, 0.9994065761566162, 0.8941273093223572, 0.10336731374263763, 0.009138921275734901, 0.721974790096283, 0.2673134505748749, 0.9922058582305908, 0.9941366910934448, 0.07371323555707932, 0.9173202514648438, 0.07602161914110184, 0.7602161765098572, 0.16404664516448975, 0.025479240342974663, 0.34917113184928894, 0.05276766046881676, 0.07161325216293335, 0.5008404850959778, 0.9945560693740845, 0.264504611492157, 0.7312774658203125, 0.0955776795744896, 0.5396332740783691, 0.09050275385379791, 0.2740457355976105, 0.9945266842842102, 0.9987218379974365, 0.9996504187583923, 0.9943079948425293, 0.9968447685241699, 0.9947564005851746, 0.1514844000339508, 0.8474938273429871, 0.9989875555038452], \"Term\": [\"accordingly\", \"acquisition\", \"acquisitions\", \"advice\", \"advice\", \"advice\", \"advice\", \"adviser\", \"advisers\", \"advisors\", \"advisors\", \"advisors\", \"ai\", \"ai\", \"aim\", \"already\", \"always\", \"amazon\", \"amp\", \"april\", \"asia\", \"asset\", \"asset\", \"asset\", \"assetmanagement\", \"assetmanagement\", \"assetmanagement\", \"aum\", \"bank\", \"bank\", \"banking\", \"banking\", \"banks\", \"bigdata\", \"billionaire\", \"blockchain\", \"blockchain\", \"bonds\", \"brand\", \"brexit\", \"brexit\", \"btc\", \"business\", \"business\", \"business\", \"business\", \"business\", \"buy\", \"buy\", \"canadian\", \"capitaladvisors\", \"cfp\", \"chatbots\", \"click\", \"click\", \"client\", \"clients\", \"clients\", \"clients\", \"compliance\", \"conference\", \"crypto\", \"crypto\", \"cryptocurrency\", \"customer\", \"cybersecurity\", \"day\", \"debt\", \"decisions\", \"die\", \"digital\", \"discussing\", \"dividend\", \"don\", \"drive\", \"dubai\", \"education\", \"embrace\", \"entrepreneurship\", \"equity\", \"equity\", \"equity\", \"esg\", \"et\", \"etfs\", \"etfs\", \"ethereum\", \"eur\", \"evening\", \"experience\", \"finance\", \"finance\", \"finance\", \"finance\", \"finance\", \"finances\", \"financial\", \"financial\", \"financial\", \"financialadvice\", \"financialadviser\", \"financialadvisers\", \"financialadvisors\", \"financialeducation\", \"financialfreedom\", \"financialplanning\", \"financialplanning\", \"finserv\", \"finserv\", \"fintech\", \"fintech\", \"firm\", \"firm\", \"firms\", \"firms\", \"forex\", \"forex\", \"forum\", \"forward\", \"ftse\", \"future\", \"future\", \"future\", \"get\", \"get\", \"get\", \"get\", \"globalization\", \"goals\", \"going\", \"gt\", \"guide\", \"healthinsurance\", \"hedgefund\", \"hedgefund\", \"here\", \"here\", \"here\", \"high\", \"high\", \"high\", \"hnw\", \"hnw\", \"hnwi\", \"hnwi\", \"home\", \"home\", \"houston\", \"ianwenik\", \"ifa\", \"ifa\", \"il\", \"inc\", \"income\", \"income\", \"india\", \"industry\", \"industry\", \"infographics\", \"innovation\", \"innovation\", \"insights\", \"insurance\", \"insurance\", \"insurance\", \"insurance\", \"insurancenews\", \"insurancequotes\", \"interview\", \"invest\", \"invest\", \"investing\", \"investing\", \"investing\", \"investing\", \"investmemtadvisor\", \"investment\", \"investment\", \"investment\", \"investment\", \"investments\", \"investments\", \"investments\", \"investments\", \"investors\", \"investors\", \"investors\", \"investors\", \"iot\", \"know\", \"know\", \"le\", \"leading\", \"learn\", \"learn\", \"learn\", \"learn\", \"learn\", \"let\", \"life\", \"life\", \"lifeinsuranceupdater\", \"logical\", \"london\", \"london\", \"los\", \"luxury\", \"machinelearning\", \"make\", \"make\", \"management\", \"management\", \"management\", \"management\", \"management\", \"managers\", \"march\", \"market\", \"market\", \"market\", \"market\", \"market\", \"mercado\", \"michaelkitces\", \"mikequindazzi\", \"million\", \"mind\", \"mind\", \"mobile\", \"money\", \"moneymatters\", \"more\", \"more\", \"more\", \"mumbai\", \"mxn\", \"net\", \"new\", \"new\", \"new\", \"online\", \"online\", \"panel\", \"para\", \"part\", \"part\", \"part\", \"payments\", \"pensions\", \"people\", \"people\", \"people\", \"people\", \"personalfinance\", \"plan\", \"planning\", \"planning\", \"platform\", \"platform\", \"por\", \"post\", \"postrecession\", \"private\", \"private\", \"pts\", \"purnartha\", \"purpose\", \"quarter\", \"que\", \"questions\", \"read\", \"read\", \"read\", \"realestateinvesting\", \"regtech\", \"regulatory\", \"reports\", \"retire\", \"retirement\", \"retirementplanning\", \"returns\", \"ria\", \"ria\", \"rias\", \"right\", \"rising\", \"robo\", \"roboadvisor\", \"roboadvisors\", \"roboadvisors\", \"saving\", \"second\", \"senior\", \"services\", \"services\", \"socialmedia\", \"speak\", \"start\", \"start\", \"statistacharts\", \"stock\", \"stock\", \"stockmarket\", \"stockmarket\", \"stocks\", \"stocks\", \"tangiblealpha\", \"tax\", \"tax\", \"tech\", \"tech\", \"technology\", \"term\", \"thank\", \"therudingroup\", \"time\", \"time\", \"time\", \"today\", \"today\", \"today\", \"today\", \"top\", \"top\", \"top\", \"trade\", \"trends\", \"trusts\", \"tsx\", \"uhnwi\", \"uhnwi\", \"uk\", \"uk\", \"uk\", \"update\", \"usa\", \"usd\", \"usd\", \"visit\", \"visit\", \"visit\", \"wealth\", \"wealth\", \"wealth\", \"wealth\", \"wealth\", \"wealth_mgmt\", \"wealthcreation\", \"wealthcreation\", \"wealthmanagement\", \"wealthmanagement\", \"wealthmanagement\", \"wealthmanagement\", \"wealthmgmt\", \"wealthplanning\", \"wealthtech\", \"win\", \"without\", \"workfromhome\", \"worth\", \"worth\", \"you\"]}, \"R\": 30, \"lambda.step\": 0.01, \"plot.opts\": {\"xlab\": \"PC1\", \"ylab\": \"PC2\"}, \"topic.order\": [1, 2, 3, 4, 5]};\n",
       "\n",
       "function LDAvis_load_lib(url, callback){\n",
       "  var s = document.createElement('script');\n",
       "  s.src = url;\n",
       "  s.async = true;\n",
       "  s.onreadystatechange = s.onload = callback;\n",
       "  s.onerror = function(){console.warn(\"failed to load library \" + url);};\n",
       "  document.getElementsByTagName(\"head\")[0].appendChild(s);\n",
       "}\n",
       "\n",
       "if(typeof(LDAvis) !== \"undefined\"){\n",
       "   // already loaded: just create the visualization\n",
       "   !function(LDAvis){\n",
       "       new LDAvis(\"#\" + \"ldavis_el98002693248250056816097146\", ldavis_el98002693248250056816097146_data);\n",
       "   }(LDAvis);\n",
       "}else if(typeof define === \"function\" && define.amd){\n",
       "   // require.js is available: use it to load d3/LDAvis\n",
       "   require.config({paths: {d3: \"https://cdnjs.cloudflare.com/ajax/libs/d3/3.5.5/d3.min\"}});\n",
       "   require([\"d3\"], function(d3){\n",
       "      window.d3 = d3;\n",
       "      LDAvis_load_lib(\"https://cdn.rawgit.com/bmabey/pyLDAvis/files/ldavis.v1.0.0.js\", function(){\n",
       "        new LDAvis(\"#\" + \"ldavis_el98002693248250056816097146\", ldavis_el98002693248250056816097146_data);\n",
       "      });\n",
       "    });\n",
       "}else{\n",
       "    // require.js not available: dynamically load d3 & LDAvis\n",
       "    LDAvis_load_lib(\"https://cdnjs.cloudflare.com/ajax/libs/d3/3.5.5/d3.min.js\", function(){\n",
       "         LDAvis_load_lib(\"https://cdn.rawgit.com/bmabey/pyLDAvis/files/ldavis.v1.0.0.js\", function(){\n",
       "                 new LDAvis(\"#\" + \"ldavis_el98002693248250056816097146\", ldavis_el98002693248250056816097146_data);\n",
       "            })\n",
       "         });\n",
       "}\n",
       "</script>"
      ],
      "text/plain": [
       "<IPython.core.display.HTML object>"
      ]
     },
     "execution_count": 31,
     "metadata": {},
     "output_type": "execute_result"
    }
   ],
   "source": [
    "import pyLDAvis.gensim\n",
    "lda_display = pyLDAvis.gensim.prepare(lda, corpus, dictionary, sort_topics=False)\n",
    "pyLDAvis.display(lda_display)"
   ]
  },
  {
   "cell_type": "code",
   "execution_count": null,
   "metadata": {},
   "outputs": [],
   "source": []
  }
 ],
 "metadata": {
  "kernelspec": {
   "display_name": "Python 3",
   "language": "python",
   "name": "python3"
  },
  "language_info": {
   "codemirror_mode": {
    "name": "ipython",
    "version": 3
   },
   "file_extension": ".py",
   "mimetype": "text/x-python",
   "name": "python",
   "nbconvert_exporter": "python",
   "pygments_lexer": "ipython3",
   "version": "3.7.4"
  }
 },
 "nbformat": 4,
 "nbformat_minor": 4
}
